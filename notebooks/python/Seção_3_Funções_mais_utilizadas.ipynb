{
  "nbformat": 4,
  "nbformat_minor": 0,
  "metadata": {
    "language_info": {
      "codemirror_mode": {
        "name": "ipython",
        "version": 3
      },
      "file_extension": ".py",
      "mimetype": "text/x-python",
      "name": "python",
      "nbconvert_exporter": "python",
      "pygments_lexer": "ipython3",
      "version": "3.8.5"
    },
    "orig_nbformat": 2,
    "kernelspec": {
      "name": "python3",
      "display_name": "Python 3",
      "language": "python"
    },
    "colab": {
      "name": "Seção_3_Funções_mais_utilizadas.ipynb",
      "provenance": [],
      "collapsed_sections": [
        "h5HSLc5NzfNk",
        "v8KtghG8zfNo",
        "Fb4LnSCcE3k_",
        "MoP7tiQ-GFZk",
        "nK9uagXQGqa2",
        "WxRNyfIvGvBb",
        "XkObpqzjzfNt",
        "bRXzNMLVzfNu",
        "A7mUhCirzfNu",
        "A8cUCKcyzfNv",
        "2lHNuLULzfNx",
        "tnI6zo3LzfNy"
      ],
      "toc_visible": true
    }
  },
  "cells": [
    {
      "cell_type": "markdown",
      "metadata": {
        "id": "IMFR0x8hzfNc"
      },
      "source": [
        "# Seção 3: Funções mais utilizadas"
      ]
    },
    {
      "cell_type": "code",
      "metadata": {
        "id": "r6WYFGzRzfNg"
      },
      "source": [
        "import pyodbc\n",
        "import pandas as pd"
      ],
      "execution_count": null,
      "outputs": []
    },
    {
      "cell_type": "code",
      "metadata": {
        "id": "Qk07yF4nzfNi"
      },
      "source": [
        "# Some other example server values are\n",
        "# server = 'localhost\\sqlexpress' # for a named instance\n",
        "# server = 'myserver,port' # to specify an alternate port\n",
        "server = 'localhost,1433'\n",
        "database = 'AdventureWorks2017'\n",
        "username = 'yyyyyyy' # Usuário \n",
        "password = '{xxxxxxx}' #Password \n",
        "driver = \"{ODBC Driver 17 for SQL Server}\"\n",
        "\n",
        "conn_string = f\"\"\"\n",
        "            DRIVER={driver};\n",
        "            SERVER={server};\n",
        "            DATABASE={database};\n",
        "            UID={username};\n",
        "            PWD={password}\n",
        "            \"\"\"\n",
        "conn = pyodbc.connect(conn_string)"
      ],
      "execution_count": null,
      "outputs": []
    },
    {
      "cell_type": "markdown",
      "metadata": {
        "id": "h5HSLc5NzfNk"
      },
      "source": [
        "## Datepart"
      ]
    },
    {
      "cell_type": "markdown",
      "metadata": {
        "id": "u0oh17wozfNk"
      },
      "source": [
        " Retorna um número inteiro que faz parte de uma data, como um dia, mês e ano.\n",
        "\n",
        " Sintaxe\n",
        "\n",
        " DATEPART(datepart, datecolumnname)\n",
        "\n",
        "\n",
        " \n"
      ]
    },
    {
      "cell_type": "code",
      "metadata": {
        "id": "4k-cIz4IzfNl",
        "outputId": "e2a3608b-2ad2-4a0c-8891-d4070926359d"
      },
      "source": [
        "query = \"\"\"\n",
        "        SELECT SalesOrderID, DATEPART(year,OrderDate) as Ano\n",
        "        FROM Sales.SalesOrderHeader\n",
        "        \"\"\"\n",
        "pd.read_sql(query, conn)"
      ],
      "execution_count": null,
      "outputs": [
        {
          "output_type": "execute_result",
          "data": {
            "text/plain": [
              "       SalesOrderID   Ano\n",
              "0             43659  2011\n",
              "1             43660  2011\n",
              "2             43661  2011\n",
              "3             43662  2011\n",
              "4             43663  2011\n",
              "...             ...   ...\n",
              "31460         75119  2014\n",
              "31461         75120  2014\n",
              "31462         75121  2014\n",
              "31463         75122  2014\n",
              "31464         75123  2014\n",
              "\n",
              "[31465 rows x 2 columns]"
            ],
            "text/html": [
              "<div>\n",
              "<style scoped>\n",
              "    .dataframe tbody tr th:only-of-type {\n",
              "        vertical-align: middle;\n",
              "    }\n",
              "\n",
              "    .dataframe tbody tr th {\n",
              "        vertical-align: top;\n",
              "    }\n",
              "\n",
              "    .dataframe thead th {\n",
              "        text-align: right;\n",
              "    }\n",
              "</style>\n",
              "<table border=\"1\" class=\"dataframe\">\n",
              "  <thead>\n",
              "    <tr style=\"text-align: right;\">\n",
              "      <th></th>\n",
              "      <th>SalesOrderID</th>\n",
              "      <th>Ano</th>\n",
              "    </tr>\n",
              "  </thead>\n",
              "  <tbody>\n",
              "    <tr>\n",
              "      <th>0</th>\n",
              "      <td>43659</td>\n",
              "      <td>2011</td>\n",
              "    </tr>\n",
              "    <tr>\n",
              "      <th>1</th>\n",
              "      <td>43660</td>\n",
              "      <td>2011</td>\n",
              "    </tr>\n",
              "    <tr>\n",
              "      <th>2</th>\n",
              "      <td>43661</td>\n",
              "      <td>2011</td>\n",
              "    </tr>\n",
              "    <tr>\n",
              "      <th>3</th>\n",
              "      <td>43662</td>\n",
              "      <td>2011</td>\n",
              "    </tr>\n",
              "    <tr>\n",
              "      <th>4</th>\n",
              "      <td>43663</td>\n",
              "      <td>2011</td>\n",
              "    </tr>\n",
              "    <tr>\n",
              "      <th>...</th>\n",
              "      <td>...</td>\n",
              "      <td>...</td>\n",
              "    </tr>\n",
              "    <tr>\n",
              "      <th>31460</th>\n",
              "      <td>75119</td>\n",
              "      <td>2014</td>\n",
              "    </tr>\n",
              "    <tr>\n",
              "      <th>31461</th>\n",
              "      <td>75120</td>\n",
              "      <td>2014</td>\n",
              "    </tr>\n",
              "    <tr>\n",
              "      <th>31462</th>\n",
              "      <td>75121</td>\n",
              "      <td>2014</td>\n",
              "    </tr>\n",
              "    <tr>\n",
              "      <th>31463</th>\n",
              "      <td>75122</td>\n",
              "      <td>2014</td>\n",
              "    </tr>\n",
              "    <tr>\n",
              "      <th>31464</th>\n",
              "      <td>75123</td>\n",
              "      <td>2014</td>\n",
              "    </tr>\n",
              "  </tbody>\n",
              "</table>\n",
              "<p>31465 rows × 2 columns</p>\n",
              "</div>"
            ]
          },
          "metadata": {
            "tags": []
          },
          "execution_count": 3
        }
      ]
    },
    {
      "cell_type": "code",
      "metadata": {
        "id": "bEAI_3oezfNn",
        "outputId": "7748a188-96dc-4d47-dabd-8b3a5f139a15"
      },
      "source": [
        "query = \"\"\"\n",
        "        SELECT AVG(TotalDue) as Media, DATEPART(year,OrderDate) as Ano\n",
        "        FROM Sales.SalesOrderHeader\n",
        "        GROUP BY DATEPART(year,OrderDate)\n",
        "        ORDER BY Ano\n",
        "        \"\"\"\n",
        "pd.read_sql(query, conn)"
      ],
      "execution_count": null,
      "outputs": [
        {
          "output_type": "execute_result",
          "data": {
            "text/plain": [
              "       Media   Ano\n",
              "0  8808.7738  2011\n",
              "1  9623.4228  2012\n",
              "2  3452.6786  2013\n",
              "3  1906.2578  2014"
            ],
            "text/html": [
              "<div>\n",
              "<style scoped>\n",
              "    .dataframe tbody tr th:only-of-type {\n",
              "        vertical-align: middle;\n",
              "    }\n",
              "\n",
              "    .dataframe tbody tr th {\n",
              "        vertical-align: top;\n",
              "    }\n",
              "\n",
              "    .dataframe thead th {\n",
              "        text-align: right;\n",
              "    }\n",
              "</style>\n",
              "<table border=\"1\" class=\"dataframe\">\n",
              "  <thead>\n",
              "    <tr style=\"text-align: right;\">\n",
              "      <th></th>\n",
              "      <th>Media</th>\n",
              "      <th>Ano</th>\n",
              "    </tr>\n",
              "  </thead>\n",
              "  <tbody>\n",
              "    <tr>\n",
              "      <th>0</th>\n",
              "      <td>8808.7738</td>\n",
              "      <td>2011</td>\n",
              "    </tr>\n",
              "    <tr>\n",
              "      <th>1</th>\n",
              "      <td>9623.4228</td>\n",
              "      <td>2012</td>\n",
              "    </tr>\n",
              "    <tr>\n",
              "      <th>2</th>\n",
              "      <td>3452.6786</td>\n",
              "      <td>2013</td>\n",
              "    </tr>\n",
              "    <tr>\n",
              "      <th>3</th>\n",
              "      <td>1906.2578</td>\n",
              "      <td>2014</td>\n",
              "    </tr>\n",
              "  </tbody>\n",
              "</table>\n",
              "</div>"
            ]
          },
          "metadata": {
            "tags": []
          },
          "execution_count": 4
        }
      ]
    },
    {
      "cell_type": "markdown",
      "metadata": {
        "id": "v8KtghG8zfNo"
      },
      "source": [
        "## Manipulação de String\n"
      ]
    },
    {
      "cell_type": "markdown",
      "metadata": {
        "id": "Fb4LnSCcE3k_"
      },
      "source": [
        "### CONCAT"
      ]
    },
    {
      "cell_type": "markdown",
      "metadata": {
        "id": "mfiP8ABOzfNp"
      },
      "source": [
        "\n",
        "\n",
        "A função SQL CONCAT é usada para concatenar duas strings para formar uma única string.\n",
        "\n",
        "Sintaxe\n",
        "\n",
        "CONCAT(string1, string2, ...., string_n)\n",
        "\n",
        "\n"
      ]
    },
    {
      "cell_type": "code",
      "metadata": {
        "id": "dPtR3O33zfNp",
        "outputId": "ca269756-06b2-4b4f-dc90-9bd7aa4a090b"
      },
      "source": [
        "query = \"\"\"\n",
        "        SELECT CONCAT(FirstName,' ',LastName)\n",
        "        FROM Person.Person\n",
        "        \"\"\"\n",
        "pd.read_sql(query, conn)"
      ],
      "execution_count": null,
      "outputs": [
        {
          "output_type": "execute_result",
          "data": {
            "text/plain": [
              "                       \n",
              "0            Syed Abbas\n",
              "1        Catherine Abel\n",
              "2       Kim Abercrombie\n",
              "3       Kim Abercrombie\n",
              "4       Kim Abercrombie\n",
              "...                 ...\n",
              "19967   Patricia Zubaty\n",
              "19968     Judy Zugelder\n",
              "19969     Jake Zukowski\n",
              "19970  Michael Zwilling\n",
              "19971  Michael Zwilling\n",
              "\n",
              "[19972 rows x 1 columns]"
            ],
            "text/html": [
              "<div>\n",
              "<style scoped>\n",
              "    .dataframe tbody tr th:only-of-type {\n",
              "        vertical-align: middle;\n",
              "    }\n",
              "\n",
              "    .dataframe tbody tr th {\n",
              "        vertical-align: top;\n",
              "    }\n",
              "\n",
              "    .dataframe thead th {\n",
              "        text-align: right;\n",
              "    }\n",
              "</style>\n",
              "<table border=\"1\" class=\"dataframe\">\n",
              "  <thead>\n",
              "    <tr style=\"text-align: right;\">\n",
              "      <th></th>\n",
              "      <th></th>\n",
              "    </tr>\n",
              "  </thead>\n",
              "  <tbody>\n",
              "    <tr>\n",
              "      <th>0</th>\n",
              "      <td>Syed Abbas</td>\n",
              "    </tr>\n",
              "    <tr>\n",
              "      <th>1</th>\n",
              "      <td>Catherine Abel</td>\n",
              "    </tr>\n",
              "    <tr>\n",
              "      <th>2</th>\n",
              "      <td>Kim Abercrombie</td>\n",
              "    </tr>\n",
              "    <tr>\n",
              "      <th>3</th>\n",
              "      <td>Kim Abercrombie</td>\n",
              "    </tr>\n",
              "    <tr>\n",
              "      <th>4</th>\n",
              "      <td>Kim Abercrombie</td>\n",
              "    </tr>\n",
              "    <tr>\n",
              "      <th>...</th>\n",
              "      <td>...</td>\n",
              "    </tr>\n",
              "    <tr>\n",
              "      <th>19967</th>\n",
              "      <td>Patricia Zubaty</td>\n",
              "    </tr>\n",
              "    <tr>\n",
              "      <th>19968</th>\n",
              "      <td>Judy Zugelder</td>\n",
              "    </tr>\n",
              "    <tr>\n",
              "      <th>19969</th>\n",
              "      <td>Jake Zukowski</td>\n",
              "    </tr>\n",
              "    <tr>\n",
              "      <th>19970</th>\n",
              "      <td>Michael Zwilling</td>\n",
              "    </tr>\n",
              "    <tr>\n",
              "      <th>19971</th>\n",
              "      <td>Michael Zwilling</td>\n",
              "    </tr>\n",
              "  </tbody>\n",
              "</table>\n",
              "<p>19972 rows × 1 columns</p>\n",
              "</div>"
            ]
          },
          "metadata": {
            "tags": []
          },
          "execution_count": 5
        }
      ]
    },
    {
      "cell_type": "markdown",
      "metadata": {
        "id": "MoP7tiQ-GFZk"
      },
      "source": [
        "### UPPER, LOWER E LEN"
      ]
    },
    {
      "cell_type": "markdown",
      "metadata": {
        "id": "okeOYuDAzfNq"
      },
      "source": [
        "\n",
        "\n",
        "**UPPER**\n",
        "\n",
        "Retorna a string str com todos os caracteres alterados para maiúsculas de acordo com o mapeamento do conjunto de caracteres atual.\n",
        "\n",
        "Sintaxe\n",
        "\n",
        "UPPER(text)\n",
        "\n",
        "\n",
        "**LOWER**\n",
        "\n",
        "Retorna a string str com todos os caracteres alterados para minúsculas de acordo com o mapeamento do conjunto de caracteres atual.\n",
        "\n",
        "Sintaxe\n",
        "\n",
        "LOWER(text)\n",
        "\n",
        "\n",
        "**LEN**\n",
        "\n",
        "Retorne o comprimento de uma string.\n",
        "\n",
        "Sintaxe\n",
        "\n",
        "LEN(string)\n",
        "\n",
        "\n",
        "\n",
        "\n"
      ]
    },
    {
      "cell_type": "code",
      "metadata": {
        "id": "6NP6WZguzfNr",
        "outputId": "cb645fa2-b883-4970-e5d1-7b7adb6a6341"
      },
      "source": [
        "query = \"\"\"\n",
        "        SELECT UPPER(FirstName), LOWER(FirstName), LEN(FirstName)\n",
        "        FROM Person.Person\n",
        "        \"\"\"\n",
        "pd.read_sql(query, conn)"
      ],
      "execution_count": null,
      "outputs": [
        {
          "output_type": "execute_result",
          "data": {
            "text/plain": [
              "                              \n",
              "0           SYED       syed  4\n",
              "1      CATHERINE  catherine  9\n",
              "2            KIM        kim  3\n",
              "3            KIM        kim  3\n",
              "4            KIM        kim  3\n",
              "...          ...        ... ..\n",
              "19967   PATRICIA   patricia  8\n",
              "19968       JUDY       judy  4\n",
              "19969       JAKE       jake  4\n",
              "19970    MICHAEL    michael  7\n",
              "19971    MICHAEL    michael  7\n",
              "\n",
              "[19972 rows x 3 columns]"
            ],
            "text/html": [
              "<div>\n",
              "<style scoped>\n",
              "    .dataframe tbody tr th:only-of-type {\n",
              "        vertical-align: middle;\n",
              "    }\n",
              "\n",
              "    .dataframe tbody tr th {\n",
              "        vertical-align: top;\n",
              "    }\n",
              "\n",
              "    .dataframe thead th {\n",
              "        text-align: right;\n",
              "    }\n",
              "</style>\n",
              "<table border=\"1\" class=\"dataframe\">\n",
              "  <thead>\n",
              "    <tr style=\"text-align: right;\">\n",
              "      <th></th>\n",
              "      <th></th>\n",
              "      <th></th>\n",
              "      <th></th>\n",
              "    </tr>\n",
              "  </thead>\n",
              "  <tbody>\n",
              "    <tr>\n",
              "      <th>0</th>\n",
              "      <td>SYED</td>\n",
              "      <td>syed</td>\n",
              "      <td>4</td>\n",
              "    </tr>\n",
              "    <tr>\n",
              "      <th>1</th>\n",
              "      <td>CATHERINE</td>\n",
              "      <td>catherine</td>\n",
              "      <td>9</td>\n",
              "    </tr>\n",
              "    <tr>\n",
              "      <th>2</th>\n",
              "      <td>KIM</td>\n",
              "      <td>kim</td>\n",
              "      <td>3</td>\n",
              "    </tr>\n",
              "    <tr>\n",
              "      <th>3</th>\n",
              "      <td>KIM</td>\n",
              "      <td>kim</td>\n",
              "      <td>3</td>\n",
              "    </tr>\n",
              "    <tr>\n",
              "      <th>4</th>\n",
              "      <td>KIM</td>\n",
              "      <td>kim</td>\n",
              "      <td>3</td>\n",
              "    </tr>\n",
              "    <tr>\n",
              "      <th>...</th>\n",
              "      <td>...</td>\n",
              "      <td>...</td>\n",
              "      <td>...</td>\n",
              "    </tr>\n",
              "    <tr>\n",
              "      <th>19967</th>\n",
              "      <td>PATRICIA</td>\n",
              "      <td>patricia</td>\n",
              "      <td>8</td>\n",
              "    </tr>\n",
              "    <tr>\n",
              "      <th>19968</th>\n",
              "      <td>JUDY</td>\n",
              "      <td>judy</td>\n",
              "      <td>4</td>\n",
              "    </tr>\n",
              "    <tr>\n",
              "      <th>19969</th>\n",
              "      <td>JAKE</td>\n",
              "      <td>jake</td>\n",
              "      <td>4</td>\n",
              "    </tr>\n",
              "    <tr>\n",
              "      <th>19970</th>\n",
              "      <td>MICHAEL</td>\n",
              "      <td>michael</td>\n",
              "      <td>7</td>\n",
              "    </tr>\n",
              "    <tr>\n",
              "      <th>19971</th>\n",
              "      <td>MICHAEL</td>\n",
              "      <td>michael</td>\n",
              "      <td>7</td>\n",
              "    </tr>\n",
              "  </tbody>\n",
              "</table>\n",
              "<p>19972 rows × 3 columns</p>\n",
              "</div>"
            ]
          },
          "metadata": {
            "tags": []
          },
          "execution_count": 6
        }
      ]
    },
    {
      "cell_type": "markdown",
      "metadata": {
        "id": "nK9uagXQGqa2"
      },
      "source": [
        "### SUBSTRING"
      ]
    },
    {
      "cell_type": "markdown",
      "metadata": {
        "id": "yj-YSfP5zfNr"
      },
      "source": [
        "\n",
        "\n",
        "Extrai alguns caracteres de uma string.\n",
        "\n",
        "Sintaxe\n",
        "\n",
        "SUBSTRING(string, start, length)\n",
        "\n",
        "\n"
      ]
    },
    {
      "cell_type": "code",
      "metadata": {
        "id": "Pu7AcO-2zfNs",
        "outputId": "b5729b2b-0726-4d9e-e5d1-b8c03658ea63"
      },
      "source": [
        "query = \"\"\"\n",
        "        SELECT FirstName, SUBSTRING(FirstName,1,2)\n",
        "        FROM Person.Person\n",
        "        \"\"\"\n",
        "pd.read_sql(query, conn)"
      ],
      "execution_count": null,
      "outputs": [
        {
          "output_type": "execute_result",
          "data": {
            "text/plain": [
              "       FirstName    \n",
              "0           Syed  Sy\n",
              "1      Catherine  Ca\n",
              "2            Kim  Ki\n",
              "3            Kim  Ki\n",
              "4            Kim  Ki\n",
              "...          ...  ..\n",
              "19967   Patricia  Pa\n",
              "19968       Judy  Ju\n",
              "19969       Jake  Ja\n",
              "19970    Michael  Mi\n",
              "19971    Michael  Mi\n",
              "\n",
              "[19972 rows x 2 columns]"
            ],
            "text/html": [
              "<div>\n",
              "<style scoped>\n",
              "    .dataframe tbody tr th:only-of-type {\n",
              "        vertical-align: middle;\n",
              "    }\n",
              "\n",
              "    .dataframe tbody tr th {\n",
              "        vertical-align: top;\n",
              "    }\n",
              "\n",
              "    .dataframe thead th {\n",
              "        text-align: right;\n",
              "    }\n",
              "</style>\n",
              "<table border=\"1\" class=\"dataframe\">\n",
              "  <thead>\n",
              "    <tr style=\"text-align: right;\">\n",
              "      <th></th>\n",
              "      <th>FirstName</th>\n",
              "      <th></th>\n",
              "    </tr>\n",
              "  </thead>\n",
              "  <tbody>\n",
              "    <tr>\n",
              "      <th>0</th>\n",
              "      <td>Syed</td>\n",
              "      <td>Sy</td>\n",
              "    </tr>\n",
              "    <tr>\n",
              "      <th>1</th>\n",
              "      <td>Catherine</td>\n",
              "      <td>Ca</td>\n",
              "    </tr>\n",
              "    <tr>\n",
              "      <th>2</th>\n",
              "      <td>Kim</td>\n",
              "      <td>Ki</td>\n",
              "    </tr>\n",
              "    <tr>\n",
              "      <th>3</th>\n",
              "      <td>Kim</td>\n",
              "      <td>Ki</td>\n",
              "    </tr>\n",
              "    <tr>\n",
              "      <th>4</th>\n",
              "      <td>Kim</td>\n",
              "      <td>Ki</td>\n",
              "    </tr>\n",
              "    <tr>\n",
              "      <th>...</th>\n",
              "      <td>...</td>\n",
              "      <td>...</td>\n",
              "    </tr>\n",
              "    <tr>\n",
              "      <th>19967</th>\n",
              "      <td>Patricia</td>\n",
              "      <td>Pa</td>\n",
              "    </tr>\n",
              "    <tr>\n",
              "      <th>19968</th>\n",
              "      <td>Judy</td>\n",
              "      <td>Ju</td>\n",
              "    </tr>\n",
              "    <tr>\n",
              "      <th>19969</th>\n",
              "      <td>Jake</td>\n",
              "      <td>Ja</td>\n",
              "    </tr>\n",
              "    <tr>\n",
              "      <th>19970</th>\n",
              "      <td>Michael</td>\n",
              "      <td>Mi</td>\n",
              "    </tr>\n",
              "    <tr>\n",
              "      <th>19971</th>\n",
              "      <td>Michael</td>\n",
              "      <td>Mi</td>\n",
              "    </tr>\n",
              "  </tbody>\n",
              "</table>\n",
              "<p>19972 rows × 2 columns</p>\n",
              "</div>"
            ]
          },
          "metadata": {
            "tags": []
          },
          "execution_count": 7
        }
      ]
    },
    {
      "cell_type": "markdown",
      "metadata": {
        "id": "dc_4TU_ZzfNs"
      },
      "source": [
        "\n",
        "\n",
        "Substitui todas as ocorrências de uma substring dentro de uma string por uma nova substring.\n",
        "\n",
        "Sintaxe\n",
        "\n",
        "REPLACE(string, old_string, new_string)\n",
        "\n",
        "\n",
        "\n"
      ]
    },
    {
      "cell_type": "markdown",
      "metadata": {
        "id": "WxRNyfIvGvBb"
      },
      "source": [
        "### REPLACE"
      ]
    },
    {
      "cell_type": "code",
      "metadata": {
        "id": "HKYAzRZtzfNt",
        "outputId": "44b02338-743b-4968-fbc9-b6622e18643d"
      },
      "source": [
        "query = \"\"\"\n",
        "        SELECT ProductNumber, REPLACE(ProductNumber,'-','#')\n",
        "        FROM Production.Product\n",
        "        \"\"\"\n",
        "pd.read_sql(query, conn)"
      ],
      "execution_count": null,
      "outputs": [
        {
          "output_type": "execute_result",
          "data": {
            "text/plain": [
              "    ProductNumber           \n",
              "0         AR-5381    AR#5381\n",
              "1         BA-8327    BA#8327\n",
              "2         BB-7421    BB#7421\n",
              "3         BB-8107    BB#8107\n",
              "4         BB-9108    BB#9108\n",
              "..            ...        ...\n",
              "499       TT-T092    TT#T092\n",
              "500     VE-C304-L  VE#C304#L\n",
              "501     VE-C304-M  VE#C304#M\n",
              "502     VE-C304-S  VE#C304#S\n",
              "503       WB-H098    WB#H098\n",
              "\n",
              "[504 rows x 2 columns]"
            ],
            "text/html": [
              "<div>\n",
              "<style scoped>\n",
              "    .dataframe tbody tr th:only-of-type {\n",
              "        vertical-align: middle;\n",
              "    }\n",
              "\n",
              "    .dataframe tbody tr th {\n",
              "        vertical-align: top;\n",
              "    }\n",
              "\n",
              "    .dataframe thead th {\n",
              "        text-align: right;\n",
              "    }\n",
              "</style>\n",
              "<table border=\"1\" class=\"dataframe\">\n",
              "  <thead>\n",
              "    <tr style=\"text-align: right;\">\n",
              "      <th></th>\n",
              "      <th>ProductNumber</th>\n",
              "      <th></th>\n",
              "    </tr>\n",
              "  </thead>\n",
              "  <tbody>\n",
              "    <tr>\n",
              "      <th>0</th>\n",
              "      <td>AR-5381</td>\n",
              "      <td>AR#5381</td>\n",
              "    </tr>\n",
              "    <tr>\n",
              "      <th>1</th>\n",
              "      <td>BA-8327</td>\n",
              "      <td>BA#8327</td>\n",
              "    </tr>\n",
              "    <tr>\n",
              "      <th>2</th>\n",
              "      <td>BB-7421</td>\n",
              "      <td>BB#7421</td>\n",
              "    </tr>\n",
              "    <tr>\n",
              "      <th>3</th>\n",
              "      <td>BB-8107</td>\n",
              "      <td>BB#8107</td>\n",
              "    </tr>\n",
              "    <tr>\n",
              "      <th>4</th>\n",
              "      <td>BB-9108</td>\n",
              "      <td>BB#9108</td>\n",
              "    </tr>\n",
              "    <tr>\n",
              "      <th>...</th>\n",
              "      <td>...</td>\n",
              "      <td>...</td>\n",
              "    </tr>\n",
              "    <tr>\n",
              "      <th>499</th>\n",
              "      <td>TT-T092</td>\n",
              "      <td>TT#T092</td>\n",
              "    </tr>\n",
              "    <tr>\n",
              "      <th>500</th>\n",
              "      <td>VE-C304-L</td>\n",
              "      <td>VE#C304#L</td>\n",
              "    </tr>\n",
              "    <tr>\n",
              "      <th>501</th>\n",
              "      <td>VE-C304-M</td>\n",
              "      <td>VE#C304#M</td>\n",
              "    </tr>\n",
              "    <tr>\n",
              "      <th>502</th>\n",
              "      <td>VE-C304-S</td>\n",
              "      <td>VE#C304#S</td>\n",
              "    </tr>\n",
              "    <tr>\n",
              "      <th>503</th>\n",
              "      <td>WB-H098</td>\n",
              "      <td>WB#H098</td>\n",
              "    </tr>\n",
              "  </tbody>\n",
              "</table>\n",
              "<p>504 rows × 2 columns</p>\n",
              "</div>"
            ]
          },
          "metadata": {
            "tags": []
          },
          "execution_count": 8
        }
      ]
    },
    {
      "cell_type": "markdown",
      "metadata": {
        "id": "XkObpqzjzfNt"
      },
      "source": [
        "## Operações Matemáticas"
      ]
    },
    {
      "cell_type": "markdown",
      "metadata": {
        "id": "bRXzNMLVzfNu"
      },
      "source": [
        "### Adicao e Subtração"
      ]
    },
    {
      "cell_type": "code",
      "metadata": {
        "id": "tNZF2QDhzfNu",
        "outputId": "ac454770-ae6b-4cb8-b2cb-37c2bdd1e19b"
      },
      "source": [
        "query = \"\"\"\n",
        "        SELECT UnitPrice + LineTotal Adicao, UnitPrice - LineTotal Subtracao\n",
        "        FROM Sales.SalesOrderDetail;\n",
        "        \"\"\"\n",
        "pd.read_sql(query, conn)"
      ],
      "execution_count": null,
      "outputs": [
        {
          "output_type": "execute_result",
          "data": {
            "text/plain": [
              "          Adicao  Subtracao\n",
              "0       4049.988      0.000\n",
              "1       8099.976  -4049.988\n",
              "2       4049.988      0.000\n",
              "3       4079.988      0.000\n",
              "4       4079.988      0.000\n",
              "...          ...        ...\n",
              "121312    43.960      0.000\n",
              "121313    17.980      0.000\n",
              "121314    43.960      0.000\n",
              "121315   318.000      0.000\n",
              "121316    17.980      0.000\n",
              "\n",
              "[121317 rows x 2 columns]"
            ],
            "text/html": [
              "<div>\n",
              "<style scoped>\n",
              "    .dataframe tbody tr th:only-of-type {\n",
              "        vertical-align: middle;\n",
              "    }\n",
              "\n",
              "    .dataframe tbody tr th {\n",
              "        vertical-align: top;\n",
              "    }\n",
              "\n",
              "    .dataframe thead th {\n",
              "        text-align: right;\n",
              "    }\n",
              "</style>\n",
              "<table border=\"1\" class=\"dataframe\">\n",
              "  <thead>\n",
              "    <tr style=\"text-align: right;\">\n",
              "      <th></th>\n",
              "      <th>Adicao</th>\n",
              "      <th>Subtracao</th>\n",
              "    </tr>\n",
              "  </thead>\n",
              "  <tbody>\n",
              "    <tr>\n",
              "      <th>0</th>\n",
              "      <td>4049.988</td>\n",
              "      <td>0.000</td>\n",
              "    </tr>\n",
              "    <tr>\n",
              "      <th>1</th>\n",
              "      <td>8099.976</td>\n",
              "      <td>-4049.988</td>\n",
              "    </tr>\n",
              "    <tr>\n",
              "      <th>2</th>\n",
              "      <td>4049.988</td>\n",
              "      <td>0.000</td>\n",
              "    </tr>\n",
              "    <tr>\n",
              "      <th>3</th>\n",
              "      <td>4079.988</td>\n",
              "      <td>0.000</td>\n",
              "    </tr>\n",
              "    <tr>\n",
              "      <th>4</th>\n",
              "      <td>4079.988</td>\n",
              "      <td>0.000</td>\n",
              "    </tr>\n",
              "    <tr>\n",
              "      <th>...</th>\n",
              "      <td>...</td>\n",
              "      <td>...</td>\n",
              "    </tr>\n",
              "    <tr>\n",
              "      <th>121312</th>\n",
              "      <td>43.960</td>\n",
              "      <td>0.000</td>\n",
              "    </tr>\n",
              "    <tr>\n",
              "      <th>121313</th>\n",
              "      <td>17.980</td>\n",
              "      <td>0.000</td>\n",
              "    </tr>\n",
              "    <tr>\n",
              "      <th>121314</th>\n",
              "      <td>43.960</td>\n",
              "      <td>0.000</td>\n",
              "    </tr>\n",
              "    <tr>\n",
              "      <th>121315</th>\n",
              "      <td>318.000</td>\n",
              "      <td>0.000</td>\n",
              "    </tr>\n",
              "    <tr>\n",
              "      <th>121316</th>\n",
              "      <td>17.980</td>\n",
              "      <td>0.000</td>\n",
              "    </tr>\n",
              "  </tbody>\n",
              "</table>\n",
              "<p>121317 rows × 2 columns</p>\n",
              "</div>"
            ]
          },
          "metadata": {
            "tags": []
          },
          "execution_count": 9
        }
      ]
    },
    {
      "cell_type": "markdown",
      "metadata": {
        "id": "A7mUhCirzfNu"
      },
      "source": [
        "### Multiplicacao e Divisao"
      ]
    },
    {
      "cell_type": "code",
      "metadata": {
        "id": "HQhkXrjHzfNu",
        "outputId": "1cc47843-5edc-4810-d99b-3363b0058f52"
      },
      "source": [
        "query = \"\"\"\n",
        "        SELECT UnitPrice * LineTotal Multiplicacao, UnitPrice / LineTotal Divisao\n",
        "        FROM Sales.SalesOrderDetail;\n",
        "        \"\"\"\n",
        "pd.read_sql(query, conn)"
      ],
      "execution_count": null,
      "outputs": [
        {
          "output_type": "execute_result",
          "data": {
            "text/plain": [
              "        Multiplicacao   Divisao\n",
              "0        4.100601e+06  1.000000\n",
              "1        1.230180e+07  0.333333\n",
              "2        4.100601e+06  1.000000\n",
              "3        4.161576e+06  1.000000\n",
              "4        4.161576e+06  1.000000\n",
              "...               ...       ...\n",
              "121312   4.831204e+02  1.000000\n",
              "121313   8.082010e+01  1.000000\n",
              "121314   4.831204e+02  1.000000\n",
              "121315   2.528100e+04  1.000000\n",
              "121316   8.082010e+01  1.000000\n",
              "\n",
              "[121317 rows x 2 columns]"
            ],
            "text/html": [
              "<div>\n",
              "<style scoped>\n",
              "    .dataframe tbody tr th:only-of-type {\n",
              "        vertical-align: middle;\n",
              "    }\n",
              "\n",
              "    .dataframe tbody tr th {\n",
              "        vertical-align: top;\n",
              "    }\n",
              "\n",
              "    .dataframe thead th {\n",
              "        text-align: right;\n",
              "    }\n",
              "</style>\n",
              "<table border=\"1\" class=\"dataframe\">\n",
              "  <thead>\n",
              "    <tr style=\"text-align: right;\">\n",
              "      <th></th>\n",
              "      <th>Multiplicacao</th>\n",
              "      <th>Divisao</th>\n",
              "    </tr>\n",
              "  </thead>\n",
              "  <tbody>\n",
              "    <tr>\n",
              "      <th>0</th>\n",
              "      <td>4.100601e+06</td>\n",
              "      <td>1.000000</td>\n",
              "    </tr>\n",
              "    <tr>\n",
              "      <th>1</th>\n",
              "      <td>1.230180e+07</td>\n",
              "      <td>0.333333</td>\n",
              "    </tr>\n",
              "    <tr>\n",
              "      <th>2</th>\n",
              "      <td>4.100601e+06</td>\n",
              "      <td>1.000000</td>\n",
              "    </tr>\n",
              "    <tr>\n",
              "      <th>3</th>\n",
              "      <td>4.161576e+06</td>\n",
              "      <td>1.000000</td>\n",
              "    </tr>\n",
              "    <tr>\n",
              "      <th>4</th>\n",
              "      <td>4.161576e+06</td>\n",
              "      <td>1.000000</td>\n",
              "    </tr>\n",
              "    <tr>\n",
              "      <th>...</th>\n",
              "      <td>...</td>\n",
              "      <td>...</td>\n",
              "    </tr>\n",
              "    <tr>\n",
              "      <th>121312</th>\n",
              "      <td>4.831204e+02</td>\n",
              "      <td>1.000000</td>\n",
              "    </tr>\n",
              "    <tr>\n",
              "      <th>121313</th>\n",
              "      <td>8.082010e+01</td>\n",
              "      <td>1.000000</td>\n",
              "    </tr>\n",
              "    <tr>\n",
              "      <th>121314</th>\n",
              "      <td>4.831204e+02</td>\n",
              "      <td>1.000000</td>\n",
              "    </tr>\n",
              "    <tr>\n",
              "      <th>121315</th>\n",
              "      <td>2.528100e+04</td>\n",
              "      <td>1.000000</td>\n",
              "    </tr>\n",
              "    <tr>\n",
              "      <th>121316</th>\n",
              "      <td>8.082010e+01</td>\n",
              "      <td>1.000000</td>\n",
              "    </tr>\n",
              "  </tbody>\n",
              "</table>\n",
              "<p>121317 rows × 2 columns</p>\n",
              "</div>"
            ]
          },
          "metadata": {
            "tags": []
          },
          "execution_count": 10
        }
      ]
    },
    {
      "cell_type": "markdown",
      "metadata": {
        "id": "A8cUCKcyzfNv"
      },
      "source": [
        "### AVG SUM MIN MAX"
      ]
    },
    {
      "cell_type": "code",
      "metadata": {
        "id": "H2x4KX7UzfNw",
        "outputId": "5cd88182-4746-4c20-8e71-515ffa0432c4"
      },
      "source": [
        "query = \"\"\"\n",
        "        SELECT AVG(LineTotal) Media, SUM(LineTotal) Soma, MIN(LineTotal) Minimo, MAX(LineTotal) Maximo\n",
        "        FROM Sales.SalesOrderDetail;\n",
        "        \"\"\"\n",
        "pd.read_sql(query, conn)"
      ],
      "execution_count": null,
      "outputs": [
        {
          "output_type": "execute_result",
          "data": {
            "text/plain": [
              "        Media          Soma  Minimo     Maximo\n",
              "0  905.449206  1.098464e+08   1.374  27893.619"
            ],
            "text/html": [
              "<div>\n",
              "<style scoped>\n",
              "    .dataframe tbody tr th:only-of-type {\n",
              "        vertical-align: middle;\n",
              "    }\n",
              "\n",
              "    .dataframe tbody tr th {\n",
              "        vertical-align: top;\n",
              "    }\n",
              "\n",
              "    .dataframe thead th {\n",
              "        text-align: right;\n",
              "    }\n",
              "</style>\n",
              "<table border=\"1\" class=\"dataframe\">\n",
              "  <thead>\n",
              "    <tr style=\"text-align: right;\">\n",
              "      <th></th>\n",
              "      <th>Media</th>\n",
              "      <th>Soma</th>\n",
              "      <th>Minimo</th>\n",
              "      <th>Maximo</th>\n",
              "    </tr>\n",
              "  </thead>\n",
              "  <tbody>\n",
              "    <tr>\n",
              "      <th>0</th>\n",
              "      <td>905.449206</td>\n",
              "      <td>1.098464e+08</td>\n",
              "      <td>1.374</td>\n",
              "      <td>27893.619</td>\n",
              "    </tr>\n",
              "  </tbody>\n",
              "</table>\n",
              "</div>"
            ]
          },
          "metadata": {
            "tags": []
          },
          "execution_count": 11
        }
      ]
    },
    {
      "cell_type": "markdown",
      "metadata": {
        "id": "2lHNuLULzfNx"
      },
      "source": [
        "### ROUND\n",
        "\n",
        "Arredonda um número para um número especificado de casas decimais.\n",
        "\n",
        "Sintaxe\n",
        "\n",
        "ROUND(number, decimals, operation)"
      ]
    },
    {
      "cell_type": "code",
      "metadata": {
        "id": "P5xkE0ffzfNy",
        "outputId": "5bbb7621-4eda-4950-c45c-fd458297a17d"
      },
      "source": [
        "query = \"\"\"\n",
        "        SELECT LineTotal, ROUND(LineTotal,2)\n",
        "        FROM Sales.SalesOrderDetail;\n",
        "        \"\"\"\n",
        "pd.read_sql(query, conn)"
      ],
      "execution_count": null,
      "outputs": [
        {
          "output_type": "execute_result",
          "data": {
            "text/plain": [
              "        LineTotal         \n",
              "0        2024.994  2024.99\n",
              "1        6074.982  6074.98\n",
              "2        2024.994  2024.99\n",
              "3        2039.994  2039.99\n",
              "4        2039.994  2039.99\n",
              "...           ...      ...\n",
              "121312     21.980    21.98\n",
              "121313      8.990     8.99\n",
              "121314     21.980    21.98\n",
              "121315    159.000   159.00\n",
              "121316      8.990     8.99\n",
              "\n",
              "[121317 rows x 2 columns]"
            ],
            "text/html": [
              "<div>\n",
              "<style scoped>\n",
              "    .dataframe tbody tr th:only-of-type {\n",
              "        vertical-align: middle;\n",
              "    }\n",
              "\n",
              "    .dataframe tbody tr th {\n",
              "        vertical-align: top;\n",
              "    }\n",
              "\n",
              "    .dataframe thead th {\n",
              "        text-align: right;\n",
              "    }\n",
              "</style>\n",
              "<table border=\"1\" class=\"dataframe\">\n",
              "  <thead>\n",
              "    <tr style=\"text-align: right;\">\n",
              "      <th></th>\n",
              "      <th>LineTotal</th>\n",
              "      <th></th>\n",
              "    </tr>\n",
              "  </thead>\n",
              "  <tbody>\n",
              "    <tr>\n",
              "      <th>0</th>\n",
              "      <td>2024.994</td>\n",
              "      <td>2024.99</td>\n",
              "    </tr>\n",
              "    <tr>\n",
              "      <th>1</th>\n",
              "      <td>6074.982</td>\n",
              "      <td>6074.98</td>\n",
              "    </tr>\n",
              "    <tr>\n",
              "      <th>2</th>\n",
              "      <td>2024.994</td>\n",
              "      <td>2024.99</td>\n",
              "    </tr>\n",
              "    <tr>\n",
              "      <th>3</th>\n",
              "      <td>2039.994</td>\n",
              "      <td>2039.99</td>\n",
              "    </tr>\n",
              "    <tr>\n",
              "      <th>4</th>\n",
              "      <td>2039.994</td>\n",
              "      <td>2039.99</td>\n",
              "    </tr>\n",
              "    <tr>\n",
              "      <th>...</th>\n",
              "      <td>...</td>\n",
              "      <td>...</td>\n",
              "    </tr>\n",
              "    <tr>\n",
              "      <th>121312</th>\n",
              "      <td>21.980</td>\n",
              "      <td>21.98</td>\n",
              "    </tr>\n",
              "    <tr>\n",
              "      <th>121313</th>\n",
              "      <td>8.990</td>\n",
              "      <td>8.99</td>\n",
              "    </tr>\n",
              "    <tr>\n",
              "      <th>121314</th>\n",
              "      <td>21.980</td>\n",
              "      <td>21.98</td>\n",
              "    </tr>\n",
              "    <tr>\n",
              "      <th>121315</th>\n",
              "      <td>159.000</td>\n",
              "      <td>159.00</td>\n",
              "    </tr>\n",
              "    <tr>\n",
              "      <th>121316</th>\n",
              "      <td>8.990</td>\n",
              "      <td>8.99</td>\n",
              "    </tr>\n",
              "  </tbody>\n",
              "</table>\n",
              "<p>121317 rows × 2 columns</p>\n",
              "</div>"
            ]
          },
          "metadata": {
            "tags": []
          },
          "execution_count": 12
        }
      ]
    },
    {
      "cell_type": "markdown",
      "metadata": {
        "id": "tnI6zo3LzfNy"
      },
      "source": [
        "### SQRT\n",
        "\n",
        "Retorna a raiz quadrada de um número\n",
        "\n",
        "Sintaxe\n",
        "\n",
        "ROUND(number, decimals, operation)"
      ]
    },
    {
      "cell_type": "code",
      "metadata": {
        "id": "Y6Twq63wzfNy",
        "outputId": "404da1dc-6640-4704-a53b-634ef1a67ef2"
      },
      "source": [
        "query = \"\"\"\n",
        "        SELECT SQRT(LineTotal)\n",
        "        FROM Sales.SalesOrderDetail;\n",
        "        \"\"\"\n",
        "pd.read_sql(query, conn)"
      ],
      "execution_count": null,
      "outputs": [
        {
          "output_type": "execute_result",
          "data": {
            "text/plain": [
              "                 \n",
              "0       44.999933\n",
              "1       77.942171\n",
              "2       44.999933\n",
              "3       45.166293\n",
              "4       45.166293\n",
              "...           ...\n",
              "121312   4.688283\n",
              "121313   2.998333\n",
              "121314   4.688283\n",
              "121315  12.609520\n",
              "121316   2.998333\n",
              "\n",
              "[121317 rows x 1 columns]"
            ],
            "text/html": [
              "<div>\n",
              "<style scoped>\n",
              "    .dataframe tbody tr th:only-of-type {\n",
              "        vertical-align: middle;\n",
              "    }\n",
              "\n",
              "    .dataframe tbody tr th {\n",
              "        vertical-align: top;\n",
              "    }\n",
              "\n",
              "    .dataframe thead th {\n",
              "        text-align: right;\n",
              "    }\n",
              "</style>\n",
              "<table border=\"1\" class=\"dataframe\">\n",
              "  <thead>\n",
              "    <tr style=\"text-align: right;\">\n",
              "      <th></th>\n",
              "      <th></th>\n",
              "    </tr>\n",
              "  </thead>\n",
              "  <tbody>\n",
              "    <tr>\n",
              "      <th>0</th>\n",
              "      <td>44.999933</td>\n",
              "    </tr>\n",
              "    <tr>\n",
              "      <th>1</th>\n",
              "      <td>77.942171</td>\n",
              "    </tr>\n",
              "    <tr>\n",
              "      <th>2</th>\n",
              "      <td>44.999933</td>\n",
              "    </tr>\n",
              "    <tr>\n",
              "      <th>3</th>\n",
              "      <td>45.166293</td>\n",
              "    </tr>\n",
              "    <tr>\n",
              "      <th>4</th>\n",
              "      <td>45.166293</td>\n",
              "    </tr>\n",
              "    <tr>\n",
              "      <th>...</th>\n",
              "      <td>...</td>\n",
              "    </tr>\n",
              "    <tr>\n",
              "      <th>121312</th>\n",
              "      <td>4.688283</td>\n",
              "    </tr>\n",
              "    <tr>\n",
              "      <th>121313</th>\n",
              "      <td>2.998333</td>\n",
              "    </tr>\n",
              "    <tr>\n",
              "      <th>121314</th>\n",
              "      <td>4.688283</td>\n",
              "    </tr>\n",
              "    <tr>\n",
              "      <th>121315</th>\n",
              "      <td>12.609520</td>\n",
              "    </tr>\n",
              "    <tr>\n",
              "      <th>121316</th>\n",
              "      <td>2.998333</td>\n",
              "    </tr>\n",
              "  </tbody>\n",
              "</table>\n",
              "<p>121317 rows × 1 columns</p>\n",
              "</div>"
            ]
          },
          "metadata": {
            "tags": []
          },
          "execution_count": 13
        }
      ]
    }
  ]
}