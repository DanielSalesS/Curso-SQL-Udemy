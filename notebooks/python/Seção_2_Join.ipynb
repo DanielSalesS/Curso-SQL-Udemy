{
  "nbformat": 4,
  "nbformat_minor": 0,
  "metadata": {
    "language_info": {
      "codemirror_mode": {
        "name": "ipython",
        "version": 3
      },
      "file_extension": ".py",
      "mimetype": "text/x-python",
      "name": "python",
      "nbconvert_exporter": "python",
      "pygments_lexer": "ipython3",
      "version": "3.8.5"
    },
    "orig_nbformat": 2,
    "kernelspec": {
      "name": "python3",
      "display_name": "Python 3",
      "language": "python"
    },
    "colab": {
      "name": "Seção_2_Join.ipynb",
      "provenance": [],
      "collapsed_sections": [
        "LB7-YZWWVG_i",
        "yjE2oSNVVG_n",
        "VLY_WNulVG_o",
        "ihXg9hUBVG_p",
        "x-eT4R1wVG_r",
        "j4LD5ZbwVG_y",
        "xuMakPHLVG_0",
        "2yrfl7M_VG_0",
        "adfiEQTvVG_5",
        "uC6aA5qcVG_8"
      ],
      "toc_visible": true
    }
  },
  "cells": [
    {
      "cell_type": "markdown",
      "metadata": {
        "id": "rZgK6oYBVG_a"
      },
      "source": [
        "# Seção 2: Join"
      ]
    },
    {
      "cell_type": "markdown",
      "metadata": {
        "id": "_1alqnneVG_e"
      },
      "source": [
        "A cláusula SQL Join é usada para combinar registros de duas ou mais tabelas em um banco de dados. Um JOIN é um meio de combinar campos de duas tabelas usando valores comuns a cada uma."
      ]
    },
    {
      "cell_type": "code",
      "metadata": {
        "id": "o6MgkevRVG_f"
      },
      "source": [
        "import pyodbc\n",
        "import pandas as pd"
      ],
      "execution_count": 2,
      "outputs": []
    },
    {
      "cell_type": "code",
      "metadata": {
        "id": "6WWKja14VG_h"
      },
      "source": [
        "# Some other example server values are\n",
        "# server = 'localhost\\sqlexpress' # for a named instance\n",
        "# server = 'myserver,port' # to specify an alternate port\n",
        "server = 'localhost,1433'\n",
        "database = 'AdventureWorks2017'\n",
        "username = 'yyyyyyy' # Usuário \n",
        "password = '{xxxxxxx}' #Password \n",
        "driver = \"{ODBC Driver 17 for SQL Server}\"\n",
        "\n",
        "conn_string = f\"\"\"\n",
        "            DRIVER={driver};\n",
        "            SERVER={server};\n",
        "            DATABASE={database};\n",
        "            UID={username};\n",
        "            PWD={password}\n",
        "            \"\"\"\n",
        "conn = pyodbc.connect(conn_string)"
      ],
      "execution_count": 3,
      "outputs": []
    },
    {
      "cell_type": "markdown",
      "metadata": {
        "id": "LB7-YZWWVG_i"
      },
      "source": [
        "## Inner Join"
      ]
    },
    {
      "cell_type": "markdown",
      "metadata": {
        "id": "XliSzb6SVG_j"
      },
      "source": [
        "A mais importante e frequentemente usada das junções é a INNER JOIN. Eles também são chamados de EQUIJOIN.\n",
        "\n",
        "O INNER JOIN cria uma nova tabela de resultados combinando valores de coluna de duas tabelas (tabela1 e tabela2) com base no predicado de junção. A consulta compara cada linha da tabela1 com cada linha da tabela2 para encontrar todos os pares de linhas que satisfazem o predicado de junção. Quando o predicado de junção é satisfeito, os valores da coluna para cada par correspondente de linhas de A e B são combinados em uma linha de resultado.\n",
        "\n",
        "Sintaxe\n",
        "\n",
        "SELECT table1.column1, table2.column2...\n",
        "\n",
        "FROM table1\n",
        "\n",
        "INNER JOIN table2\n",
        "\n",
        "ON table1.common_field = table2.common_field"
      ]
    },
    {
      "cell_type": "code",
      "metadata": {
        "id": "xwAhRJTqVG_j",
        "outputId": "cd1d0ebd-017a-4019-a945-903995f92a8f"
      },
      "source": [
        "query = \"\"\"\n",
        "        SELECT TOP 4 *\n",
        "        FROM Person.Person;\n",
        "        \"\"\"\n",
        "pd.read_sql(query, conn)"
      ],
      "execution_count": 4,
      "outputs": [
        {
          "output_type": "execute_result",
          "data": {
            "text/plain": [
              "   BusinessEntityID PersonType  NameStyle Title FirstName MiddleName  \\\n",
              "0                 1         EM      False  None       Ken          J   \n",
              "1                 2         EM      False  None     Terri        Lee   \n",
              "2                 3         EM      False  None   Roberto       None   \n",
              "3                 4         EM      False  None       Rob       None   \n",
              "\n",
              "     LastName Suffix  EmailPromotion AdditionalContactInfo  \\\n",
              "0     Sánchez   None               0                  None   \n",
              "1       Duffy   None               1                  None   \n",
              "2  Tamburello   None               0                  None   \n",
              "3     Walters   None               0                  None   \n",
              "\n",
              "                                        Demographics  \\\n",
              "0  <IndividualSurvey xmlns=\"http://schemas.micros...   \n",
              "1  <IndividualSurvey xmlns=\"http://schemas.micros...   \n",
              "2  <IndividualSurvey xmlns=\"http://schemas.micros...   \n",
              "3  <IndividualSurvey xmlns=\"http://schemas.micros...   \n",
              "\n",
              "                                rowguid ModifiedDate  \n",
              "0  92C4279F-1207-48A3-8448-4636514EB7E2   2009-01-07  \n",
              "1  D8763459-8AA8-47CC-AFF7-C9079AF79033   2008-01-24  \n",
              "2  E1A2555E-0828-434B-A33B-6F38136A37DE   2007-11-04  \n",
              "3  F2D7CE06-38B3-4357-805B-F4B6B71C01FF   2007-11-28  "
            ],
            "text/html": "<div>\n<style scoped>\n    .dataframe tbody tr th:only-of-type {\n        vertical-align: middle;\n    }\n\n    .dataframe tbody tr th {\n        vertical-align: top;\n    }\n\n    .dataframe thead th {\n        text-align: right;\n    }\n</style>\n<table border=\"1\" class=\"dataframe\">\n  <thead>\n    <tr style=\"text-align: right;\">\n      <th></th>\n      <th>BusinessEntityID</th>\n      <th>PersonType</th>\n      <th>NameStyle</th>\n      <th>Title</th>\n      <th>FirstName</th>\n      <th>MiddleName</th>\n      <th>LastName</th>\n      <th>Suffix</th>\n      <th>EmailPromotion</th>\n      <th>AdditionalContactInfo</th>\n      <th>Demographics</th>\n      <th>rowguid</th>\n      <th>ModifiedDate</th>\n    </tr>\n  </thead>\n  <tbody>\n    <tr>\n      <th>0</th>\n      <td>1</td>\n      <td>EM</td>\n      <td>False</td>\n      <td>None</td>\n      <td>Ken</td>\n      <td>J</td>\n      <td>Sánchez</td>\n      <td>None</td>\n      <td>0</td>\n      <td>None</td>\n      <td>&lt;IndividualSurvey xmlns=\"http://schemas.micros...</td>\n      <td>92C4279F-1207-48A3-8448-4636514EB7E2</td>\n      <td>2009-01-07</td>\n    </tr>\n    <tr>\n      <th>1</th>\n      <td>2</td>\n      <td>EM</td>\n      <td>False</td>\n      <td>None</td>\n      <td>Terri</td>\n      <td>Lee</td>\n      <td>Duffy</td>\n      <td>None</td>\n      <td>1</td>\n      <td>None</td>\n      <td>&lt;IndividualSurvey xmlns=\"http://schemas.micros...</td>\n      <td>D8763459-8AA8-47CC-AFF7-C9079AF79033</td>\n      <td>2008-01-24</td>\n    </tr>\n    <tr>\n      <th>2</th>\n      <td>3</td>\n      <td>EM</td>\n      <td>False</td>\n      <td>None</td>\n      <td>Roberto</td>\n      <td>None</td>\n      <td>Tamburello</td>\n      <td>None</td>\n      <td>0</td>\n      <td>None</td>\n      <td>&lt;IndividualSurvey xmlns=\"http://schemas.micros...</td>\n      <td>E1A2555E-0828-434B-A33B-6F38136A37DE</td>\n      <td>2007-11-04</td>\n    </tr>\n    <tr>\n      <th>3</th>\n      <td>4</td>\n      <td>EM</td>\n      <td>False</td>\n      <td>None</td>\n      <td>Rob</td>\n      <td>None</td>\n      <td>Walters</td>\n      <td>None</td>\n      <td>0</td>\n      <td>None</td>\n      <td>&lt;IndividualSurvey xmlns=\"http://schemas.micros...</td>\n      <td>F2D7CE06-38B3-4357-805B-F4B6B71C01FF</td>\n      <td>2007-11-28</td>\n    </tr>\n  </tbody>\n</table>\n</div>"
          },
          "metadata": {},
          "execution_count": 4
        }
      ]
    },
    {
      "cell_type": "code",
      "metadata": {
        "id": "nuI0CJwIVG_l",
        "outputId": "308e1a5f-26a9-485d-b237-95ddd3fbd346"
      },
      "source": [
        "query = \"\"\"\n",
        "        SELECT TOP 4 *\n",
        "        FROM  Person.EmailAddress;\n",
        "        \"\"\"\n",
        "pd.read_sql(query, conn)"
      ],
      "execution_count": 5,
      "outputs": [
        {
          "output_type": "execute_result",
          "data": {
            "text/plain": [
              "   BusinessEntityID  EmailAddressID                  EmailAddress  \\\n",
              "0                 1               1      ken0@adventure-works.com   \n",
              "1                 2               2    terri0@adventure-works.com   \n",
              "2                 3               3  roberto0@adventure-works.com   \n",
              "3                 4               4      rob0@adventure-works.com   \n",
              "\n",
              "                                rowguid ModifiedDate  \n",
              "0  8A1901E4-671B-431A-871C-EADB2942E9EE   2009-01-07  \n",
              "1  B5FF9EFD-72A2-4F87-830B-F338FDD4D162   2008-01-24  \n",
              "2  C8A51084-1C03-4C58-A8B3-55854AE7C499   2007-11-04  \n",
              "3  17703ED1-0031-4B4A-AFD2-77487A556B3B   2007-11-28  "
            ],
            "text/html": "<div>\n<style scoped>\n    .dataframe tbody tr th:only-of-type {\n        vertical-align: middle;\n    }\n\n    .dataframe tbody tr th {\n        vertical-align: top;\n    }\n\n    .dataframe thead th {\n        text-align: right;\n    }\n</style>\n<table border=\"1\" class=\"dataframe\">\n  <thead>\n    <tr style=\"text-align: right;\">\n      <th></th>\n      <th>BusinessEntityID</th>\n      <th>EmailAddressID</th>\n      <th>EmailAddress</th>\n      <th>rowguid</th>\n      <th>ModifiedDate</th>\n    </tr>\n  </thead>\n  <tbody>\n    <tr>\n      <th>0</th>\n      <td>1</td>\n      <td>1</td>\n      <td>ken0@adventure-works.com</td>\n      <td>8A1901E4-671B-431A-871C-EADB2942E9EE</td>\n      <td>2009-01-07</td>\n    </tr>\n    <tr>\n      <th>1</th>\n      <td>2</td>\n      <td>2</td>\n      <td>terri0@adventure-works.com</td>\n      <td>B5FF9EFD-72A2-4F87-830B-F338FDD4D162</td>\n      <td>2008-01-24</td>\n    </tr>\n    <tr>\n      <th>2</th>\n      <td>3</td>\n      <td>3</td>\n      <td>roberto0@adventure-works.com</td>\n      <td>C8A51084-1C03-4C58-A8B3-55854AE7C499</td>\n      <td>2007-11-04</td>\n    </tr>\n    <tr>\n      <th>3</th>\n      <td>4</td>\n      <td>4</td>\n      <td>rob0@adventure-works.com</td>\n      <td>17703ED1-0031-4B4A-AFD2-77487A556B3B</td>\n      <td>2007-11-28</td>\n    </tr>\n  </tbody>\n</table>\n</div>"
          },
          "metadata": {},
          "execution_count": 5
        }
      ]
    },
    {
      "cell_type": "code",
      "metadata": {
        "id": "OA_AD6KSVG_m",
        "outputId": "41d804f5-5172-4e3f-f7ab-cfc68eaf6d05"
      },
      "source": [
        "query = \"\"\"\n",
        "        SELECT p.BusinessEntityID, p.FirstName, p.LastName, pe.EmailAddress\n",
        "        FROM Person.Person AS P\n",
        "        INNER JOIN Person.EmailAddress PE ON P.BusinessEntityID = PE.BusinessEntityID\n",
        "        \"\"\"\n",
        "pd.read_sql(query, conn)"
      ],
      "execution_count": 6,
      "outputs": [
        {
          "output_type": "execute_result",
          "data": {
            "text/plain": [
              "       BusinessEntityID  FirstName     LastName  \\\n",
              "0                   285       Syed        Abbas   \n",
              "1                   293  Catherine         Abel   \n",
              "2                   295        Kim  Abercrombie   \n",
              "3                  2170        Kim  Abercrombie   \n",
              "4                    38        Kim  Abercrombie   \n",
              "...                 ...        ...          ...   \n",
              "19967              2087   Patricia       Zubaty   \n",
              "19968              2088       Judy     Zugelder   \n",
              "19969             12079       Jake     Zukowski   \n",
              "19970                64    Michael     Zwilling   \n",
              "19971              2089    Michael     Zwilling   \n",
              "\n",
              "                         EmailAddress  \n",
              "0           syed0@adventure-works.com  \n",
              "1      catherine0@adventure-works.com  \n",
              "2            kim2@adventure-works.com  \n",
              "3            kim7@adventure-works.com  \n",
              "4            kim1@adventure-works.com  \n",
              "...                               ...  \n",
              "19967   patricia3@adventure-works.com  \n",
              "19968       judy4@adventure-works.com  \n",
              "19969      jake22@adventure-works.com  \n",
              "19970    michael7@adventure-works.com  \n",
              "19971   michael28@adventure-works.com  \n",
              "\n",
              "[19972 rows x 4 columns]"
            ],
            "text/html": "<div>\n<style scoped>\n    .dataframe tbody tr th:only-of-type {\n        vertical-align: middle;\n    }\n\n    .dataframe tbody tr th {\n        vertical-align: top;\n    }\n\n    .dataframe thead th {\n        text-align: right;\n    }\n</style>\n<table border=\"1\" class=\"dataframe\">\n  <thead>\n    <tr style=\"text-align: right;\">\n      <th></th>\n      <th>BusinessEntityID</th>\n      <th>FirstName</th>\n      <th>LastName</th>\n      <th>EmailAddress</th>\n    </tr>\n  </thead>\n  <tbody>\n    <tr>\n      <th>0</th>\n      <td>285</td>\n      <td>Syed</td>\n      <td>Abbas</td>\n      <td>syed0@adventure-works.com</td>\n    </tr>\n    <tr>\n      <th>1</th>\n      <td>293</td>\n      <td>Catherine</td>\n      <td>Abel</td>\n      <td>catherine0@adventure-works.com</td>\n    </tr>\n    <tr>\n      <th>2</th>\n      <td>295</td>\n      <td>Kim</td>\n      <td>Abercrombie</td>\n      <td>kim2@adventure-works.com</td>\n    </tr>\n    <tr>\n      <th>3</th>\n      <td>2170</td>\n      <td>Kim</td>\n      <td>Abercrombie</td>\n      <td>kim7@adventure-works.com</td>\n    </tr>\n    <tr>\n      <th>4</th>\n      <td>38</td>\n      <td>Kim</td>\n      <td>Abercrombie</td>\n      <td>kim1@adventure-works.com</td>\n    </tr>\n    <tr>\n      <th>...</th>\n      <td>...</td>\n      <td>...</td>\n      <td>...</td>\n      <td>...</td>\n    </tr>\n    <tr>\n      <th>19967</th>\n      <td>2087</td>\n      <td>Patricia</td>\n      <td>Zubaty</td>\n      <td>patricia3@adventure-works.com</td>\n    </tr>\n    <tr>\n      <th>19968</th>\n      <td>2088</td>\n      <td>Judy</td>\n      <td>Zugelder</td>\n      <td>judy4@adventure-works.com</td>\n    </tr>\n    <tr>\n      <th>19969</th>\n      <td>12079</td>\n      <td>Jake</td>\n      <td>Zukowski</td>\n      <td>jake22@adventure-works.com</td>\n    </tr>\n    <tr>\n      <th>19970</th>\n      <td>64</td>\n      <td>Michael</td>\n      <td>Zwilling</td>\n      <td>michael7@adventure-works.com</td>\n    </tr>\n    <tr>\n      <th>19971</th>\n      <td>2089</td>\n      <td>Michael</td>\n      <td>Zwilling</td>\n      <td>michael28@adventure-works.com</td>\n    </tr>\n  </tbody>\n</table>\n<p>19972 rows × 4 columns</p>\n</div>"
          },
          "metadata": {},
          "execution_count": 6
        }
      ]
    },
    {
      "cell_type": "markdown",
      "metadata": {
        "id": "yjE2oSNVVG_n"
      },
      "source": [
        "### Desafio 1 \n",
        "\n",
        "Retorne uma tabela com as colunas: BusinessEntityId, Name, PhoneNumberTypeId, PhoneNumber.\n"
      ]
    },
    {
      "cell_type": "code",
      "metadata": {
        "id": "QNoFd5-mVG_n",
        "outputId": "b860e43f-ad3a-42cf-969e-6481e229b89d"
      },
      "source": [
        "query = \"\"\"\n",
        "        SELECT PP.BusinessEntityID, PN.Name, PP.PhoneNumberTypeID, PP.PhoneNumber\n",
        "        FROM Person.PersonPhone AS PP\n",
        "        INNER JOIN Person.PhoneNumberType PN ON PP.PhoneNumberTypeID = PN.PhoneNumberTypeID\n",
        "        \"\"\"\n",
        "pd.read_sql(query, conn)"
      ],
      "execution_count": 7,
      "outputs": [
        {
          "output_type": "execute_result",
          "data": {
            "text/plain": [
              "       BusinessEntityID  Name  PhoneNumberTypeID          PhoneNumber\n",
              "0                  1959  Work                  3  1 (11) 500 555-0110\n",
              "1                  2409  Cell                  1  1 (11) 500 555-0110\n",
              "2                  2467  Home                  2  1 (11) 500 555-0110\n",
              "3                  2488  Cell                  1  1 (11) 500 555-0110\n",
              "4                  2510  Home                  2  1 (11) 500 555-0110\n",
              "...                 ...   ...                ...                  ...\n",
              "19967             14512  Home                  2         999-555-0149\n",
              "19968             13828  Cell                  1         999-555-0152\n",
              "19969                93  Work                  3         999-555-0155\n",
              "19970              6854  Cell                  1         999-555-0183\n",
              "19971              6846  Home                  2         999-555-0198\n",
              "\n",
              "[19972 rows x 4 columns]"
            ],
            "text/html": "<div>\n<style scoped>\n    .dataframe tbody tr th:only-of-type {\n        vertical-align: middle;\n    }\n\n    .dataframe tbody tr th {\n        vertical-align: top;\n    }\n\n    .dataframe thead th {\n        text-align: right;\n    }\n</style>\n<table border=\"1\" class=\"dataframe\">\n  <thead>\n    <tr style=\"text-align: right;\">\n      <th></th>\n      <th>BusinessEntityID</th>\n      <th>Name</th>\n      <th>PhoneNumberTypeID</th>\n      <th>PhoneNumber</th>\n    </tr>\n  </thead>\n  <tbody>\n    <tr>\n      <th>0</th>\n      <td>1959</td>\n      <td>Work</td>\n      <td>3</td>\n      <td>1 (11) 500 555-0110</td>\n    </tr>\n    <tr>\n      <th>1</th>\n      <td>2409</td>\n      <td>Cell</td>\n      <td>1</td>\n      <td>1 (11) 500 555-0110</td>\n    </tr>\n    <tr>\n      <th>2</th>\n      <td>2467</td>\n      <td>Home</td>\n      <td>2</td>\n      <td>1 (11) 500 555-0110</td>\n    </tr>\n    <tr>\n      <th>3</th>\n      <td>2488</td>\n      <td>Cell</td>\n      <td>1</td>\n      <td>1 (11) 500 555-0110</td>\n    </tr>\n    <tr>\n      <th>4</th>\n      <td>2510</td>\n      <td>Home</td>\n      <td>2</td>\n      <td>1 (11) 500 555-0110</td>\n    </tr>\n    <tr>\n      <th>...</th>\n      <td>...</td>\n      <td>...</td>\n      <td>...</td>\n      <td>...</td>\n    </tr>\n    <tr>\n      <th>19967</th>\n      <td>14512</td>\n      <td>Home</td>\n      <td>2</td>\n      <td>999-555-0149</td>\n    </tr>\n    <tr>\n      <th>19968</th>\n      <td>13828</td>\n      <td>Cell</td>\n      <td>1</td>\n      <td>999-555-0152</td>\n    </tr>\n    <tr>\n      <th>19969</th>\n      <td>93</td>\n      <td>Work</td>\n      <td>3</td>\n      <td>999-555-0155</td>\n    </tr>\n    <tr>\n      <th>19970</th>\n      <td>6854</td>\n      <td>Cell</td>\n      <td>1</td>\n      <td>999-555-0183</td>\n    </tr>\n    <tr>\n      <th>19971</th>\n      <td>6846</td>\n      <td>Home</td>\n      <td>2</td>\n      <td>999-555-0198</td>\n    </tr>\n  </tbody>\n</table>\n<p>19972 rows × 4 columns</p>\n</div>"
          },
          "metadata": {},
          "execution_count": 7
        }
      ]
    },
    {
      "cell_type": "markdown",
      "metadata": {
        "id": "VLY_WNulVG_o"
      },
      "source": [
        "### Desafio 2 \n",
        "\n",
        "Retorne uma tabela com as colunas: AdressId, City, StateProvinceId, Nome do Estado."
      ]
    },
    {
      "cell_type": "code",
      "metadata": {
        "id": "TCkD9a9sVG_o",
        "outputId": "481cabea-403d-47c3-8e3f-ed9b2a7009ea"
      },
      "source": [
        "query = \"\"\"\n",
        "        SELECT PA.AddressID, PA.City, PA.StateProvinceID, PS.Name\n",
        "        FROM Person.Address PA\n",
        "        INNER JOIN Person.StateProvince PS ON PA.StateProvinceID = PS.StateProvinceID\n",
        "        \"\"\"\n",
        "pd.read_sql(query, conn)"
      ],
      "execution_count": 8,
      "outputs": [
        {
          "output_type": "execute_result",
          "data": {
            "text/plain": [
              "       AddressID                  City  StateProvinceID                 Name\n",
              "0            532                Ottawa               57              Ontario\n",
              "1            497               Burnaby                7     British Columbia\n",
              "2          29781             Dunkerque              145                 Nord\n",
              "3          24231  Verrieres Le Buisson              177              Essonne\n",
              "4          19637  Verrieres Le Buisson              177              Essonne\n",
              "...          ...                   ...              ...                  ...\n",
              "19609      19731                Berlin               19               Hessen\n",
              "19610      15768           Neunkirchen               70             Saarland\n",
              "19611      17393             Paderborn               20              Hamburg\n",
              "19612      29769                Berlin               20              Hamburg\n",
              "19613      18050               München               53  Nordrhein-Westfalen\n",
              "\n",
              "[19614 rows x 4 columns]"
            ],
            "text/html": "<div>\n<style scoped>\n    .dataframe tbody tr th:only-of-type {\n        vertical-align: middle;\n    }\n\n    .dataframe tbody tr th {\n        vertical-align: top;\n    }\n\n    .dataframe thead th {\n        text-align: right;\n    }\n</style>\n<table border=\"1\" class=\"dataframe\">\n  <thead>\n    <tr style=\"text-align: right;\">\n      <th></th>\n      <th>AddressID</th>\n      <th>City</th>\n      <th>StateProvinceID</th>\n      <th>Name</th>\n    </tr>\n  </thead>\n  <tbody>\n    <tr>\n      <th>0</th>\n      <td>532</td>\n      <td>Ottawa</td>\n      <td>57</td>\n      <td>Ontario</td>\n    </tr>\n    <tr>\n      <th>1</th>\n      <td>497</td>\n      <td>Burnaby</td>\n      <td>7</td>\n      <td>British Columbia</td>\n    </tr>\n    <tr>\n      <th>2</th>\n      <td>29781</td>\n      <td>Dunkerque</td>\n      <td>145</td>\n      <td>Nord</td>\n    </tr>\n    <tr>\n      <th>3</th>\n      <td>24231</td>\n      <td>Verrieres Le Buisson</td>\n      <td>177</td>\n      <td>Essonne</td>\n    </tr>\n    <tr>\n      <th>4</th>\n      <td>19637</td>\n      <td>Verrieres Le Buisson</td>\n      <td>177</td>\n      <td>Essonne</td>\n    </tr>\n    <tr>\n      <th>...</th>\n      <td>...</td>\n      <td>...</td>\n      <td>...</td>\n      <td>...</td>\n    </tr>\n    <tr>\n      <th>19609</th>\n      <td>19731</td>\n      <td>Berlin</td>\n      <td>19</td>\n      <td>Hessen</td>\n    </tr>\n    <tr>\n      <th>19610</th>\n      <td>15768</td>\n      <td>Neunkirchen</td>\n      <td>70</td>\n      <td>Saarland</td>\n    </tr>\n    <tr>\n      <th>19611</th>\n      <td>17393</td>\n      <td>Paderborn</td>\n      <td>20</td>\n      <td>Hamburg</td>\n    </tr>\n    <tr>\n      <th>19612</th>\n      <td>29769</td>\n      <td>Berlin</td>\n      <td>20</td>\n      <td>Hamburg</td>\n    </tr>\n    <tr>\n      <th>19613</th>\n      <td>18050</td>\n      <td>München</td>\n      <td>53</td>\n      <td>Nordrhein-Westfalen</td>\n    </tr>\n  </tbody>\n</table>\n<p>19614 rows × 4 columns</p>\n</div>"
          },
          "metadata": {},
          "execution_count": 8
        }
      ]
    },
    {
      "cell_type": "markdown",
      "metadata": {
        "id": "ihXg9hUBVG_p"
      },
      "source": [
        "## Tipos de Joins"
      ]
    },
    {
      "cell_type": "markdown",
      "metadata": {
        "id": "ObZuXYTwVG_p"
      },
      "source": [
        "![](./images/sql-joins.jpg)\n"
      ]
    },
    {
      "cell_type": "markdown",
      "metadata": {
        "id": "zCuXJmviVG_p"
      },
      "source": [
        "### INNER JOIN\n",
        "\n",
        "Seleciona registros que possuem valores correspondentes em ambas as tabelas.\n",
        "\n",
        "\n"
      ]
    },
    {
      "cell_type": "markdown",
      "metadata": {
        "id": "m24ghdCwVG_q"
      },
      "source": [
        "### LEFT JOIN\n",
        "\n",
        "Retorna todos os registros da tabela esquerda (tabela1) e os registros correspondentes da tabela direita (tabela2). O resultado é 0 registros do lado direito, se não houver correspondência.\n",
        "\n",
        "Sintaxe \n",
        "\n",
        "SELECT column_name(s)\n",
        "\n",
        "FROM table1\n",
        "\n",
        "LEFT JOIN table2\n",
        "\n",
        "ON table1.column_name = table2.column_name;\n",
        "\n",
        "\n",
        "\n",
        "\n",
        "\n"
      ]
    },
    {
      "cell_type": "markdown",
      "metadata": {
        "id": "2gHEcCEQVG_q"
      },
      "source": [
        "### RIGHT JOIN\n",
        "\n",
        "Retorna todos os registros da tabela direita (tabela2) e os registros correspondentes da tabela esquerda (tabela1). O resultado é 0 registros do lado esquerdo, se não houver correspondência.\n",
        "\n",
        "Sintaxe\n",
        "\n",
        "SELECT column_name(s)\n",
        "\n",
        "FROM table1\n",
        "\n",
        "RIGHT JOIN table2\n",
        "\n",
        "ON table1.column_name = table2.column_name;\n",
        "\n"
      ]
    },
    {
      "cell_type": "markdown",
      "metadata": {
        "id": "quEguz46VG_r"
      },
      "source": [
        "### FULL OUTER JOIN\n",
        "\n",
        "Retorna todos os registros quando há uma correspondência nos registros da tabela esquerda (tabela1) ou direita (tabela2).\n",
        "\n",
        "Sintaxe \n",
        "\n",
        "SELECT column_name(s)\n",
        "\n",
        "FROM table1\n",
        "\n",
        "FULL OUTER JOIN table2\n",
        "\n",
        "ON table1.column_name = table2.column_name\n",
        "\n",
        "WHERE condition;\n",
        "\n"
      ]
    },
    {
      "cell_type": "markdown",
      "metadata": {
        "id": "x-eT4R1wVG_r"
      },
      "source": [
        "## Outer Joins/Left Join\n",
        "\n",
        "\n"
      ]
    },
    {
      "cell_type": "markdown",
      "metadata": {
        "id": "LEO7637JVG_r"
      },
      "source": [
        "Descobrir quais pessoas têm o cartão de crédito registrado.\n"
      ]
    },
    {
      "cell_type": "code",
      "metadata": {
        "id": "Xh28LGuUVG_s",
        "outputId": "612e7037-5013-4913-a30f-34f24a80b202"
      },
      "source": [
        "query = \"\"\"\n",
        "        SELECT *\n",
        "        FROM Person.Person PP\n",
        "        INNER JOIN Sales.PersonCreditCard SP ON PP.BusinessEntityID = SP.BusinessEntityID\n",
        "\n",
        "        \"\"\"\n",
        "pd.read_sql(query, conn)"
      ],
      "execution_count": 9,
      "outputs": [
        {
          "output_type": "execute_result",
          "data": {
            "text/plain": [
              "       BusinessEntityID PersonType  NameStyle Title  FirstName MiddleName  \\\n",
              "0                   293         SC      False   Ms.  Catherine         R.   \n",
              "1                   295         SC      False   Ms.        Kim       None   \n",
              "2                   297         SC      False   Sr.   Humberto       None   \n",
              "3                   299         SC      False  Sra.      Pilar       None   \n",
              "4                   301         SC      False   Ms.    Frances         B.   \n",
              "...                 ...        ...        ...   ...        ...        ...   \n",
              "19113             20773         IN      False  None    Crystal       None   \n",
              "19114             20774         IN      False  None   Isabella          F   \n",
              "19115             20775         IN      False  None    Crystal          S   \n",
              "19116             20776         IN      False  None    Crystal       None   \n",
              "19117             20777         IN      False  None    Crystal       None   \n",
              "\n",
              "          LastName Suffix  EmailPromotion  \\\n",
              "0             Abel   None               1   \n",
              "1      Abercrombie   None               0   \n",
              "2          Acevedo   None               2   \n",
              "3         Ackerman   None               0   \n",
              "4            Adams   None               1   \n",
              "...            ...    ...             ...   \n",
              "19113          Guo   None               0   \n",
              "19114   Richardson   None               2   \n",
              "19115           He   None               0   \n",
              "19116        Zheng   None               1   \n",
              "19117           Hu   None               0   \n",
              "\n",
              "                                   AdditionalContactInfo  \\\n",
              "0      <AdditionalContactInfo xmlns=\"http://schemas.m...   \n",
              "1      <AdditionalContactInfo xmlns=\"http://schemas.m...   \n",
              "2      <AdditionalContactInfo xmlns=\"http://schemas.m...   \n",
              "3      <AdditionalContactInfo xmlns=\"http://schemas.m...   \n",
              "4      <AdditionalContactInfo xmlns=\"http://schemas.m...   \n",
              "...                                                  ...   \n",
              "19113                                               None   \n",
              "19114                                               None   \n",
              "19115                                               None   \n",
              "19116                                               None   \n",
              "19117                                               None   \n",
              "\n",
              "                                            Demographics  \\\n",
              "0      <IndividualSurvey xmlns=\"http://schemas.micros...   \n",
              "1      <IndividualSurvey xmlns=\"http://schemas.micros...   \n",
              "2      <IndividualSurvey xmlns=\"http://schemas.micros...   \n",
              "3      <IndividualSurvey xmlns=\"http://schemas.micros...   \n",
              "4      <IndividualSurvey xmlns=\"http://schemas.micros...   \n",
              "...                                                  ...   \n",
              "19113  <IndividualSurvey xmlns=\"http://schemas.micros...   \n",
              "19114  <IndividualSurvey xmlns=\"http://schemas.micros...   \n",
              "19115  <IndividualSurvey xmlns=\"http://schemas.micros...   \n",
              "19116  <IndividualSurvey xmlns=\"http://schemas.micros...   \n",
              "19117  <IndividualSurvey xmlns=\"http://schemas.micros...   \n",
              "\n",
              "                                    rowguid            ModifiedDate  \\\n",
              "0      D54E0552-C226-4C22-AF3B-762CA854CDD3 2015-04-15 16:33:33.077   \n",
              "1      F7CBDB48-0B44-470E-9F37-7060446FBFB9 2015-04-15 16:33:33.077   \n",
              "2      5A41D336-84CF-44D7-B12B-83B64B511F7E 2015-04-15 16:33:33.090   \n",
              "3      DF1FB8AB-2323-4330-9AB8-54E13CE6D8F9 2015-04-15 16:33:33.090   \n",
              "4      66980082-C186-40AE-972A-74560E78C1AF 2015-04-15 16:33:33.090   \n",
              "...                                     ...                     ...   \n",
              "19113  D0A499A2-C258-43E9-AB06-F61543A71134 2014-03-19 00:00:00.000   \n",
              "19114  A4F7F248-82F3-43D5-B5A3-8BD1CB610254 2013-07-29 00:00:00.000   \n",
              "19115  CD0B82D0-3409-4497-A65F-A68E75EE26CB 2014-03-12 00:00:00.000   \n",
              "19116  386E35E8-97B3-43E4-9B5F-9594C2FF5CEA 2014-01-14 00:00:00.000   \n",
              "19117  1773C8F3-2CC7-4826-A7F5-30D3F36543CD 2013-10-16 00:00:00.000   \n",
              "\n",
              "       BusinessEntityID  CreditCardID ModifiedDate  \n",
              "0                   293         17038   2013-07-31  \n",
              "1                   295         15369   2011-08-01  \n",
              "2                   297          8010   2011-08-01  \n",
              "3                   299          5316   2013-07-31  \n",
              "4                   301          6653   2011-05-31  \n",
              "...                 ...           ...          ...  \n",
              "19113             20773         16305   2014-03-19  \n",
              "19114             20774         16309   2013-07-29  \n",
              "19115             20775         16317   2014-03-12  \n",
              "19116             20776         16347   2014-01-14  \n",
              "19117             20777         16363   2013-10-16  \n",
              "\n",
              "[19118 rows x 16 columns]"
            ],
            "text/html": "<div>\n<style scoped>\n    .dataframe tbody tr th:only-of-type {\n        vertical-align: middle;\n    }\n\n    .dataframe tbody tr th {\n        vertical-align: top;\n    }\n\n    .dataframe thead th {\n        text-align: right;\n    }\n</style>\n<table border=\"1\" class=\"dataframe\">\n  <thead>\n    <tr style=\"text-align: right;\">\n      <th></th>\n      <th>BusinessEntityID</th>\n      <th>PersonType</th>\n      <th>NameStyle</th>\n      <th>Title</th>\n      <th>FirstName</th>\n      <th>MiddleName</th>\n      <th>LastName</th>\n      <th>Suffix</th>\n      <th>EmailPromotion</th>\n      <th>AdditionalContactInfo</th>\n      <th>Demographics</th>\n      <th>rowguid</th>\n      <th>ModifiedDate</th>\n      <th>BusinessEntityID</th>\n      <th>CreditCardID</th>\n      <th>ModifiedDate</th>\n    </tr>\n  </thead>\n  <tbody>\n    <tr>\n      <th>0</th>\n      <td>293</td>\n      <td>SC</td>\n      <td>False</td>\n      <td>Ms.</td>\n      <td>Catherine</td>\n      <td>R.</td>\n      <td>Abel</td>\n      <td>None</td>\n      <td>1</td>\n      <td>&lt;AdditionalContactInfo xmlns=\"http://schemas.m...</td>\n      <td>&lt;IndividualSurvey xmlns=\"http://schemas.micros...</td>\n      <td>D54E0552-C226-4C22-AF3B-762CA854CDD3</td>\n      <td>2015-04-15 16:33:33.077</td>\n      <td>293</td>\n      <td>17038</td>\n      <td>2013-07-31</td>\n    </tr>\n    <tr>\n      <th>1</th>\n      <td>295</td>\n      <td>SC</td>\n      <td>False</td>\n      <td>Ms.</td>\n      <td>Kim</td>\n      <td>None</td>\n      <td>Abercrombie</td>\n      <td>None</td>\n      <td>0</td>\n      <td>&lt;AdditionalContactInfo xmlns=\"http://schemas.m...</td>\n      <td>&lt;IndividualSurvey xmlns=\"http://schemas.micros...</td>\n      <td>F7CBDB48-0B44-470E-9F37-7060446FBFB9</td>\n      <td>2015-04-15 16:33:33.077</td>\n      <td>295</td>\n      <td>15369</td>\n      <td>2011-08-01</td>\n    </tr>\n    <tr>\n      <th>2</th>\n      <td>297</td>\n      <td>SC</td>\n      <td>False</td>\n      <td>Sr.</td>\n      <td>Humberto</td>\n      <td>None</td>\n      <td>Acevedo</td>\n      <td>None</td>\n      <td>2</td>\n      <td>&lt;AdditionalContactInfo xmlns=\"http://schemas.m...</td>\n      <td>&lt;IndividualSurvey xmlns=\"http://schemas.micros...</td>\n      <td>5A41D336-84CF-44D7-B12B-83B64B511F7E</td>\n      <td>2015-04-15 16:33:33.090</td>\n      <td>297</td>\n      <td>8010</td>\n      <td>2011-08-01</td>\n    </tr>\n    <tr>\n      <th>3</th>\n      <td>299</td>\n      <td>SC</td>\n      <td>False</td>\n      <td>Sra.</td>\n      <td>Pilar</td>\n      <td>None</td>\n      <td>Ackerman</td>\n      <td>None</td>\n      <td>0</td>\n      <td>&lt;AdditionalContactInfo xmlns=\"http://schemas.m...</td>\n      <td>&lt;IndividualSurvey xmlns=\"http://schemas.micros...</td>\n      <td>DF1FB8AB-2323-4330-9AB8-54E13CE6D8F9</td>\n      <td>2015-04-15 16:33:33.090</td>\n      <td>299</td>\n      <td>5316</td>\n      <td>2013-07-31</td>\n    </tr>\n    <tr>\n      <th>4</th>\n      <td>301</td>\n      <td>SC</td>\n      <td>False</td>\n      <td>Ms.</td>\n      <td>Frances</td>\n      <td>B.</td>\n      <td>Adams</td>\n      <td>None</td>\n      <td>1</td>\n      <td>&lt;AdditionalContactInfo xmlns=\"http://schemas.m...</td>\n      <td>&lt;IndividualSurvey xmlns=\"http://schemas.micros...</td>\n      <td>66980082-C186-40AE-972A-74560E78C1AF</td>\n      <td>2015-04-15 16:33:33.090</td>\n      <td>301</td>\n      <td>6653</td>\n      <td>2011-05-31</td>\n    </tr>\n    <tr>\n      <th>...</th>\n      <td>...</td>\n      <td>...</td>\n      <td>...</td>\n      <td>...</td>\n      <td>...</td>\n      <td>...</td>\n      <td>...</td>\n      <td>...</td>\n      <td>...</td>\n      <td>...</td>\n      <td>...</td>\n      <td>...</td>\n      <td>...</td>\n      <td>...</td>\n      <td>...</td>\n      <td>...</td>\n    </tr>\n    <tr>\n      <th>19113</th>\n      <td>20773</td>\n      <td>IN</td>\n      <td>False</td>\n      <td>None</td>\n      <td>Crystal</td>\n      <td>None</td>\n      <td>Guo</td>\n      <td>None</td>\n      <td>0</td>\n      <td>None</td>\n      <td>&lt;IndividualSurvey xmlns=\"http://schemas.micros...</td>\n      <td>D0A499A2-C258-43E9-AB06-F61543A71134</td>\n      <td>2014-03-19 00:00:00.000</td>\n      <td>20773</td>\n      <td>16305</td>\n      <td>2014-03-19</td>\n    </tr>\n    <tr>\n      <th>19114</th>\n      <td>20774</td>\n      <td>IN</td>\n      <td>False</td>\n      <td>None</td>\n      <td>Isabella</td>\n      <td>F</td>\n      <td>Richardson</td>\n      <td>None</td>\n      <td>2</td>\n      <td>None</td>\n      <td>&lt;IndividualSurvey xmlns=\"http://schemas.micros...</td>\n      <td>A4F7F248-82F3-43D5-B5A3-8BD1CB610254</td>\n      <td>2013-07-29 00:00:00.000</td>\n      <td>20774</td>\n      <td>16309</td>\n      <td>2013-07-29</td>\n    </tr>\n    <tr>\n      <th>19115</th>\n      <td>20775</td>\n      <td>IN</td>\n      <td>False</td>\n      <td>None</td>\n      <td>Crystal</td>\n      <td>S</td>\n      <td>He</td>\n      <td>None</td>\n      <td>0</td>\n      <td>None</td>\n      <td>&lt;IndividualSurvey xmlns=\"http://schemas.micros...</td>\n      <td>CD0B82D0-3409-4497-A65F-A68E75EE26CB</td>\n      <td>2014-03-12 00:00:00.000</td>\n      <td>20775</td>\n      <td>16317</td>\n      <td>2014-03-12</td>\n    </tr>\n    <tr>\n      <th>19116</th>\n      <td>20776</td>\n      <td>IN</td>\n      <td>False</td>\n      <td>None</td>\n      <td>Crystal</td>\n      <td>None</td>\n      <td>Zheng</td>\n      <td>None</td>\n      <td>1</td>\n      <td>None</td>\n      <td>&lt;IndividualSurvey xmlns=\"http://schemas.micros...</td>\n      <td>386E35E8-97B3-43E4-9B5F-9594C2FF5CEA</td>\n      <td>2014-01-14 00:00:00.000</td>\n      <td>20776</td>\n      <td>16347</td>\n      <td>2014-01-14</td>\n    </tr>\n    <tr>\n      <th>19117</th>\n      <td>20777</td>\n      <td>IN</td>\n      <td>False</td>\n      <td>None</td>\n      <td>Crystal</td>\n      <td>None</td>\n      <td>Hu</td>\n      <td>None</td>\n      <td>0</td>\n      <td>None</td>\n      <td>&lt;IndividualSurvey xmlns=\"http://schemas.micros...</td>\n      <td>1773C8F3-2CC7-4826-A7F5-30D3F36543CD</td>\n      <td>2013-10-16 00:00:00.000</td>\n      <td>20777</td>\n      <td>16363</td>\n      <td>2013-10-16</td>\n    </tr>\n  </tbody>\n</table>\n<p>19118 rows × 16 columns</p>\n</div>"
          },
          "metadata": {},
          "execution_count": 9
        }
      ]
    },
    {
      "cell_type": "code",
      "metadata": {
        "id": "mMqDSZyUVG_s",
        "outputId": "79f28f18-bafe-4cde-b965-305807b9b495"
      },
      "source": [
        "query = \"\"\"\n",
        "        SELECT *\n",
        "        FROM Person.Person PP\n",
        "        LEFT JOIN Sales.PersonCreditCard SP ON PP.BusinessEntityID = SP.BusinessEntityID\n",
        "\n",
        "        \"\"\"\n",
        "pd.read_sql(query, conn)"
      ],
      "execution_count": 10,
      "outputs": [
        {
          "output_type": "execute_result",
          "data": {
            "text/plain": [
              "       BusinessEntityID PersonType  NameStyle Title FirstName MiddleName  \\\n",
              "0                     1         EM      False  None       Ken          J   \n",
              "1                     2         EM      False  None     Terri        Lee   \n",
              "2                     3         EM      False  None   Roberto       None   \n",
              "3                     4         EM      False  None       Rob       None   \n",
              "4                     5         EM      False   Ms.      Gail          A   \n",
              "...                 ...        ...        ...   ...       ...        ...   \n",
              "19967             20773         IN      False  None   Crystal       None   \n",
              "19968             20774         IN      False  None  Isabella          F   \n",
              "19969             20775         IN      False  None   Crystal          S   \n",
              "19970             20776         IN      False  None   Crystal       None   \n",
              "19971             20777         IN      False  None   Crystal       None   \n",
              "\n",
              "         LastName Suffix  EmailPromotion AdditionalContactInfo  \\\n",
              "0         Sánchez   None               0                  None   \n",
              "1           Duffy   None               1                  None   \n",
              "2      Tamburello   None               0                  None   \n",
              "3         Walters   None               0                  None   \n",
              "4        Erickson   None               0                  None   \n",
              "...           ...    ...             ...                   ...   \n",
              "19967         Guo   None               0                  None   \n",
              "19968  Richardson   None               2                  None   \n",
              "19969          He   None               0                  None   \n",
              "19970       Zheng   None               1                  None   \n",
              "19971          Hu   None               0                  None   \n",
              "\n",
              "                                            Demographics  \\\n",
              "0      <IndividualSurvey xmlns=\"http://schemas.micros...   \n",
              "1      <IndividualSurvey xmlns=\"http://schemas.micros...   \n",
              "2      <IndividualSurvey xmlns=\"http://schemas.micros...   \n",
              "3      <IndividualSurvey xmlns=\"http://schemas.micros...   \n",
              "4      <IndividualSurvey xmlns=\"http://schemas.micros...   \n",
              "...                                                  ...   \n",
              "19967  <IndividualSurvey xmlns=\"http://schemas.micros...   \n",
              "19968  <IndividualSurvey xmlns=\"http://schemas.micros...   \n",
              "19969  <IndividualSurvey xmlns=\"http://schemas.micros...   \n",
              "19970  <IndividualSurvey xmlns=\"http://schemas.micros...   \n",
              "19971  <IndividualSurvey xmlns=\"http://schemas.micros...   \n",
              "\n",
              "                                    rowguid ModifiedDate  BusinessEntityID  \\\n",
              "0      92C4279F-1207-48A3-8448-4636514EB7E2   2009-01-07               NaN   \n",
              "1      D8763459-8AA8-47CC-AFF7-C9079AF79033   2008-01-24               NaN   \n",
              "2      E1A2555E-0828-434B-A33B-6F38136A37DE   2007-11-04               NaN   \n",
              "3      F2D7CE06-38B3-4357-805B-F4B6B71C01FF   2007-11-28               NaN   \n",
              "4      F3A3F6B4-AE3B-430C-A754-9F2231BA6FEF   2007-12-30               NaN   \n",
              "...                                     ...          ...               ...   \n",
              "19967  D0A499A2-C258-43E9-AB06-F61543A71134   2014-03-19           20773.0   \n",
              "19968  A4F7F248-82F3-43D5-B5A3-8BD1CB610254   2013-07-29           20774.0   \n",
              "19969  CD0B82D0-3409-4497-A65F-A68E75EE26CB   2014-03-12           20775.0   \n",
              "19970  386E35E8-97B3-43E4-9B5F-9594C2FF5CEA   2014-01-14           20776.0   \n",
              "19971  1773C8F3-2CC7-4826-A7F5-30D3F36543CD   2013-10-16           20777.0   \n",
              "\n",
              "       CreditCardID ModifiedDate  \n",
              "0               NaN          NaT  \n",
              "1               NaN          NaT  \n",
              "2               NaN          NaT  \n",
              "3               NaN          NaT  \n",
              "4               NaN          NaT  \n",
              "...             ...          ...  \n",
              "19967       16305.0   2014-03-19  \n",
              "19968       16309.0   2013-07-29  \n",
              "19969       16317.0   2014-03-12  \n",
              "19970       16347.0   2014-01-14  \n",
              "19971       16363.0   2013-10-16  \n",
              "\n",
              "[19972 rows x 16 columns]"
            ],
            "text/html": "<div>\n<style scoped>\n    .dataframe tbody tr th:only-of-type {\n        vertical-align: middle;\n    }\n\n    .dataframe tbody tr th {\n        vertical-align: top;\n    }\n\n    .dataframe thead th {\n        text-align: right;\n    }\n</style>\n<table border=\"1\" class=\"dataframe\">\n  <thead>\n    <tr style=\"text-align: right;\">\n      <th></th>\n      <th>BusinessEntityID</th>\n      <th>PersonType</th>\n      <th>NameStyle</th>\n      <th>Title</th>\n      <th>FirstName</th>\n      <th>MiddleName</th>\n      <th>LastName</th>\n      <th>Suffix</th>\n      <th>EmailPromotion</th>\n      <th>AdditionalContactInfo</th>\n      <th>Demographics</th>\n      <th>rowguid</th>\n      <th>ModifiedDate</th>\n      <th>BusinessEntityID</th>\n      <th>CreditCardID</th>\n      <th>ModifiedDate</th>\n    </tr>\n  </thead>\n  <tbody>\n    <tr>\n      <th>0</th>\n      <td>1</td>\n      <td>EM</td>\n      <td>False</td>\n      <td>None</td>\n      <td>Ken</td>\n      <td>J</td>\n      <td>Sánchez</td>\n      <td>None</td>\n      <td>0</td>\n      <td>None</td>\n      <td>&lt;IndividualSurvey xmlns=\"http://schemas.micros...</td>\n      <td>92C4279F-1207-48A3-8448-4636514EB7E2</td>\n      <td>2009-01-07</td>\n      <td>NaN</td>\n      <td>NaN</td>\n      <td>NaT</td>\n    </tr>\n    <tr>\n      <th>1</th>\n      <td>2</td>\n      <td>EM</td>\n      <td>False</td>\n      <td>None</td>\n      <td>Terri</td>\n      <td>Lee</td>\n      <td>Duffy</td>\n      <td>None</td>\n      <td>1</td>\n      <td>None</td>\n      <td>&lt;IndividualSurvey xmlns=\"http://schemas.micros...</td>\n      <td>D8763459-8AA8-47CC-AFF7-C9079AF79033</td>\n      <td>2008-01-24</td>\n      <td>NaN</td>\n      <td>NaN</td>\n      <td>NaT</td>\n    </tr>\n    <tr>\n      <th>2</th>\n      <td>3</td>\n      <td>EM</td>\n      <td>False</td>\n      <td>None</td>\n      <td>Roberto</td>\n      <td>None</td>\n      <td>Tamburello</td>\n      <td>None</td>\n      <td>0</td>\n      <td>None</td>\n      <td>&lt;IndividualSurvey xmlns=\"http://schemas.micros...</td>\n      <td>E1A2555E-0828-434B-A33B-6F38136A37DE</td>\n      <td>2007-11-04</td>\n      <td>NaN</td>\n      <td>NaN</td>\n      <td>NaT</td>\n    </tr>\n    <tr>\n      <th>3</th>\n      <td>4</td>\n      <td>EM</td>\n      <td>False</td>\n      <td>None</td>\n      <td>Rob</td>\n      <td>None</td>\n      <td>Walters</td>\n      <td>None</td>\n      <td>0</td>\n      <td>None</td>\n      <td>&lt;IndividualSurvey xmlns=\"http://schemas.micros...</td>\n      <td>F2D7CE06-38B3-4357-805B-F4B6B71C01FF</td>\n      <td>2007-11-28</td>\n      <td>NaN</td>\n      <td>NaN</td>\n      <td>NaT</td>\n    </tr>\n    <tr>\n      <th>4</th>\n      <td>5</td>\n      <td>EM</td>\n      <td>False</td>\n      <td>Ms.</td>\n      <td>Gail</td>\n      <td>A</td>\n      <td>Erickson</td>\n      <td>None</td>\n      <td>0</td>\n      <td>None</td>\n      <td>&lt;IndividualSurvey xmlns=\"http://schemas.micros...</td>\n      <td>F3A3F6B4-AE3B-430C-A754-9F2231BA6FEF</td>\n      <td>2007-12-30</td>\n      <td>NaN</td>\n      <td>NaN</td>\n      <td>NaT</td>\n    </tr>\n    <tr>\n      <th>...</th>\n      <td>...</td>\n      <td>...</td>\n      <td>...</td>\n      <td>...</td>\n      <td>...</td>\n      <td>...</td>\n      <td>...</td>\n      <td>...</td>\n      <td>...</td>\n      <td>...</td>\n      <td>...</td>\n      <td>...</td>\n      <td>...</td>\n      <td>...</td>\n      <td>...</td>\n      <td>...</td>\n    </tr>\n    <tr>\n      <th>19967</th>\n      <td>20773</td>\n      <td>IN</td>\n      <td>False</td>\n      <td>None</td>\n      <td>Crystal</td>\n      <td>None</td>\n      <td>Guo</td>\n      <td>None</td>\n      <td>0</td>\n      <td>None</td>\n      <td>&lt;IndividualSurvey xmlns=\"http://schemas.micros...</td>\n      <td>D0A499A2-C258-43E9-AB06-F61543A71134</td>\n      <td>2014-03-19</td>\n      <td>20773.0</td>\n      <td>16305.0</td>\n      <td>2014-03-19</td>\n    </tr>\n    <tr>\n      <th>19968</th>\n      <td>20774</td>\n      <td>IN</td>\n      <td>False</td>\n      <td>None</td>\n      <td>Isabella</td>\n      <td>F</td>\n      <td>Richardson</td>\n      <td>None</td>\n      <td>2</td>\n      <td>None</td>\n      <td>&lt;IndividualSurvey xmlns=\"http://schemas.micros...</td>\n      <td>A4F7F248-82F3-43D5-B5A3-8BD1CB610254</td>\n      <td>2013-07-29</td>\n      <td>20774.0</td>\n      <td>16309.0</td>\n      <td>2013-07-29</td>\n    </tr>\n    <tr>\n      <th>19969</th>\n      <td>20775</td>\n      <td>IN</td>\n      <td>False</td>\n      <td>None</td>\n      <td>Crystal</td>\n      <td>S</td>\n      <td>He</td>\n      <td>None</td>\n      <td>0</td>\n      <td>None</td>\n      <td>&lt;IndividualSurvey xmlns=\"http://schemas.micros...</td>\n      <td>CD0B82D0-3409-4497-A65F-A68E75EE26CB</td>\n      <td>2014-03-12</td>\n      <td>20775.0</td>\n      <td>16317.0</td>\n      <td>2014-03-12</td>\n    </tr>\n    <tr>\n      <th>19970</th>\n      <td>20776</td>\n      <td>IN</td>\n      <td>False</td>\n      <td>None</td>\n      <td>Crystal</td>\n      <td>None</td>\n      <td>Zheng</td>\n      <td>None</td>\n      <td>1</td>\n      <td>None</td>\n      <td>&lt;IndividualSurvey xmlns=\"http://schemas.micros...</td>\n      <td>386E35E8-97B3-43E4-9B5F-9594C2FF5CEA</td>\n      <td>2014-01-14</td>\n      <td>20776.0</td>\n      <td>16347.0</td>\n      <td>2014-01-14</td>\n    </tr>\n    <tr>\n      <th>19971</th>\n      <td>20777</td>\n      <td>IN</td>\n      <td>False</td>\n      <td>None</td>\n      <td>Crystal</td>\n      <td>None</td>\n      <td>Hu</td>\n      <td>None</td>\n      <td>0</td>\n      <td>None</td>\n      <td>&lt;IndividualSurvey xmlns=\"http://schemas.micros...</td>\n      <td>1773C8F3-2CC7-4826-A7F5-30D3F36543CD</td>\n      <td>2013-10-16</td>\n      <td>20777.0</td>\n      <td>16363.0</td>\n      <td>2013-10-16</td>\n    </tr>\n  </tbody>\n</table>\n<p>19972 rows × 16 columns</p>\n</div>"
          },
          "metadata": {},
          "execution_count": 10
        }
      ]
    },
    {
      "cell_type": "code",
      "metadata": {
        "id": "9Hb5iX98VG_t",
        "outputId": "cb238ace-0cc8-4d2e-8424-e63bac042894"
      },
      "source": [
        "query = \"\"\"\n",
        "        SELECT 19972 - 19118\n",
        "        \"\"\"\n",
        "pd.read_sql(query, conn)"
      ],
      "execution_count": 11,
      "outputs": [
        {
          "output_type": "execute_result",
          "data": {
            "text/plain": [
              "      \n",
              "0  854"
            ],
            "text/html": "<div>\n<style scoped>\n    .dataframe tbody tr th:only-of-type {\n        vertical-align: middle;\n    }\n\n    .dataframe tbody tr th {\n        vertical-align: top;\n    }\n\n    .dataframe thead th {\n        text-align: right;\n    }\n</style>\n<table border=\"1\" class=\"dataframe\">\n  <thead>\n    <tr style=\"text-align: right;\">\n      <th></th>\n      <th></th>\n    </tr>\n  </thead>\n  <tbody>\n    <tr>\n      <th>0</th>\n      <td>854</td>\n    </tr>\n  </tbody>\n</table>\n</div>"
          },
          "metadata": {},
          "execution_count": 11
        }
      ]
    },
    {
      "cell_type": "code",
      "metadata": {
        "id": "gZ5O0PDeVG_u",
        "outputId": "27394c23-dc09-4e1c-b736-3e083b60a486"
      },
      "source": [
        "query = \"\"\"\n",
        "        SELECT *\n",
        "        FROM Person.Person PP\n",
        "        LEFT JOIN Sales.PersonCreditCard SP ON PP.BusinessEntityID = SP.BusinessEntityID\n",
        "        WHERE SP.BusinessEntityID IS NULL\n",
        "        \"\"\"\n",
        "pd.read_sql(query, conn)"
      ],
      "execution_count": 12,
      "outputs": [
        {
          "output_type": "execute_result",
          "data": {
            "text/plain": [
              "    BusinessEntityID PersonType  NameStyle Title FirstName MiddleName  \\\n",
              "0                  1         EM      False  None       Ken          J   \n",
              "1                  2         EM      False  None     Terri        Lee   \n",
              "2                  3         EM      False  None   Roberto       None   \n",
              "3                  4         EM      False  None       Rob       None   \n",
              "4                  5         EM      False   Ms.      Gail          A   \n",
              "..               ...        ...        ...   ...       ...        ...   \n",
              "849             2375         GC      False  None   Michael       None   \n",
              "850             2376         GC      False  None    Claire       None   \n",
              "851             2377         GC      False  None     Susan       None   \n",
              "852             2378         GC      False  None       Sue       None   \n",
              "853             2379         GC      False  None       Ben       None   \n",
              "\n",
              "       LastName Suffix  EmailPromotion AdditionalContactInfo  \\\n",
              "0       Sánchez   None               0                  None   \n",
              "1         Duffy   None               1                  None   \n",
              "2    Tamburello   None               0                  None   \n",
              "3       Walters   None               0                  None   \n",
              "4      Erickson   None               0                  None   \n",
              "..          ...    ...             ...                   ...   \n",
              "849       Allen   None               2                  None   \n",
              "850   O'Donnell   None               2                  None   \n",
              "851     Metters   None               0                  None   \n",
              "852       Brown   None               0                  None   \n",
              "853        Hurt   None               0                  None   \n",
              "\n",
              "                                          Demographics  \\\n",
              "0    <IndividualSurvey xmlns=\"http://schemas.micros...   \n",
              "1    <IndividualSurvey xmlns=\"http://schemas.micros...   \n",
              "2    <IndividualSurvey xmlns=\"http://schemas.micros...   \n",
              "3    <IndividualSurvey xmlns=\"http://schemas.micros...   \n",
              "4    <IndividualSurvey xmlns=\"http://schemas.micros...   \n",
              "..                                                 ...   \n",
              "849  <IndividualSurvey xmlns=\"http://schemas.micros...   \n",
              "850  <IndividualSurvey xmlns=\"http://schemas.micros...   \n",
              "851  <IndividualSurvey xmlns=\"http://schemas.micros...   \n",
              "852  <IndividualSurvey xmlns=\"http://schemas.micros...   \n",
              "853  <IndividualSurvey xmlns=\"http://schemas.micros...   \n",
              "\n",
              "                                  rowguid ModifiedDate BusinessEntityID  \\\n",
              "0    92C4279F-1207-48A3-8448-4636514EB7E2   2009-01-07             None   \n",
              "1    D8763459-8AA8-47CC-AFF7-C9079AF79033   2008-01-24             None   \n",
              "2    E1A2555E-0828-434B-A33B-6F38136A37DE   2007-11-04             None   \n",
              "3    F2D7CE06-38B3-4357-805B-F4B6B71C01FF   2007-11-28             None   \n",
              "4    F3A3F6B4-AE3B-430C-A754-9F2231BA6FEF   2007-12-30             None   \n",
              "..                                    ...          ...              ...   \n",
              "849  F4C2287D-CE25-4D6A-9D8E-B97D99985DE3   2009-01-07             None   \n",
              "850  740DA540-8310-47B4-A384-D08892AD08BE   2009-01-24             None   \n",
              "851  E0D9B655-6A6F-4DB5-9BEE-4596ED1ED596   2012-09-23             None   \n",
              "852  DF18290B-86BC-4796-B0B7-146FB96811AB   2009-04-26             None   \n",
              "853  817C7199-7974-43C3-86B6-DB4C6633E39D   2007-11-28             None   \n",
              "\n",
              "    CreditCardID ModifiedDate  \n",
              "0           None         None  \n",
              "1           None         None  \n",
              "2           None         None  \n",
              "3           None         None  \n",
              "4           None         None  \n",
              "..           ...          ...  \n",
              "849         None         None  \n",
              "850         None         None  \n",
              "851         None         None  \n",
              "852         None         None  \n",
              "853         None         None  \n",
              "\n",
              "[854 rows x 16 columns]"
            ],
            "text/html": "<div>\n<style scoped>\n    .dataframe tbody tr th:only-of-type {\n        vertical-align: middle;\n    }\n\n    .dataframe tbody tr th {\n        vertical-align: top;\n    }\n\n    .dataframe thead th {\n        text-align: right;\n    }\n</style>\n<table border=\"1\" class=\"dataframe\">\n  <thead>\n    <tr style=\"text-align: right;\">\n      <th></th>\n      <th>BusinessEntityID</th>\n      <th>PersonType</th>\n      <th>NameStyle</th>\n      <th>Title</th>\n      <th>FirstName</th>\n      <th>MiddleName</th>\n      <th>LastName</th>\n      <th>Suffix</th>\n      <th>EmailPromotion</th>\n      <th>AdditionalContactInfo</th>\n      <th>Demographics</th>\n      <th>rowguid</th>\n      <th>ModifiedDate</th>\n      <th>BusinessEntityID</th>\n      <th>CreditCardID</th>\n      <th>ModifiedDate</th>\n    </tr>\n  </thead>\n  <tbody>\n    <tr>\n      <th>0</th>\n      <td>1</td>\n      <td>EM</td>\n      <td>False</td>\n      <td>None</td>\n      <td>Ken</td>\n      <td>J</td>\n      <td>Sánchez</td>\n      <td>None</td>\n      <td>0</td>\n      <td>None</td>\n      <td>&lt;IndividualSurvey xmlns=\"http://schemas.micros...</td>\n      <td>92C4279F-1207-48A3-8448-4636514EB7E2</td>\n      <td>2009-01-07</td>\n      <td>None</td>\n      <td>None</td>\n      <td>None</td>\n    </tr>\n    <tr>\n      <th>1</th>\n      <td>2</td>\n      <td>EM</td>\n      <td>False</td>\n      <td>None</td>\n      <td>Terri</td>\n      <td>Lee</td>\n      <td>Duffy</td>\n      <td>None</td>\n      <td>1</td>\n      <td>None</td>\n      <td>&lt;IndividualSurvey xmlns=\"http://schemas.micros...</td>\n      <td>D8763459-8AA8-47CC-AFF7-C9079AF79033</td>\n      <td>2008-01-24</td>\n      <td>None</td>\n      <td>None</td>\n      <td>None</td>\n    </tr>\n    <tr>\n      <th>2</th>\n      <td>3</td>\n      <td>EM</td>\n      <td>False</td>\n      <td>None</td>\n      <td>Roberto</td>\n      <td>None</td>\n      <td>Tamburello</td>\n      <td>None</td>\n      <td>0</td>\n      <td>None</td>\n      <td>&lt;IndividualSurvey xmlns=\"http://schemas.micros...</td>\n      <td>E1A2555E-0828-434B-A33B-6F38136A37DE</td>\n      <td>2007-11-04</td>\n      <td>None</td>\n      <td>None</td>\n      <td>None</td>\n    </tr>\n    <tr>\n      <th>3</th>\n      <td>4</td>\n      <td>EM</td>\n      <td>False</td>\n      <td>None</td>\n      <td>Rob</td>\n      <td>None</td>\n      <td>Walters</td>\n      <td>None</td>\n      <td>0</td>\n      <td>None</td>\n      <td>&lt;IndividualSurvey xmlns=\"http://schemas.micros...</td>\n      <td>F2D7CE06-38B3-4357-805B-F4B6B71C01FF</td>\n      <td>2007-11-28</td>\n      <td>None</td>\n      <td>None</td>\n      <td>None</td>\n    </tr>\n    <tr>\n      <th>4</th>\n      <td>5</td>\n      <td>EM</td>\n      <td>False</td>\n      <td>Ms.</td>\n      <td>Gail</td>\n      <td>A</td>\n      <td>Erickson</td>\n      <td>None</td>\n      <td>0</td>\n      <td>None</td>\n      <td>&lt;IndividualSurvey xmlns=\"http://schemas.micros...</td>\n      <td>F3A3F6B4-AE3B-430C-A754-9F2231BA6FEF</td>\n      <td>2007-12-30</td>\n      <td>None</td>\n      <td>None</td>\n      <td>None</td>\n    </tr>\n    <tr>\n      <th>...</th>\n      <td>...</td>\n      <td>...</td>\n      <td>...</td>\n      <td>...</td>\n      <td>...</td>\n      <td>...</td>\n      <td>...</td>\n      <td>...</td>\n      <td>...</td>\n      <td>...</td>\n      <td>...</td>\n      <td>...</td>\n      <td>...</td>\n      <td>...</td>\n      <td>...</td>\n      <td>...</td>\n    </tr>\n    <tr>\n      <th>849</th>\n      <td>2375</td>\n      <td>GC</td>\n      <td>False</td>\n      <td>None</td>\n      <td>Michael</td>\n      <td>None</td>\n      <td>Allen</td>\n      <td>None</td>\n      <td>2</td>\n      <td>None</td>\n      <td>&lt;IndividualSurvey xmlns=\"http://schemas.micros...</td>\n      <td>F4C2287D-CE25-4D6A-9D8E-B97D99985DE3</td>\n      <td>2009-01-07</td>\n      <td>None</td>\n      <td>None</td>\n      <td>None</td>\n    </tr>\n    <tr>\n      <th>850</th>\n      <td>2376</td>\n      <td>GC</td>\n      <td>False</td>\n      <td>None</td>\n      <td>Claire</td>\n      <td>None</td>\n      <td>O'Donnell</td>\n      <td>None</td>\n      <td>2</td>\n      <td>None</td>\n      <td>&lt;IndividualSurvey xmlns=\"http://schemas.micros...</td>\n      <td>740DA540-8310-47B4-A384-D08892AD08BE</td>\n      <td>2009-01-24</td>\n      <td>None</td>\n      <td>None</td>\n      <td>None</td>\n    </tr>\n    <tr>\n      <th>851</th>\n      <td>2377</td>\n      <td>GC</td>\n      <td>False</td>\n      <td>None</td>\n      <td>Susan</td>\n      <td>None</td>\n      <td>Metters</td>\n      <td>None</td>\n      <td>0</td>\n      <td>None</td>\n      <td>&lt;IndividualSurvey xmlns=\"http://schemas.micros...</td>\n      <td>E0D9B655-6A6F-4DB5-9BEE-4596ED1ED596</td>\n      <td>2012-09-23</td>\n      <td>None</td>\n      <td>None</td>\n      <td>None</td>\n    </tr>\n    <tr>\n      <th>852</th>\n      <td>2378</td>\n      <td>GC</td>\n      <td>False</td>\n      <td>None</td>\n      <td>Sue</td>\n      <td>None</td>\n      <td>Brown</td>\n      <td>None</td>\n      <td>0</td>\n      <td>None</td>\n      <td>&lt;IndividualSurvey xmlns=\"http://schemas.micros...</td>\n      <td>DF18290B-86BC-4796-B0B7-146FB96811AB</td>\n      <td>2009-04-26</td>\n      <td>None</td>\n      <td>None</td>\n      <td>None</td>\n    </tr>\n    <tr>\n      <th>853</th>\n      <td>2379</td>\n      <td>GC</td>\n      <td>False</td>\n      <td>None</td>\n      <td>Ben</td>\n      <td>None</td>\n      <td>Hurt</td>\n      <td>None</td>\n      <td>0</td>\n      <td>None</td>\n      <td>&lt;IndividualSurvey xmlns=\"http://schemas.micros...</td>\n      <td>817C7199-7974-43C3-86B6-DB4C6633E39D</td>\n      <td>2007-11-28</td>\n      <td>None</td>\n      <td>None</td>\n      <td>None</td>\n    </tr>\n  </tbody>\n</table>\n<p>854 rows × 16 columns</p>\n</div>"
          },
          "metadata": {},
          "execution_count": 12
        }
      ]
    },
    {
      "cell_type": "markdown",
      "metadata": {
        "id": "j4LD5ZbwVG_y"
      },
      "source": [
        "## Union"
      ]
    },
    {
      "cell_type": "markdown",
      "metadata": {
        "id": "X5Zx3MrNVG_y"
      },
      "source": [
        "O UNION operador é usado para combinar o conjunto de resultados de duas ou mais SELECT instruções.\n",
        "\n",
        "Sintaxe\n",
        "\n",
        "SELECT column_name(s) FROM table1\n",
        "\n",
        "UNION\n",
        "\n",
        "SELECT column_name(s) FROM table2;\n",
        "\n",
        "\n",
        "\n",
        "\n"
      ]
    },
    {
      "cell_type": "code",
      "metadata": {
        "id": "fQSWNukFVG_z",
        "outputId": "0c01bbaa-e49c-440a-d433-2f1fd02c8915"
      },
      "source": [
        "query = \"\"\"\n",
        "        SELECT ProductID, Name, ProductNumber\n",
        "        FROM Production.Product\n",
        "        WHERE Name LIKE '%chain%'\n",
        "        UNION\n",
        "        SELECT ProductID, Name, ProductNumber\n",
        "        FROM Production.Product\n",
        "        WHERE Name LIKE '%decal%';\n",
        "        \"\"\"\n",
        "pd.read_sql(query, conn)"
      ],
      "execution_count": 13,
      "outputs": [
        {
          "output_type": "execute_result",
          "data": {
            "text/plain": [
              "   ProductID             Name ProductNumber\n",
              "0        320  Chainring Bolts       CB-2903\n",
              "1        321    Chainring Nut       CN-6137\n",
              "2        322        Chainring       CR-7833\n",
              "3        324      Chain Stays       CS-2812\n",
              "4        325          Decal 1       DC-8732\n",
              "5        326          Decal 2       DC-9824\n",
              "6        952            Chain       CH-0234"
            ],
            "text/html": "<div>\n<style scoped>\n    .dataframe tbody tr th:only-of-type {\n        vertical-align: middle;\n    }\n\n    .dataframe tbody tr th {\n        vertical-align: top;\n    }\n\n    .dataframe thead th {\n        text-align: right;\n    }\n</style>\n<table border=\"1\" class=\"dataframe\">\n  <thead>\n    <tr style=\"text-align: right;\">\n      <th></th>\n      <th>ProductID</th>\n      <th>Name</th>\n      <th>ProductNumber</th>\n    </tr>\n  </thead>\n  <tbody>\n    <tr>\n      <th>0</th>\n      <td>320</td>\n      <td>Chainring Bolts</td>\n      <td>CB-2903</td>\n    </tr>\n    <tr>\n      <th>1</th>\n      <td>321</td>\n      <td>Chainring Nut</td>\n      <td>CN-6137</td>\n    </tr>\n    <tr>\n      <th>2</th>\n      <td>322</td>\n      <td>Chainring</td>\n      <td>CR-7833</td>\n    </tr>\n    <tr>\n      <th>3</th>\n      <td>324</td>\n      <td>Chain Stays</td>\n      <td>CS-2812</td>\n    </tr>\n    <tr>\n      <th>4</th>\n      <td>325</td>\n      <td>Decal 1</td>\n      <td>DC-8732</td>\n    </tr>\n    <tr>\n      <th>5</th>\n      <td>326</td>\n      <td>Decal 2</td>\n      <td>DC-9824</td>\n    </tr>\n    <tr>\n      <th>6</th>\n      <td>952</td>\n      <td>Chain</td>\n      <td>CH-0234</td>\n    </tr>\n  </tbody>\n</table>\n</div>"
          },
          "metadata": {},
          "execution_count": 13
        }
      ]
    },
    {
      "cell_type": "code",
      "metadata": {
        "id": "Bj0syQCsVG_z",
        "outputId": "6b11e39a-4543-4dd4-c2c2-5a164898b93b"
      },
      "source": [
        "query = \"\"\"\n",
        "        SELECT FirstName, Title, MiddleName\n",
        "        FROM Person.Person\n",
        "        WHERE Title = 'Mr.'\n",
        "        UNION\n",
        "        SELECT FirstName, Title, MiddleName\n",
        "        FROM Person.Person\n",
        "        WHERE MiddleName = 'A'\n",
        "        \"\"\"\n",
        "pd.read_sql(query, conn)"
      ],
      "execution_count": 14,
      "outputs": [
        {
          "output_type": "execute_result",
          "data": {
            "text/plain": [
              "     FirstName Title MiddleName\n",
              "0        Aaron  None          A\n",
              "1        Aaron   Mr.       None\n",
              "2         Abby  None          A\n",
              "3          Abe   Mr.         M.\n",
              "4      Abigail  None          A\n",
              "..         ...   ...        ...\n",
              "931  Yao-Qiang   Mr.       None\n",
              "932    Yolanda  None          A\n",
              "933    Zachary  None          A\n",
              "934      Zheng   Mr.       None\n",
              "935        Zoe  None          A\n",
              "\n",
              "[936 rows x 3 columns]"
            ],
            "text/html": "<div>\n<style scoped>\n    .dataframe tbody tr th:only-of-type {\n        vertical-align: middle;\n    }\n\n    .dataframe tbody tr th {\n        vertical-align: top;\n    }\n\n    .dataframe thead th {\n        text-align: right;\n    }\n</style>\n<table border=\"1\" class=\"dataframe\">\n  <thead>\n    <tr style=\"text-align: right;\">\n      <th></th>\n      <th>FirstName</th>\n      <th>Title</th>\n      <th>MiddleName</th>\n    </tr>\n  </thead>\n  <tbody>\n    <tr>\n      <th>0</th>\n      <td>Aaron</td>\n      <td>None</td>\n      <td>A</td>\n    </tr>\n    <tr>\n      <th>1</th>\n      <td>Aaron</td>\n      <td>Mr.</td>\n      <td>None</td>\n    </tr>\n    <tr>\n      <th>2</th>\n      <td>Abby</td>\n      <td>None</td>\n      <td>A</td>\n    </tr>\n    <tr>\n      <th>3</th>\n      <td>Abe</td>\n      <td>Mr.</td>\n      <td>M.</td>\n    </tr>\n    <tr>\n      <th>4</th>\n      <td>Abigail</td>\n      <td>None</td>\n      <td>A</td>\n    </tr>\n    <tr>\n      <th>...</th>\n      <td>...</td>\n      <td>...</td>\n      <td>...</td>\n    </tr>\n    <tr>\n      <th>931</th>\n      <td>Yao-Qiang</td>\n      <td>Mr.</td>\n      <td>None</td>\n    </tr>\n    <tr>\n      <th>932</th>\n      <td>Yolanda</td>\n      <td>None</td>\n      <td>A</td>\n    </tr>\n    <tr>\n      <th>933</th>\n      <td>Zachary</td>\n      <td>None</td>\n      <td>A</td>\n    </tr>\n    <tr>\n      <th>934</th>\n      <td>Zheng</td>\n      <td>Mr.</td>\n      <td>None</td>\n    </tr>\n    <tr>\n      <th>935</th>\n      <td>Zoe</td>\n      <td>None</td>\n      <td>A</td>\n    </tr>\n  </tbody>\n</table>\n<p>936 rows × 3 columns</p>\n</div>"
          },
          "metadata": {},
          "execution_count": 14
        }
      ]
    },
    {
      "cell_type": "markdown",
      "metadata": {
        "id": "xuMakPHLVG_0"
      },
      "source": [
        "## Bancos de dados de exemplo Northwind\n",
        "\n"
      ]
    },
    {
      "cell_type": "markdown",
      "metadata": {
        "id": "5bNwREy6V3kU"
      },
      "source": [
        "https://github.com/microsoft/sql-server-samples/tree/master/samples/databases/northwind-pubs\n",
        "\n",
        "https://raw.githubusercontent.com/microsoft/sql-server-samples/master/samples/databases/northwind-pubs/instnwnd.sql"
      ]
    },
    {
      "cell_type": "markdown",
      "metadata": {
        "id": "2yrfl7M_VG_0"
      },
      "source": [
        "## Self Join\n",
        "\n"
      ]
    },
    {
      "cell_type": "markdown",
      "metadata": {
        "id": "5mZiYW3VVG_1"
      },
      "source": [
        "O SQL SELF JOIN é usado para unir uma tabela a si mesma como se a tabela fosse duas tabelas; renomeando temporariamente pelo menos uma tabela na instrução SQL.\n",
        "\n",
        "Sintaxe\n",
        "\n",
        "SELECT a.column_name, b.column_name...\n",
        "\n",
        "FROM table1 a, table1 b\n",
        "\n",
        "WHERE a.common_field = b.common_field;"
      ]
    },
    {
      "cell_type": "code",
      "metadata": {
        "id": "CIMJBPsKVG_1"
      },
      "source": [
        "# Some other example server values are\n",
        "# server = 'localhost\\sqlexpress' # for a named instance\n",
        "# server = 'myserver,port' # to specify an alternate port\n",
        "server = 'localhost,1433'\n",
        "database = 'Northwind'\n",
        "username = 'yyyyyyy' # Usuário\n",
        "password = '{xxxxxxx}' #Password\n",
        "driver = \"{ODBC Driver 17 for SQL Server}\"\n",
        "\n",
        "conn_string2 = f\"\"\"\n",
        "            DRIVER={driver};\n",
        "            SERVER={server};\n",
        "            DATABASE={database};\n",
        "            UID={username};\n",
        "            PWD={password}\n",
        "            \"\"\"\n",
        "conn2 = pyodbc.connect(conn_string2)"
      ],
      "execution_count": 15,
      "outputs": []
    },
    {
      "cell_type": "markdown",
      "metadata": {
        "id": "6jKmtCmvVG_2"
      },
      "source": [
        "Todos os clientes que moram na mesma região.\n"
      ]
    },
    {
      "cell_type": "code",
      "metadata": {
        "id": "DWZuh4hKVG_2",
        "outputId": "7c0fa7bc-8080-46fd-9568-06d581fea133"
      },
      "source": [
        "query = \"\"\"\n",
        "        SELECT A.ContactName, A.Region, B.ContactName, B.Region\n",
        "        FROM Customers A, Customers B\n",
        "        WHERE A.Region = B.Region\n",
        "        \"\"\"\n",
        "pd.read_sql(query, conn2)"
      ],
      "execution_count": 16,
      "outputs": [
        {
          "output_type": "execute_result",
          "data": {
            "text/plain": [
              "          ContactName Region        ContactName Region\n",
              "0   Elizabeth Lincoln     BC  Elizabeth Lincoln     BC\n",
              "1   Elizabeth Lincoln     BC    Yoshi Tannamuri     BC\n",
              "2        Pedro Afonso     SP       Pedro Afonso     SP\n",
              "3        Pedro Afonso     SP          Aria Cruz     SP\n",
              "4        Pedro Afonso     SP      André Fonseca     SP\n",
              "..                ...    ...                ...    ...\n",
              "82      Paula Parente     SP  Anabela Domingues     SP\n",
              "83      Paula Parente     SP      Paula Parente     SP\n",
              "84     Karl Jablonski     WA         John Steel     WA\n",
              "85     Karl Jablonski     WA     Helvetius Nagy     WA\n",
              "86     Karl Jablonski     WA     Karl Jablonski     WA\n",
              "\n",
              "[87 rows x 4 columns]"
            ],
            "text/html": "<div>\n<style scoped>\n    .dataframe tbody tr th:only-of-type {\n        vertical-align: middle;\n    }\n\n    .dataframe tbody tr th {\n        vertical-align: top;\n    }\n\n    .dataframe thead th {\n        text-align: right;\n    }\n</style>\n<table border=\"1\" class=\"dataframe\">\n  <thead>\n    <tr style=\"text-align: right;\">\n      <th></th>\n      <th>ContactName</th>\n      <th>Region</th>\n      <th>ContactName</th>\n      <th>Region</th>\n    </tr>\n  </thead>\n  <tbody>\n    <tr>\n      <th>0</th>\n      <td>Elizabeth Lincoln</td>\n      <td>BC</td>\n      <td>Elizabeth Lincoln</td>\n      <td>BC</td>\n    </tr>\n    <tr>\n      <th>1</th>\n      <td>Elizabeth Lincoln</td>\n      <td>BC</td>\n      <td>Yoshi Tannamuri</td>\n      <td>BC</td>\n    </tr>\n    <tr>\n      <th>2</th>\n      <td>Pedro Afonso</td>\n      <td>SP</td>\n      <td>Pedro Afonso</td>\n      <td>SP</td>\n    </tr>\n    <tr>\n      <th>3</th>\n      <td>Pedro Afonso</td>\n      <td>SP</td>\n      <td>Aria Cruz</td>\n      <td>SP</td>\n    </tr>\n    <tr>\n      <th>4</th>\n      <td>Pedro Afonso</td>\n      <td>SP</td>\n      <td>André Fonseca</td>\n      <td>SP</td>\n    </tr>\n    <tr>\n      <th>...</th>\n      <td>...</td>\n      <td>...</td>\n      <td>...</td>\n      <td>...</td>\n    </tr>\n    <tr>\n      <th>82</th>\n      <td>Paula Parente</td>\n      <td>SP</td>\n      <td>Anabela Domingues</td>\n      <td>SP</td>\n    </tr>\n    <tr>\n      <th>83</th>\n      <td>Paula Parente</td>\n      <td>SP</td>\n      <td>Paula Parente</td>\n      <td>SP</td>\n    </tr>\n    <tr>\n      <th>84</th>\n      <td>Karl Jablonski</td>\n      <td>WA</td>\n      <td>John Steel</td>\n      <td>WA</td>\n    </tr>\n    <tr>\n      <th>85</th>\n      <td>Karl Jablonski</td>\n      <td>WA</td>\n      <td>Helvetius Nagy</td>\n      <td>WA</td>\n    </tr>\n    <tr>\n      <th>86</th>\n      <td>Karl Jablonski</td>\n      <td>WA</td>\n      <td>Karl Jablonski</td>\n      <td>WA</td>\n    </tr>\n  </tbody>\n</table>\n<p>87 rows × 4 columns</p>\n</div>"
          },
          "metadata": {},
          "execution_count": 16
        }
      ]
    },
    {
      "cell_type": "markdown",
      "metadata": {
        "id": "C7ntCFqRVG_3"
      },
      "source": [
        "Encontrar (nome e data de contratação) de todos os funcionários que foram contratados no mesmo ano."
      ]
    },
    {
      "cell_type": "code",
      "metadata": {
        "id": "53Ee1Jt-VG_4",
        "outputId": "85d6d0e0-9c12-4b3e-ea14-34483d885501"
      },
      "source": [
        "query = \"\"\"\n",
        "        SELECT A.FirstName, A.HireDate, B.FirstName, B.HireDate\n",
        "        FROM Employees A, Employees B\n",
        "        WHERE DATEPART(YEAR,A.HireDate) = DATEPART(YEAR,B.HireDate)\n",
        "        \"\"\"\n",
        "pd.read_sql(query, conn2)"
      ],
      "execution_count": 17,
      "outputs": [
        {
          "output_type": "execute_result",
          "data": {
            "text/plain": [
              "   FirstName   HireDate FirstName   HireDate\n",
              "0      Nancy 1992-05-01     Nancy 1992-05-01\n",
              "1     Andrew 1992-08-14     Nancy 1992-05-01\n",
              "2      Janet 1992-04-01     Nancy 1992-05-01\n",
              "3      Nancy 1992-05-01    Andrew 1992-08-14\n",
              "4     Andrew 1992-08-14    Andrew 1992-08-14\n",
              "5      Janet 1992-04-01    Andrew 1992-08-14\n",
              "6      Nancy 1992-05-01     Janet 1992-04-01\n",
              "7     Andrew 1992-08-14     Janet 1992-04-01\n",
              "8      Janet 1992-04-01     Janet 1992-04-01\n",
              "9   Margaret 1993-05-03  Margaret 1993-05-03\n",
              "10    Steven 1993-10-17  Margaret 1993-05-03\n",
              "11   Michael 1993-10-17  Margaret 1993-05-03\n",
              "12  Margaret 1993-05-03    Steven 1993-10-17\n",
              "13    Steven 1993-10-17    Steven 1993-10-17\n",
              "14   Michael 1993-10-17    Steven 1993-10-17\n",
              "15  Margaret 1993-05-03   Michael 1993-10-17\n",
              "16    Steven 1993-10-17   Michael 1993-10-17\n",
              "17   Michael 1993-10-17   Michael 1993-10-17\n",
              "18    Robert 1994-01-02    Robert 1994-01-02\n",
              "19     Laura 1994-03-05    Robert 1994-01-02\n",
              "20      Anne 1994-11-15    Robert 1994-01-02\n",
              "21    Robert 1994-01-02     Laura 1994-03-05\n",
              "22     Laura 1994-03-05     Laura 1994-03-05\n",
              "23      Anne 1994-11-15     Laura 1994-03-05\n",
              "24    Robert 1994-01-02      Anne 1994-11-15\n",
              "25     Laura 1994-03-05      Anne 1994-11-15\n",
              "26      Anne 1994-11-15      Anne 1994-11-15"
            ],
            "text/html": "<div>\n<style scoped>\n    .dataframe tbody tr th:only-of-type {\n        vertical-align: middle;\n    }\n\n    .dataframe tbody tr th {\n        vertical-align: top;\n    }\n\n    .dataframe thead th {\n        text-align: right;\n    }\n</style>\n<table border=\"1\" class=\"dataframe\">\n  <thead>\n    <tr style=\"text-align: right;\">\n      <th></th>\n      <th>FirstName</th>\n      <th>HireDate</th>\n      <th>FirstName</th>\n      <th>HireDate</th>\n    </tr>\n  </thead>\n  <tbody>\n    <tr>\n      <th>0</th>\n      <td>Nancy</td>\n      <td>1992-05-01</td>\n      <td>Nancy</td>\n      <td>1992-05-01</td>\n    </tr>\n    <tr>\n      <th>1</th>\n      <td>Andrew</td>\n      <td>1992-08-14</td>\n      <td>Nancy</td>\n      <td>1992-05-01</td>\n    </tr>\n    <tr>\n      <th>2</th>\n      <td>Janet</td>\n      <td>1992-04-01</td>\n      <td>Nancy</td>\n      <td>1992-05-01</td>\n    </tr>\n    <tr>\n      <th>3</th>\n      <td>Nancy</td>\n      <td>1992-05-01</td>\n      <td>Andrew</td>\n      <td>1992-08-14</td>\n    </tr>\n    <tr>\n      <th>4</th>\n      <td>Andrew</td>\n      <td>1992-08-14</td>\n      <td>Andrew</td>\n      <td>1992-08-14</td>\n    </tr>\n    <tr>\n      <th>5</th>\n      <td>Janet</td>\n      <td>1992-04-01</td>\n      <td>Andrew</td>\n      <td>1992-08-14</td>\n    </tr>\n    <tr>\n      <th>6</th>\n      <td>Nancy</td>\n      <td>1992-05-01</td>\n      <td>Janet</td>\n      <td>1992-04-01</td>\n    </tr>\n    <tr>\n      <th>7</th>\n      <td>Andrew</td>\n      <td>1992-08-14</td>\n      <td>Janet</td>\n      <td>1992-04-01</td>\n    </tr>\n    <tr>\n      <th>8</th>\n      <td>Janet</td>\n      <td>1992-04-01</td>\n      <td>Janet</td>\n      <td>1992-04-01</td>\n    </tr>\n    <tr>\n      <th>9</th>\n      <td>Margaret</td>\n      <td>1993-05-03</td>\n      <td>Margaret</td>\n      <td>1993-05-03</td>\n    </tr>\n    <tr>\n      <th>10</th>\n      <td>Steven</td>\n      <td>1993-10-17</td>\n      <td>Margaret</td>\n      <td>1993-05-03</td>\n    </tr>\n    <tr>\n      <th>11</th>\n      <td>Michael</td>\n      <td>1993-10-17</td>\n      <td>Margaret</td>\n      <td>1993-05-03</td>\n    </tr>\n    <tr>\n      <th>12</th>\n      <td>Margaret</td>\n      <td>1993-05-03</td>\n      <td>Steven</td>\n      <td>1993-10-17</td>\n    </tr>\n    <tr>\n      <th>13</th>\n      <td>Steven</td>\n      <td>1993-10-17</td>\n      <td>Steven</td>\n      <td>1993-10-17</td>\n    </tr>\n    <tr>\n      <th>14</th>\n      <td>Michael</td>\n      <td>1993-10-17</td>\n      <td>Steven</td>\n      <td>1993-10-17</td>\n    </tr>\n    <tr>\n      <th>15</th>\n      <td>Margaret</td>\n      <td>1993-05-03</td>\n      <td>Michael</td>\n      <td>1993-10-17</td>\n    </tr>\n    <tr>\n      <th>16</th>\n      <td>Steven</td>\n      <td>1993-10-17</td>\n      <td>Michael</td>\n      <td>1993-10-17</td>\n    </tr>\n    <tr>\n      <th>17</th>\n      <td>Michael</td>\n      <td>1993-10-17</td>\n      <td>Michael</td>\n      <td>1993-10-17</td>\n    </tr>\n    <tr>\n      <th>18</th>\n      <td>Robert</td>\n      <td>1994-01-02</td>\n      <td>Robert</td>\n      <td>1994-01-02</td>\n    </tr>\n    <tr>\n      <th>19</th>\n      <td>Laura</td>\n      <td>1994-03-05</td>\n      <td>Robert</td>\n      <td>1994-01-02</td>\n    </tr>\n    <tr>\n      <th>20</th>\n      <td>Anne</td>\n      <td>1994-11-15</td>\n      <td>Robert</td>\n      <td>1994-01-02</td>\n    </tr>\n    <tr>\n      <th>21</th>\n      <td>Robert</td>\n      <td>1994-01-02</td>\n      <td>Laura</td>\n      <td>1994-03-05</td>\n    </tr>\n    <tr>\n      <th>22</th>\n      <td>Laura</td>\n      <td>1994-03-05</td>\n      <td>Laura</td>\n      <td>1994-03-05</td>\n    </tr>\n    <tr>\n      <th>23</th>\n      <td>Anne</td>\n      <td>1994-11-15</td>\n      <td>Laura</td>\n      <td>1994-03-05</td>\n    </tr>\n    <tr>\n      <th>24</th>\n      <td>Robert</td>\n      <td>1994-01-02</td>\n      <td>Anne</td>\n      <td>1994-11-15</td>\n    </tr>\n    <tr>\n      <th>25</th>\n      <td>Laura</td>\n      <td>1994-03-05</td>\n      <td>Anne</td>\n      <td>1994-11-15</td>\n    </tr>\n    <tr>\n      <th>26</th>\n      <td>Anne</td>\n      <td>1994-11-15</td>\n      <td>Anne</td>\n      <td>1994-11-15</td>\n    </tr>\n  </tbody>\n</table>\n</div>"
          },
          "metadata": {},
          "execution_count": 17
        }
      ]
    },
    {
      "cell_type": "markdown",
      "metadata": {
        "id": "_91wFBdzVG_4"
      },
      "source": [
        "### Desafio 1\n",
        "\n",
        "Na tabela detalhe de pedido, quais produtos têm o mesmo percentual de desconto."
      ]
    },
    {
      "cell_type": "code",
      "metadata": {
        "id": "sJ8-WElGVG_4",
        "outputId": "bb34a027-ad93-47c4-fc31-c75d35f4fec4"
      },
      "source": [
        "query = \"\"\"\n",
        "        SELECT A.ProductID, A.Discount, B.ProductID, B.Discount\n",
        "        FROM [Order Details] A, [Order Details] B\n",
        "        WHERE A.Discount = B.Discount\n",
        "        \"\"\"\n",
        "pd.read_sql(query, conn2)"
      ],
      "execution_count": 18,
      "outputs": [
        {
          "output_type": "execute_result",
          "data": {
            "text/plain": [
              "         ProductID  Discount  ProductID  Discount\n",
              "0               11      0.00         11      0.00\n",
              "1               42      0.00         11      0.00\n",
              "2               72      0.00         11      0.00\n",
              "3               14      0.00         11      0.00\n",
              "4               51      0.00         11      0.00\n",
              "...            ...       ...        ...       ...\n",
              "1872940          6      0.25         54      0.25\n",
              "1872941         14      0.25         54      0.25\n",
              "1872942         19      0.25         54      0.25\n",
              "1872943         30      0.25         54      0.25\n",
              "1872944         54      0.25         54      0.25\n",
              "\n",
              "[1872945 rows x 4 columns]"
            ],
            "text/html": "<div>\n<style scoped>\n    .dataframe tbody tr th:only-of-type {\n        vertical-align: middle;\n    }\n\n    .dataframe tbody tr th {\n        vertical-align: top;\n    }\n\n    .dataframe thead th {\n        text-align: right;\n    }\n</style>\n<table border=\"1\" class=\"dataframe\">\n  <thead>\n    <tr style=\"text-align: right;\">\n      <th></th>\n      <th>ProductID</th>\n      <th>Discount</th>\n      <th>ProductID</th>\n      <th>Discount</th>\n    </tr>\n  </thead>\n  <tbody>\n    <tr>\n      <th>0</th>\n      <td>11</td>\n      <td>0.00</td>\n      <td>11</td>\n      <td>0.00</td>\n    </tr>\n    <tr>\n      <th>1</th>\n      <td>42</td>\n      <td>0.00</td>\n      <td>11</td>\n      <td>0.00</td>\n    </tr>\n    <tr>\n      <th>2</th>\n      <td>72</td>\n      <td>0.00</td>\n      <td>11</td>\n      <td>0.00</td>\n    </tr>\n    <tr>\n      <th>3</th>\n      <td>14</td>\n      <td>0.00</td>\n      <td>11</td>\n      <td>0.00</td>\n    </tr>\n    <tr>\n      <th>4</th>\n      <td>51</td>\n      <td>0.00</td>\n      <td>11</td>\n      <td>0.00</td>\n    </tr>\n    <tr>\n      <th>...</th>\n      <td>...</td>\n      <td>...</td>\n      <td>...</td>\n      <td>...</td>\n    </tr>\n    <tr>\n      <th>1872940</th>\n      <td>6</td>\n      <td>0.25</td>\n      <td>54</td>\n      <td>0.25</td>\n    </tr>\n    <tr>\n      <th>1872941</th>\n      <td>14</td>\n      <td>0.25</td>\n      <td>54</td>\n      <td>0.25</td>\n    </tr>\n    <tr>\n      <th>1872942</th>\n      <td>19</td>\n      <td>0.25</td>\n      <td>54</td>\n      <td>0.25</td>\n    </tr>\n    <tr>\n      <th>1872943</th>\n      <td>30</td>\n      <td>0.25</td>\n      <td>54</td>\n      <td>0.25</td>\n    </tr>\n    <tr>\n      <th>1872944</th>\n      <td>54</td>\n      <td>0.25</td>\n      <td>54</td>\n      <td>0.25</td>\n    </tr>\n  </tbody>\n</table>\n<p>1872945 rows × 4 columns</p>\n</div>"
          },
          "metadata": {},
          "execution_count": 18
        }
      ]
    },
    {
      "cell_type": "markdown",
      "metadata": {
        "id": "adfiEQTvVG_5"
      },
      "source": [
        "## Subquery"
      ]
    },
    {
      "cell_type": "markdown",
      "metadata": {
        "id": "EqrxePXUVG_5"
      },
      "source": [
        "Uma consulta subconsulta ou interna ou uma consulta aninhada é uma consulta dentro de outra consulta SQL e incorporada na cláusula WHERE.\n",
        "\n",
        "Uma subconsulta é usada para retornar dados que serão usados ​​na consulta principal como uma condição para restringir ainda mais os dados a serem recuperados.\n",
        "\n",
        "Sintaxe\n",
        "\n",
        "SELECT column_name , column_name \n",
        "\n",
        "FROM   table1 , table2 \n",
        "\n",
        "WHERE  column_name OPERATOR\n",
        "\n",
        "   (SELECT column_name , column_name \n",
        "\n",
        "   FROM table1 , table2 \n",
        "   \n",
        "   WHERE)"
      ]
    },
    {
      "cell_type": "markdown",
      "metadata": {
        "id": "LvbdVj96VG_6"
      },
      "source": [
        "Monte um relatório de todos os produtos cadastrados que tem preço de venda acima da média."
      ]
    },
    {
      "cell_type": "code",
      "metadata": {
        "id": "c83Oq2PXVG_6",
        "outputId": "22dd2447-569b-43a3-b7f4-36ff70b4f905"
      },
      "source": [
        "query = \"\"\"\n",
        "        SELECT *\n",
        "        FROM Production.product\n",
        "        WHERE ListPrice > (SELECT AVG(ListPrice)FROM Production.Product)\n",
        "        \"\"\"\n",
        "pd.read_sql(query, conn)"
      ],
      "execution_count": 19,
      "outputs": [
        {
          "output_type": "execute_result",
          "data": {
            "text/plain": [
              "     ProductID                       Name ProductNumber  MakeFlag  \\\n",
              "0          680  HL Road Frame - Black, 58    FR-R92B-58      True   \n",
              "1          706    HL Road Frame - Red, 58    FR-R92R-58      True   \n",
              "2          717    HL Road Frame - Red, 62    FR-R92R-62      True   \n",
              "3          718    HL Road Frame - Red, 44    FR-R92R-44      True   \n",
              "4          719    HL Road Frame - Red, 48    FR-R92R-48      True   \n",
              "..         ...                        ...           ...       ...   \n",
              "131        992     Mountain-500 Black, 48    BK-M18B-48      True   \n",
              "132        993     Mountain-500 Black, 52    BK-M18B-52      True   \n",
              "133        997         Road-750 Black, 44    BK-R19B-44      True   \n",
              "134        998         Road-750 Black, 48    BK-R19B-48      True   \n",
              "135        999         Road-750 Black, 52    BK-R19B-52      True   \n",
              "\n",
              "     FinishedGoodsFlag  Color  SafetyStockLevel  ReorderPoint  StandardCost  \\\n",
              "0                 True  Black               500           375     1059.3100   \n",
              "1                 True    Red               500           375     1059.3100   \n",
              "2                 True    Red               500           375      868.6342   \n",
              "3                 True    Red               500           375      868.6342   \n",
              "4                 True    Red               500           375      868.6342   \n",
              "..                 ...    ...               ...           ...           ...   \n",
              "131               True  Black               100            75      294.5797   \n",
              "132               True  Black               100            75      294.5797   \n",
              "133               True  Black               100            75      343.6496   \n",
              "134               True  Black               100            75      343.6496   \n",
              "135               True  Black               100            75      343.6496   \n",
              "\n",
              "     ListPrice  ... ProductLine Class Style  ProductSubcategoryID  \\\n",
              "0      1431.50  ...          R     H     U                     14   \n",
              "1      1431.50  ...          R     H     U                     14   \n",
              "2      1431.50  ...          R     H     U                     14   \n",
              "3      1431.50  ...          R     H     U                     14   \n",
              "4      1431.50  ...          R     H     U                     14   \n",
              "..         ...  ...         ...   ...   ...                   ...   \n",
              "131     539.99  ...          M     L     U                      1   \n",
              "132     539.99  ...          M     L     U                      1   \n",
              "133     539.99  ...          R     L     U                      2   \n",
              "134     539.99  ...          R     L     U                      2   \n",
              "135     539.99  ...          R     L     U                      2   \n",
              "\n",
              "     ProductModelID SellStartDate SellEndDate DiscontinuedDate  \\\n",
              "0                 6    2008-04-30         NaT             None   \n",
              "1                 6    2008-04-30         NaT             None   \n",
              "2                 6    2011-05-31         NaT             None   \n",
              "3                 6    2011-05-31         NaT             None   \n",
              "4                 6    2011-05-31         NaT             None   \n",
              "..              ...           ...         ...              ...   \n",
              "131              23    2013-05-30         NaT             None   \n",
              "132              23    2013-05-30         NaT             None   \n",
              "133              31    2013-05-30         NaT             None   \n",
              "134              31    2013-05-30         NaT             None   \n",
              "135              31    2013-05-30         NaT             None   \n",
              "\n",
              "                                  rowguid            ModifiedDate  \n",
              "0    43DD68D6-14A4-461F-9069-55309D90EA7E 2014-02-08 10:01:36.827  \n",
              "1    9540FF17-2712-4C90-A3D1-8CE5568B2462 2014-02-08 10:01:36.827  \n",
              "2    052E4F8B-0A2A-46B2-9F42-10FEBCFAE416 2014-02-08 10:01:36.827  \n",
              "3    A88D3B54-2CAE-43F2-8C6E-EA1D97B46A7C 2014-02-08 10:01:36.827  \n",
              "4    07BEFC9A-7634-402B-B234-D7797733BAAF 2014-02-08 10:01:36.827  \n",
              "..                                    ...                     ...  \n",
              "131  75752E26-A3B6-4264-9B06-F23A4FBDC5A7 2014-02-08 10:01:36.827  \n",
              "132  69EE3B55-E142-4E4F-AED8-AF02978FBE87 2014-02-08 10:01:36.827  \n",
              "133  44CE4802-409F-43AB-9B27-CA53421805BE 2014-02-08 10:01:36.827  \n",
              "134  3DE9A212-1D49-40B6-B10A-F564D981DBDE 2014-02-08 10:01:36.827  \n",
              "135  AE638923-2B67-4679-B90E-ABBAB17DCA31 2014-02-08 10:01:36.827  \n",
              "\n",
              "[136 rows x 25 columns]"
            ],
            "text/html": "<div>\n<style scoped>\n    .dataframe tbody tr th:only-of-type {\n        vertical-align: middle;\n    }\n\n    .dataframe tbody tr th {\n        vertical-align: top;\n    }\n\n    .dataframe thead th {\n        text-align: right;\n    }\n</style>\n<table border=\"1\" class=\"dataframe\">\n  <thead>\n    <tr style=\"text-align: right;\">\n      <th></th>\n      <th>ProductID</th>\n      <th>Name</th>\n      <th>ProductNumber</th>\n      <th>MakeFlag</th>\n      <th>FinishedGoodsFlag</th>\n      <th>Color</th>\n      <th>SafetyStockLevel</th>\n      <th>ReorderPoint</th>\n      <th>StandardCost</th>\n      <th>ListPrice</th>\n      <th>...</th>\n      <th>ProductLine</th>\n      <th>Class</th>\n      <th>Style</th>\n      <th>ProductSubcategoryID</th>\n      <th>ProductModelID</th>\n      <th>SellStartDate</th>\n      <th>SellEndDate</th>\n      <th>DiscontinuedDate</th>\n      <th>rowguid</th>\n      <th>ModifiedDate</th>\n    </tr>\n  </thead>\n  <tbody>\n    <tr>\n      <th>0</th>\n      <td>680</td>\n      <td>HL Road Frame - Black, 58</td>\n      <td>FR-R92B-58</td>\n      <td>True</td>\n      <td>True</td>\n      <td>Black</td>\n      <td>500</td>\n      <td>375</td>\n      <td>1059.3100</td>\n      <td>1431.50</td>\n      <td>...</td>\n      <td>R</td>\n      <td>H</td>\n      <td>U</td>\n      <td>14</td>\n      <td>6</td>\n      <td>2008-04-30</td>\n      <td>NaT</td>\n      <td>None</td>\n      <td>43DD68D6-14A4-461F-9069-55309D90EA7E</td>\n      <td>2014-02-08 10:01:36.827</td>\n    </tr>\n    <tr>\n      <th>1</th>\n      <td>706</td>\n      <td>HL Road Frame - Red, 58</td>\n      <td>FR-R92R-58</td>\n      <td>True</td>\n      <td>True</td>\n      <td>Red</td>\n      <td>500</td>\n      <td>375</td>\n      <td>1059.3100</td>\n      <td>1431.50</td>\n      <td>...</td>\n      <td>R</td>\n      <td>H</td>\n      <td>U</td>\n      <td>14</td>\n      <td>6</td>\n      <td>2008-04-30</td>\n      <td>NaT</td>\n      <td>None</td>\n      <td>9540FF17-2712-4C90-A3D1-8CE5568B2462</td>\n      <td>2014-02-08 10:01:36.827</td>\n    </tr>\n    <tr>\n      <th>2</th>\n      <td>717</td>\n      <td>HL Road Frame - Red, 62</td>\n      <td>FR-R92R-62</td>\n      <td>True</td>\n      <td>True</td>\n      <td>Red</td>\n      <td>500</td>\n      <td>375</td>\n      <td>868.6342</td>\n      <td>1431.50</td>\n      <td>...</td>\n      <td>R</td>\n      <td>H</td>\n      <td>U</td>\n      <td>14</td>\n      <td>6</td>\n      <td>2011-05-31</td>\n      <td>NaT</td>\n      <td>None</td>\n      <td>052E4F8B-0A2A-46B2-9F42-10FEBCFAE416</td>\n      <td>2014-02-08 10:01:36.827</td>\n    </tr>\n    <tr>\n      <th>3</th>\n      <td>718</td>\n      <td>HL Road Frame - Red, 44</td>\n      <td>FR-R92R-44</td>\n      <td>True</td>\n      <td>True</td>\n      <td>Red</td>\n      <td>500</td>\n      <td>375</td>\n      <td>868.6342</td>\n      <td>1431.50</td>\n      <td>...</td>\n      <td>R</td>\n      <td>H</td>\n      <td>U</td>\n      <td>14</td>\n      <td>6</td>\n      <td>2011-05-31</td>\n      <td>NaT</td>\n      <td>None</td>\n      <td>A88D3B54-2CAE-43F2-8C6E-EA1D97B46A7C</td>\n      <td>2014-02-08 10:01:36.827</td>\n    </tr>\n    <tr>\n      <th>4</th>\n      <td>719</td>\n      <td>HL Road Frame - Red, 48</td>\n      <td>FR-R92R-48</td>\n      <td>True</td>\n      <td>True</td>\n      <td>Red</td>\n      <td>500</td>\n      <td>375</td>\n      <td>868.6342</td>\n      <td>1431.50</td>\n      <td>...</td>\n      <td>R</td>\n      <td>H</td>\n      <td>U</td>\n      <td>14</td>\n      <td>6</td>\n      <td>2011-05-31</td>\n      <td>NaT</td>\n      <td>None</td>\n      <td>07BEFC9A-7634-402B-B234-D7797733BAAF</td>\n      <td>2014-02-08 10:01:36.827</td>\n    </tr>\n    <tr>\n      <th>...</th>\n      <td>...</td>\n      <td>...</td>\n      <td>...</td>\n      <td>...</td>\n      <td>...</td>\n      <td>...</td>\n      <td>...</td>\n      <td>...</td>\n      <td>...</td>\n      <td>...</td>\n      <td>...</td>\n      <td>...</td>\n      <td>...</td>\n      <td>...</td>\n      <td>...</td>\n      <td>...</td>\n      <td>...</td>\n      <td>...</td>\n      <td>...</td>\n      <td>...</td>\n      <td>...</td>\n    </tr>\n    <tr>\n      <th>131</th>\n      <td>992</td>\n      <td>Mountain-500 Black, 48</td>\n      <td>BK-M18B-48</td>\n      <td>True</td>\n      <td>True</td>\n      <td>Black</td>\n      <td>100</td>\n      <td>75</td>\n      <td>294.5797</td>\n      <td>539.99</td>\n      <td>...</td>\n      <td>M</td>\n      <td>L</td>\n      <td>U</td>\n      <td>1</td>\n      <td>23</td>\n      <td>2013-05-30</td>\n      <td>NaT</td>\n      <td>None</td>\n      <td>75752E26-A3B6-4264-9B06-F23A4FBDC5A7</td>\n      <td>2014-02-08 10:01:36.827</td>\n    </tr>\n    <tr>\n      <th>132</th>\n      <td>993</td>\n      <td>Mountain-500 Black, 52</td>\n      <td>BK-M18B-52</td>\n      <td>True</td>\n      <td>True</td>\n      <td>Black</td>\n      <td>100</td>\n      <td>75</td>\n      <td>294.5797</td>\n      <td>539.99</td>\n      <td>...</td>\n      <td>M</td>\n      <td>L</td>\n      <td>U</td>\n      <td>1</td>\n      <td>23</td>\n      <td>2013-05-30</td>\n      <td>NaT</td>\n      <td>None</td>\n      <td>69EE3B55-E142-4E4F-AED8-AF02978FBE87</td>\n      <td>2014-02-08 10:01:36.827</td>\n    </tr>\n    <tr>\n      <th>133</th>\n      <td>997</td>\n      <td>Road-750 Black, 44</td>\n      <td>BK-R19B-44</td>\n      <td>True</td>\n      <td>True</td>\n      <td>Black</td>\n      <td>100</td>\n      <td>75</td>\n      <td>343.6496</td>\n      <td>539.99</td>\n      <td>...</td>\n      <td>R</td>\n      <td>L</td>\n      <td>U</td>\n      <td>2</td>\n      <td>31</td>\n      <td>2013-05-30</td>\n      <td>NaT</td>\n      <td>None</td>\n      <td>44CE4802-409F-43AB-9B27-CA53421805BE</td>\n      <td>2014-02-08 10:01:36.827</td>\n    </tr>\n    <tr>\n      <th>134</th>\n      <td>998</td>\n      <td>Road-750 Black, 48</td>\n      <td>BK-R19B-48</td>\n      <td>True</td>\n      <td>True</td>\n      <td>Black</td>\n      <td>100</td>\n      <td>75</td>\n      <td>343.6496</td>\n      <td>539.99</td>\n      <td>...</td>\n      <td>R</td>\n      <td>L</td>\n      <td>U</td>\n      <td>2</td>\n      <td>31</td>\n      <td>2013-05-30</td>\n      <td>NaT</td>\n      <td>None</td>\n      <td>3DE9A212-1D49-40B6-B10A-F564D981DBDE</td>\n      <td>2014-02-08 10:01:36.827</td>\n    </tr>\n    <tr>\n      <th>135</th>\n      <td>999</td>\n      <td>Road-750 Black, 52</td>\n      <td>BK-R19B-52</td>\n      <td>True</td>\n      <td>True</td>\n      <td>Black</td>\n      <td>100</td>\n      <td>75</td>\n      <td>343.6496</td>\n      <td>539.99</td>\n      <td>...</td>\n      <td>R</td>\n      <td>L</td>\n      <td>U</td>\n      <td>2</td>\n      <td>31</td>\n      <td>2013-05-30</td>\n      <td>NaT</td>\n      <td>None</td>\n      <td>AE638923-2B67-4679-B90E-ABBAB17DCA31</td>\n      <td>2014-02-08 10:01:36.827</td>\n    </tr>\n  </tbody>\n</table>\n<p>136 rows × 25 columns</p>\n</div>"
          },
          "metadata": {},
          "execution_count": 19
        }
      ]
    },
    {
      "cell_type": "markdown",
      "metadata": {
        "id": "QXRFh1ElVG_7"
      },
      "source": [
        "O nome dos funcionários que tem o cargo de \"Design Engineer\".\n"
      ]
    },
    {
      "cell_type": "code",
      "metadata": {
        "id": "WUYVHFUjVG_7",
        "outputId": "a187b9ff-b662-4239-a396-b72de2672241"
      },
      "source": [
        "query = \"\"\"\n",
        "        SELECT FirstName\n",
        "        FROM Person.Person\n",
        "        WHERE BusinessEntityID IN (\n",
        "            SELECT BusinessEntityID\n",
        "            FROM HumanResources.Employee\n",
        "            WHERE JobTitle = 'Design Engineer'\n",
        "            )\n",
        "        \"\"\"\n",
        "pd.read_sql(query, conn)"
      ],
      "execution_count": 20,
      "outputs": [
        {
          "output_type": "execute_result",
          "data": {
            "text/plain": [
              "  FirstName\n",
              "0      Gail\n",
              "1    Jossef\n",
              "2    Sharon"
            ],
            "text/html": "<div>\n<style scoped>\n    .dataframe tbody tr th:only-of-type {\n        vertical-align: middle;\n    }\n\n    .dataframe tbody tr th {\n        vertical-align: top;\n    }\n\n    .dataframe thead th {\n        text-align: right;\n    }\n</style>\n<table border=\"1\" class=\"dataframe\">\n  <thead>\n    <tr style=\"text-align: right;\">\n      <th></th>\n      <th>FirstName</th>\n    </tr>\n  </thead>\n  <tbody>\n    <tr>\n      <th>0</th>\n      <td>Gail</td>\n    </tr>\n    <tr>\n      <th>1</th>\n      <td>Jossef</td>\n    </tr>\n    <tr>\n      <th>2</th>\n      <td>Sharon</td>\n    </tr>\n  </tbody>\n</table>\n</div>"
          },
          "metadata": {},
          "execution_count": 20
        }
      ]
    },
    {
      "cell_type": "markdown",
      "metadata": {
        "id": "HMQoKtM6VG_7"
      },
      "source": [
        "Usando Join\n"
      ]
    },
    {
      "cell_type": "code",
      "metadata": {
        "id": "Qhe3DQ4KVG_8",
        "outputId": "172a8f06-2aaf-4993-fc6d-4f3616b03b61"
      },
      "source": [
        "query = \"\"\"\n",
        "        SELECT FirstName\n",
        "        FROM Person.Person P\n",
        "        INNER JOIN HumanResources.Employee E ON P.BusinessEntityID = E.BusinessEntityID\n",
        "        AND E.JobTitle = 'Design Engineer'\n",
        "        \"\"\"\n",
        "pd.read_sql(query, conn)"
      ],
      "execution_count": 21,
      "outputs": [
        {
          "output_type": "execute_result",
          "data": {
            "text/plain": [
              "  FirstName\n",
              "0      Gail\n",
              "1    Jossef\n",
              "2    Sharon"
            ],
            "text/html": "<div>\n<style scoped>\n    .dataframe tbody tr th:only-of-type {\n        vertical-align: middle;\n    }\n\n    .dataframe tbody tr th {\n        vertical-align: top;\n    }\n\n    .dataframe thead th {\n        text-align: right;\n    }\n</style>\n<table border=\"1\" class=\"dataframe\">\n  <thead>\n    <tr style=\"text-align: right;\">\n      <th></th>\n      <th>FirstName</th>\n    </tr>\n  </thead>\n  <tbody>\n    <tr>\n      <th>0</th>\n      <td>Gail</td>\n    </tr>\n    <tr>\n      <th>1</th>\n      <td>Jossef</td>\n    </tr>\n    <tr>\n      <th>2</th>\n      <td>Sharon</td>\n    </tr>\n  </tbody>\n</table>\n</div>"
          },
          "metadata": {},
          "execution_count": 21
        }
      ]
    },
    {
      "cell_type": "markdown",
      "metadata": {
        "id": "uC6aA5qcVG_8"
      },
      "source": [
        "### Desafio 1\n",
        "Encontre todos os endereços que estão no estado de 'Alberta', pode trazer todas as informações. "
      ]
    },
    {
      "cell_type": "code",
      "metadata": {
        "id": "CHMbipP5VG_8",
        "outputId": "4d80733b-47b9-41a9-c50f-006319f61bf7"
      },
      "source": [
        "query = \"\"\"\n",
        "        SELECT AddressID, AddressLine1\n",
        "        FROM AdventureWorks2017.Person.Address\n",
        "        WHERE StateProvinceID IN (\n",
        "            SELECT StateProvinceID\n",
        "            FROM AdventureWorks2017.Person.StateProvince\n",
        "            WHERE Name = 'Alberta'\n",
        "        )\n",
        "        \"\"\"\n",
        "pd.read_sql(query, conn)"
      ],
      "execution_count": 22,
      "outputs": [
        {
          "output_type": "execute_result",
          "data": {
            "text/plain": [
              "    AddressID                             AddressLine1\n",
              "0          33                       10203 Acorn Avenue\n",
              "1       20011                      1273 Deetmeadow Way\n",
              "2       16208                          1936 Balance Ct\n",
              "3         519                      2500-622 5th Ave Sw\n",
              "4         546              250333 Southport Road, S.W.\n",
              "5         475                   2512-410th Avenue S.W.\n",
              "6         451                          2512-4th Ave Sw\n",
              "7         526                     251420a 170th Street\n",
              "8         553  253131 Lake Frasier Drive, Office No. 2\n",
              "9         467                   25900-700-9th Ave S.W.\n",
              "10      22266                        3962 Clyde Street\n",
              "11      19745                    4605 Springvale Court\n",
              "12      15731                        4900 La Salle St.\n",
              "13      13528                 5831 Mountain View Place\n",
              "14      21858                      5860 Rock Creek Pl.\n",
              "15      20116                         6155 Vist Oak Dr\n",
              "16      12827                        6350 Plumas Court\n",
              "17        505                   6400, 888 - 3rd Avenue\n",
              "18        466                         655-4th Ave S.W.\n",
              "19        558       67255 - 8th Street N.E., Suite 350\n",
              "20      13975                           6827 Glaze Dr.\n",
              "21      21055                      8892 Oak Grove Road\n",
              "22        487                  9259 - 1110th Avenue Sw\n",
              "23        502            No. 25400 10665 Jasper Avenue\n",
              "24        504      Suite 99320 255 - 510th Avenue S.W."
            ],
            "text/html": "<div>\n<style scoped>\n    .dataframe tbody tr th:only-of-type {\n        vertical-align: middle;\n    }\n\n    .dataframe tbody tr th {\n        vertical-align: top;\n    }\n\n    .dataframe thead th {\n        text-align: right;\n    }\n</style>\n<table border=\"1\" class=\"dataframe\">\n  <thead>\n    <tr style=\"text-align: right;\">\n      <th></th>\n      <th>AddressID</th>\n      <th>AddressLine1</th>\n    </tr>\n  </thead>\n  <tbody>\n    <tr>\n      <th>0</th>\n      <td>33</td>\n      <td>10203 Acorn Avenue</td>\n    </tr>\n    <tr>\n      <th>1</th>\n      <td>20011</td>\n      <td>1273 Deetmeadow Way</td>\n    </tr>\n    <tr>\n      <th>2</th>\n      <td>16208</td>\n      <td>1936 Balance Ct</td>\n    </tr>\n    <tr>\n      <th>3</th>\n      <td>519</td>\n      <td>2500-622 5th Ave Sw</td>\n    </tr>\n    <tr>\n      <th>4</th>\n      <td>546</td>\n      <td>250333 Southport Road, S.W.</td>\n    </tr>\n    <tr>\n      <th>5</th>\n      <td>475</td>\n      <td>2512-410th Avenue S.W.</td>\n    </tr>\n    <tr>\n      <th>6</th>\n      <td>451</td>\n      <td>2512-4th Ave Sw</td>\n    </tr>\n    <tr>\n      <th>7</th>\n      <td>526</td>\n      <td>251420a 170th Street</td>\n    </tr>\n    <tr>\n      <th>8</th>\n      <td>553</td>\n      <td>253131 Lake Frasier Drive, Office No. 2</td>\n    </tr>\n    <tr>\n      <th>9</th>\n      <td>467</td>\n      <td>25900-700-9th Ave S.W.</td>\n    </tr>\n    <tr>\n      <th>10</th>\n      <td>22266</td>\n      <td>3962 Clyde Street</td>\n    </tr>\n    <tr>\n      <th>11</th>\n      <td>19745</td>\n      <td>4605 Springvale Court</td>\n    </tr>\n    <tr>\n      <th>12</th>\n      <td>15731</td>\n      <td>4900 La Salle St.</td>\n    </tr>\n    <tr>\n      <th>13</th>\n      <td>13528</td>\n      <td>5831 Mountain View Place</td>\n    </tr>\n    <tr>\n      <th>14</th>\n      <td>21858</td>\n      <td>5860 Rock Creek Pl.</td>\n    </tr>\n    <tr>\n      <th>15</th>\n      <td>20116</td>\n      <td>6155 Vist Oak Dr</td>\n    </tr>\n    <tr>\n      <th>16</th>\n      <td>12827</td>\n      <td>6350 Plumas Court</td>\n    </tr>\n    <tr>\n      <th>17</th>\n      <td>505</td>\n      <td>6400, 888 - 3rd Avenue</td>\n    </tr>\n    <tr>\n      <th>18</th>\n      <td>466</td>\n      <td>655-4th Ave S.W.</td>\n    </tr>\n    <tr>\n      <th>19</th>\n      <td>558</td>\n      <td>67255 - 8th Street N.E., Suite 350</td>\n    </tr>\n    <tr>\n      <th>20</th>\n      <td>13975</td>\n      <td>6827 Glaze Dr.</td>\n    </tr>\n    <tr>\n      <th>21</th>\n      <td>21055</td>\n      <td>8892 Oak Grove Road</td>\n    </tr>\n    <tr>\n      <th>22</th>\n      <td>487</td>\n      <td>9259 - 1110th Avenue Sw</td>\n    </tr>\n    <tr>\n      <th>23</th>\n      <td>502</td>\n      <td>No. 25400 10665 Jasper Avenue</td>\n    </tr>\n    <tr>\n      <th>24</th>\n      <td>504</td>\n      <td>Suite 99320 255 - 510th Avenue S.W.</td>\n    </tr>\n  </tbody>\n</table>\n</div>"
          },
          "metadata": {},
          "execution_count": 22
        }
      ]
    }
  ]
}