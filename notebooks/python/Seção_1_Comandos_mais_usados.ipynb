{
  "nbformat": 4,
  "nbformat_minor": 0,
  "metadata": {
    "kernelspec": {
      "display_name": "Python 3",
      "language": "python",
      "name": "python3"
    },
    "language_info": {
      "codemirror_mode": {
        "name": "ipython",
        "version": 3
      },
      "file_extension": ".py",
      "mimetype": "text/x-python",
      "name": "python",
      "nbconvert_exporter": "python",
      "pygments_lexer": "ipython3",
      "version": "3.8.5"
    },
    "colab": {
      "name": "Seção_1_Comandos_mais_usados.ipynb",
      "provenance": [],
      "collapsed_sections": [
        "d2AuBistyqHq",
        "NLI5On-_yqHu",
        "hfEf2YOByqID",
        "sfGLg5ROyqIF",
        "Gy-qWRZryqIH",
        "N8FhpufKyqII",
        "67uiVn-1yqIJ",
        "GckPjTFFyqIK",
        "dorN8tw6yqIL",
        "tcehPxglyqIM",
        "0P19x41zyqIN",
        "j2VcwxqbyqIP",
        "shqRDk_syqIP",
        "Eo1gM3wTyqId",
        "mpi2DUAPyqIf",
        "hlf5wkhJyqIi",
        "8B_7WHihyqIj",
        "XSke4RexyqIj",
        "HiDCz9I-yqIk",
        "0X1GD7JkyqIk",
        "AfBGbDNHyqIl",
        "TMTr5a4CyqIm",
        "a38wP4YxyqIo",
        "ynNF-FuLyqIo",
        "E55eaojcyqIs",
        "wej49aLtyqIt",
        "cO_JXNBSyqIt",
        "sGZQeROWyqIu",
        "M0SHkRwYyqIv",
        "obv2ApaeyqIv",
        "4NMXa9G7yqIw",
        "iYYBRw-gyqIx",
        "9Ymp0LHfyqIy",
        "LZKdp0CXyqIz"
      ],
      "toc_visible": true
    }
  },
  "cells": [
    {
      "cell_type": "markdown",
      "metadata": {
        "id": "2jFcTWBhyqHg"
      },
      "source": [
        "# Seção 1: Comandos mais usados no dia a dia"
      ]
    },
    {
      "cell_type": "code",
      "metadata": {
        "id": "6u4wQaR2yqHk"
      },
      "source": [
        "import pyodbc\n",
        "import pandas as pd"
      ],
      "execution_count": 2,
      "outputs": []
    },
    {
      "cell_type": "code",
      "execution_count": 3,
      "metadata": {},
      "outputs": [],
      "source": [
        "# Some other example server values are\n",
        "# server = 'localhost\\sqlexpress' # for a named instance\n",
        "# server = 'myserver,port' # to specify an alternate port\n",
        "server = 'localhost,1433'\n",
        "database = 'AdventureWorks2017'\n",
        "username = 'yyyyyyy' #myusername\n",
        "password = '{xxxxxxx}' #mypassword\n",
        "driver = \"{ODBC Driver 17 for SQL Server}\"\n",
        "\n",
        "string_conn = f\"\"\"\n",
        "            DRIVER={driver};\n",
        "            SERVER={server};\n",
        "            DATABASE={database};\n",
        "            UID={username};\n",
        "            PWD={password}\n",
        "            \"\"\"\n",
        "conn = pyodbc.connect(string_conn)"
      ]
    },
    {
      "cell_type": "markdown",
      "metadata": {
        "id": "S-xE75QyyqHm"
      },
      "source": [
        "## SELECT"
      ]
    },
    {
      "cell_type": "markdown",
      "metadata": {
        "id": "cEv-xCZlyqHm"
      },
      "source": [
        "\n",
        "\n",
        "A instrução SQL SELECT é usada para buscar os dados de uma tabela de banco de dados que retorna esses dados na forma de uma tabela de resultados.\n",
        "\n",
        "\n",
        "Sintaxe\n",
        "\n",
        "SELECT column1, column2, columnN\n",
        "\n",
        "FROM table_name;\n",
        "\n",
        "\n"
      ]
    },
    {
      "cell_type": "code",
      "metadata": {
        "id": "0b1skIUryqHn",
        "outputId": "d207b096-f303-40d2-ca29-8aa1c2a9cca9"
      },
      "source": [
        "query = \"SELECT [CountryRegionCode], [Name] FROM Person.CountryRegion;\"\n",
        "pd.read_sql(query, conn)"
      ],
      "execution_count": 4,
      "outputs": [
        {
          "output_type": "execute_result",
          "data": {
            "text/plain": [
              "    CountryRegionCode                  Name\n",
              "0                  AF           Afghanistan\n",
              "1                  AL               Albania\n",
              "2                  DZ               Algeria\n",
              "3                  AS        American Samoa\n",
              "4                  AD               Andorra\n",
              "..                ...                   ...\n",
              "233                VI  Virgin Islands, U.S.\n",
              "234                WF     Wallis and Futuna\n",
              "235                YE                 Yemen\n",
              "236                ZM                Zambia\n",
              "237                ZW              Zimbabwe\n",
              "\n",
              "[238 rows x 2 columns]"
            ],
            "text/html": "<div>\n<style scoped>\n    .dataframe tbody tr th:only-of-type {\n        vertical-align: middle;\n    }\n\n    .dataframe tbody tr th {\n        vertical-align: top;\n    }\n\n    .dataframe thead th {\n        text-align: right;\n    }\n</style>\n<table border=\"1\" class=\"dataframe\">\n  <thead>\n    <tr style=\"text-align: right;\">\n      <th></th>\n      <th>CountryRegionCode</th>\n      <th>Name</th>\n    </tr>\n  </thead>\n  <tbody>\n    <tr>\n      <th>0</th>\n      <td>AF</td>\n      <td>Afghanistan</td>\n    </tr>\n    <tr>\n      <th>1</th>\n      <td>AL</td>\n      <td>Albania</td>\n    </tr>\n    <tr>\n      <th>2</th>\n      <td>DZ</td>\n      <td>Algeria</td>\n    </tr>\n    <tr>\n      <th>3</th>\n      <td>AS</td>\n      <td>American Samoa</td>\n    </tr>\n    <tr>\n      <th>4</th>\n      <td>AD</td>\n      <td>Andorra</td>\n    </tr>\n    <tr>\n      <th>...</th>\n      <td>...</td>\n      <td>...</td>\n    </tr>\n    <tr>\n      <th>233</th>\n      <td>VI</td>\n      <td>Virgin Islands, U.S.</td>\n    </tr>\n    <tr>\n      <th>234</th>\n      <td>WF</td>\n      <td>Wallis and Futuna</td>\n    </tr>\n    <tr>\n      <th>235</th>\n      <td>YE</td>\n      <td>Yemen</td>\n    </tr>\n    <tr>\n      <th>236</th>\n      <td>ZM</td>\n      <td>Zambia</td>\n    </tr>\n    <tr>\n      <th>237</th>\n      <td>ZW</td>\n      <td>Zimbabwe</td>\n    </tr>\n  </tbody>\n</table>\n<p>238 rows × 2 columns</p>\n</div>"
          },
          "metadata": {},
          "execution_count": 4
        }
      ]
    },
    {
      "cell_type": "markdown",
      "metadata": {
        "id": "YRBgEFDkyqHp"
      },
      "source": [
        "### Desafio 1\n",
        "\n",
        "A equipe de marketing precisa fazer uma pesquisa sobre os nomes mais comuns de seus clientes. E precisa do nome e sobrenome de todos os clientes que estão cadastrados no sistema."
      ]
    },
    {
      "cell_type": "code",
      "metadata": {
        "id": "zoreqtVwyqHq",
        "outputId": "bbd0d2e2-ee4f-4eee-bb76-fcf1d662f539"
      },
      "source": [
        "query = \"SELECT FirstName, LastName FROM Person.Person;\"\n",
        "pd.read_sql(query, conn)"
      ],
      "execution_count": 5,
      "outputs": [
        {
          "output_type": "execute_result",
          "data": {
            "text/plain": [
              "       FirstName     LastName\n",
              "0           Syed        Abbas\n",
              "1      Catherine         Abel\n",
              "2            Kim  Abercrombie\n",
              "3            Kim  Abercrombie\n",
              "4            Kim  Abercrombie\n",
              "...          ...          ...\n",
              "19967   Patricia       Zubaty\n",
              "19968       Judy     Zugelder\n",
              "19969       Jake     Zukowski\n",
              "19970    Michael     Zwilling\n",
              "19971    Michael     Zwilling\n",
              "\n",
              "[19972 rows x 2 columns]"
            ],
            "text/html": "<div>\n<style scoped>\n    .dataframe tbody tr th:only-of-type {\n        vertical-align: middle;\n    }\n\n    .dataframe tbody tr th {\n        vertical-align: top;\n    }\n\n    .dataframe thead th {\n        text-align: right;\n    }\n</style>\n<table border=\"1\" class=\"dataframe\">\n  <thead>\n    <tr style=\"text-align: right;\">\n      <th></th>\n      <th>FirstName</th>\n      <th>LastName</th>\n    </tr>\n  </thead>\n  <tbody>\n    <tr>\n      <th>0</th>\n      <td>Syed</td>\n      <td>Abbas</td>\n    </tr>\n    <tr>\n      <th>1</th>\n      <td>Catherine</td>\n      <td>Abel</td>\n    </tr>\n    <tr>\n      <th>2</th>\n      <td>Kim</td>\n      <td>Abercrombie</td>\n    </tr>\n    <tr>\n      <th>3</th>\n      <td>Kim</td>\n      <td>Abercrombie</td>\n    </tr>\n    <tr>\n      <th>4</th>\n      <td>Kim</td>\n      <td>Abercrombie</td>\n    </tr>\n    <tr>\n      <th>...</th>\n      <td>...</td>\n      <td>...</td>\n    </tr>\n    <tr>\n      <th>19967</th>\n      <td>Patricia</td>\n      <td>Zubaty</td>\n    </tr>\n    <tr>\n      <th>19968</th>\n      <td>Judy</td>\n      <td>Zugelder</td>\n    </tr>\n    <tr>\n      <th>19969</th>\n      <td>Jake</td>\n      <td>Zukowski</td>\n    </tr>\n    <tr>\n      <th>19970</th>\n      <td>Michael</td>\n      <td>Zwilling</td>\n    </tr>\n    <tr>\n      <th>19971</th>\n      <td>Michael</td>\n      <td>Zwilling</td>\n    </tr>\n  </tbody>\n</table>\n<p>19972 rows × 2 columns</p>\n</div>"
          },
          "metadata": {},
          "execution_count": 5
        }
      ]
    },
    {
      "cell_type": "markdown",
      "metadata": {
        "id": "d2AuBistyqHq"
      },
      "source": [
        "## Distinct"
      ]
    },
    {
      "cell_type": "markdown",
      "metadata": {
        "id": "iW33oMtcyqHr"
      },
      "source": [
        "\n",
        "\n",
        "SELECT DISTINCT é uma instrução é usada para retornar apenas valores distintos (diferentes).\n",
        "\n",
        "Dentro de uma tabela, uma coluna geralmente contém muitos valores duplicados; e às vezes você só deseja listar os valores diferentes (distintos).\n",
        "\n",
        "\n",
        "SELECT DISTINCT column1, column2, columnN\n",
        "\n",
        "FROM table_name;\n",
        "\n"
      ]
    },
    {
      "cell_type": "markdown",
      "metadata": {
        "id": "7BIVH3iXyqHs"
      },
      "source": [
        "### Desafio 1\n",
        "Quantos sobrenomes únicos temos em nossa tabela person.Person ?\n"
      ]
    },
    {
      "cell_type": "code",
      "metadata": {
        "id": "RqsBlaotyqHs",
        "outputId": "61162643-721f-405d-91ce-e204afa7e3e0"
      },
      "source": [
        "query = \"\"\"\n",
        "        SELECT LastName \n",
        "        FROM Person.Person;\n",
        "        \"\"\"\n",
        "pd.read_sql(query, conn)"
      ],
      "execution_count": 6,
      "outputs": [
        {
          "output_type": "execute_result",
          "data": {
            "text/plain": [
              "          LastName\n",
              "0            Abbas\n",
              "1             Abel\n",
              "2      Abercrombie\n",
              "3      Abercrombie\n",
              "4      Abercrombie\n",
              "...            ...\n",
              "19967       Zubaty\n",
              "19968     Zugelder\n",
              "19969     Zukowski\n",
              "19970     Zwilling\n",
              "19971     Zwilling\n",
              "\n",
              "[19972 rows x 1 columns]"
            ],
            "text/html": "<div>\n<style scoped>\n    .dataframe tbody tr th:only-of-type {\n        vertical-align: middle;\n    }\n\n    .dataframe tbody tr th {\n        vertical-align: top;\n    }\n\n    .dataframe thead th {\n        text-align: right;\n    }\n</style>\n<table border=\"1\" class=\"dataframe\">\n  <thead>\n    <tr style=\"text-align: right;\">\n      <th></th>\n      <th>LastName</th>\n    </tr>\n  </thead>\n  <tbody>\n    <tr>\n      <th>0</th>\n      <td>Abbas</td>\n    </tr>\n    <tr>\n      <th>1</th>\n      <td>Abel</td>\n    </tr>\n    <tr>\n      <th>2</th>\n      <td>Abercrombie</td>\n    </tr>\n    <tr>\n      <th>3</th>\n      <td>Abercrombie</td>\n    </tr>\n    <tr>\n      <th>4</th>\n      <td>Abercrombie</td>\n    </tr>\n    <tr>\n      <th>...</th>\n      <td>...</td>\n    </tr>\n    <tr>\n      <th>19967</th>\n      <td>Zubaty</td>\n    </tr>\n    <tr>\n      <th>19968</th>\n      <td>Zugelder</td>\n    </tr>\n    <tr>\n      <th>19969</th>\n      <td>Zukowski</td>\n    </tr>\n    <tr>\n      <th>19970</th>\n      <td>Zwilling</td>\n    </tr>\n    <tr>\n      <th>19971</th>\n      <td>Zwilling</td>\n    </tr>\n  </tbody>\n</table>\n<p>19972 rows × 1 columns</p>\n</div>"
          },
          "metadata": {},
          "execution_count": 6
        }
      ]
    },
    {
      "cell_type": "code",
      "metadata": {
        "id": "dtk56OwMyqHt",
        "outputId": "7fac1ba9-e0a4-42e1-d87f-f7010f681730"
      },
      "source": [
        "query = \"\"\"\n",
        "        SELECT DISTINCT LastName \n",
        "        FROM Person.Person;\n",
        "        \"\"\"\n",
        "pd.read_sql(query, conn)"
      ],
      "execution_count": 7,
      "outputs": [
        {
          "output_type": "execute_result",
          "data": {
            "text/plain": [
              "         LastName\n",
              "0           Abbas\n",
              "1            Abel\n",
              "2     Abercrombie\n",
              "3        Abolrous\n",
              "4         Acevedo\n",
              "...           ...\n",
              "1201     Zimprich\n",
              "1202       Zubaty\n",
              "1203     Zugelder\n",
              "1204     Zukowski\n",
              "1205     Zwilling\n",
              "\n",
              "[1206 rows x 1 columns]"
            ],
            "text/html": "<div>\n<style scoped>\n    .dataframe tbody tr th:only-of-type {\n        vertical-align: middle;\n    }\n\n    .dataframe tbody tr th {\n        vertical-align: top;\n    }\n\n    .dataframe thead th {\n        text-align: right;\n    }\n</style>\n<table border=\"1\" class=\"dataframe\">\n  <thead>\n    <tr style=\"text-align: right;\">\n      <th></th>\n      <th>LastName</th>\n    </tr>\n  </thead>\n  <tbody>\n    <tr>\n      <th>0</th>\n      <td>Abbas</td>\n    </tr>\n    <tr>\n      <th>1</th>\n      <td>Abel</td>\n    </tr>\n    <tr>\n      <th>2</th>\n      <td>Abercrombie</td>\n    </tr>\n    <tr>\n      <th>3</th>\n      <td>Abolrous</td>\n    </tr>\n    <tr>\n      <th>4</th>\n      <td>Acevedo</td>\n    </tr>\n    <tr>\n      <th>...</th>\n      <td>...</td>\n    </tr>\n    <tr>\n      <th>1201</th>\n      <td>Zimprich</td>\n    </tr>\n    <tr>\n      <th>1202</th>\n      <td>Zubaty</td>\n    </tr>\n    <tr>\n      <th>1203</th>\n      <td>Zugelder</td>\n    </tr>\n    <tr>\n      <th>1204</th>\n      <td>Zukowski</td>\n    </tr>\n    <tr>\n      <th>1205</th>\n      <td>Zwilling</td>\n    </tr>\n  </tbody>\n</table>\n<p>1206 rows × 1 columns</p>\n</div>"
          },
          "metadata": {},
          "execution_count": 7
        }
      ]
    },
    {
      "cell_type": "markdown",
      "metadata": {
        "id": "NLI5On-_yqHu"
      },
      "source": [
        "## WHERE"
      ]
    },
    {
      "cell_type": "markdown",
      "metadata": {
        "id": "fwYp0ceRyqH_"
      },
      "source": [
        "\n",
        "\n",
        "A cláusula WHERE é usada para especificar uma condição ao buscar os dados de uma única tabela ou unindo-se a várias tabelas. Se a condição fornecida for satisfeita, apenas retornará um valor específico da tabela. Você deve usar a cláusula WHERE para filtrar os registros e buscar apenas os registros necessários.\n",
        "\n",
        "Sintaxe\n",
        "\n",
        "SELECT column1, column2, columnN \n",
        "\n",
        "FROM table_name\n",
        "\n",
        "WHERE condition ;\n",
        "\n",
        "\n",
        "https://www.tutorialspoint.com/sql/sql-operators.htm\n",
        "\n",
        "\n"
      ]
    },
    {
      "cell_type": "markdown",
      "metadata": {
        "id": "gJ2cUD79yqIA"
      },
      "source": [
        "### Desafio 1\n",
        "\n",
        "A equipe de produção de produtos precisa do nome de todas as peças\n",
        "que pesam mais que 500 kg, mas não mais que 700 kg para inspeção."
      ]
    },
    {
      "cell_type": "code",
      "metadata": {
        "id": "msWIJaZ0yqIB",
        "outputId": "0a7fcff9-6071-4306-b644-93a5c11e97b3"
      },
      "source": [
        "query = \"\"\"\n",
        "        SELECT Name \n",
        "        FROM Production.Product\n",
        "        WHERE Weight > 500 AND  Weight < 700 ;\n",
        "        \"\"\"\n",
        "pd.read_sql(query, conn)"
      ],
      "execution_count": 8,
      "outputs": [
        {
          "output_type": "execute_result",
          "data": {
            "text/plain": [
              "                  Name\n",
              "0  HL Road Front Wheel\n",
              "1          LL Crankset\n",
              "2          ML Crankset\n",
              "3          HL Crankset"
            ],
            "text/html": "<div>\n<style scoped>\n    .dataframe tbody tr th:only-of-type {\n        vertical-align: middle;\n    }\n\n    .dataframe tbody tr th {\n        vertical-align: top;\n    }\n\n    .dataframe thead th {\n        text-align: right;\n    }\n</style>\n<table border=\"1\" class=\"dataframe\">\n  <thead>\n    <tr style=\"text-align: right;\">\n      <th></th>\n      <th>Name</th>\n    </tr>\n  </thead>\n  <tbody>\n    <tr>\n      <th>0</th>\n      <td>HL Road Front Wheel</td>\n    </tr>\n    <tr>\n      <th>1</th>\n      <td>LL Crankset</td>\n    </tr>\n    <tr>\n      <th>2</th>\n      <td>ML Crankset</td>\n    </tr>\n    <tr>\n      <th>3</th>\n      <td>HL Crankset</td>\n    </tr>\n  </tbody>\n</table>\n</div>"
          },
          "metadata": {},
          "execution_count": 8
        }
      ]
    },
    {
      "cell_type": "markdown",
      "metadata": {
        "id": "hfEf2YOByqID"
      },
      "source": [
        "### Desafio 2\n",
        "Foi pedido pelo marketing uma relação de todos os empregados  que são casados\n",
        "e são assalariados."
      ]
    },
    {
      "cell_type": "code",
      "metadata": {
        "id": "V2RYufegyqID",
        "outputId": "5bcaf735-d887-4139-fed0-ef7e9737a501"
      },
      "source": [
        "query = \"\"\"\n",
        "        SELECT BusinessEntityID\n",
        "        FROM HumanResources.Employee;\n",
        "        \"\"\"\n",
        "pd.read_sql(query, conn)"
      ],
      "execution_count": 9,
      "outputs": [
        {
          "output_type": "execute_result",
          "data": {
            "text/plain": [
              "     BusinessEntityID\n",
              "0                 263\n",
              "1                  78\n",
              "2                 242\n",
              "3                 125\n",
              "4                 278\n",
              "..                ...\n",
              "285                82\n",
              "286               157\n",
              "287                95\n",
              "288               215\n",
              "289               112\n",
              "\n",
              "[290 rows x 1 columns]"
            ],
            "text/html": "<div>\n<style scoped>\n    .dataframe tbody tr th:only-of-type {\n        vertical-align: middle;\n    }\n\n    .dataframe tbody tr th {\n        vertical-align: top;\n    }\n\n    .dataframe thead th {\n        text-align: right;\n    }\n</style>\n<table border=\"1\" class=\"dataframe\">\n  <thead>\n    <tr style=\"text-align: right;\">\n      <th></th>\n      <th>BusinessEntityID</th>\n    </tr>\n  </thead>\n  <tbody>\n    <tr>\n      <th>0</th>\n      <td>263</td>\n    </tr>\n    <tr>\n      <th>1</th>\n      <td>78</td>\n    </tr>\n    <tr>\n      <th>2</th>\n      <td>242</td>\n    </tr>\n    <tr>\n      <th>3</th>\n      <td>125</td>\n    </tr>\n    <tr>\n      <th>4</th>\n      <td>278</td>\n    </tr>\n    <tr>\n      <th>...</th>\n      <td>...</td>\n    </tr>\n    <tr>\n      <th>285</th>\n      <td>82</td>\n    </tr>\n    <tr>\n      <th>286</th>\n      <td>157</td>\n    </tr>\n    <tr>\n      <th>287</th>\n      <td>95</td>\n    </tr>\n    <tr>\n      <th>288</th>\n      <td>215</td>\n    </tr>\n    <tr>\n      <th>289</th>\n      <td>112</td>\n    </tr>\n  </tbody>\n</table>\n<p>290 rows × 1 columns</p>\n</div>"
          },
          "metadata": {},
          "execution_count": 9
        }
      ]
    },
    {
      "cell_type": "markdown",
      "metadata": {
        "id": "sfGLg5ROyqIF"
      },
      "source": [
        "### Desafio 3\n",
        "\n",
        "Um usuário chamado Peter Krebs está devendo um pagamento, consiga o email dele\n",
        "para que possamos enviar uma cobrança! (você vai ter que usar a tabela person.Person\n",
        "e depois a tabela person.EmailAdress)"
      ]
    },
    {
      "cell_type": "code",
      "metadata": {
        "id": "PUC6KS73yqIG",
        "outputId": "0ebb857c-a6da-4065-8c58-4582d63df9c9"
      },
      "source": [
        "query = \"\"\"\n",
        "        SELECT  BusinessEntityID \n",
        "        FROM Person.Person\n",
        "        WHERE FirstName = 'Peter' AND LastName = 'Krebs' ;\n",
        "        \"\"\"\n",
        "pd.read_sql(query, conn)"
      ],
      "execution_count": 10,
      "outputs": [
        {
          "output_type": "execute_result",
          "data": {
            "text/plain": [
              "   BusinessEntityID\n",
              "0                26"
            ],
            "text/html": "<div>\n<style scoped>\n    .dataframe tbody tr th:only-of-type {\n        vertical-align: middle;\n    }\n\n    .dataframe tbody tr th {\n        vertical-align: top;\n    }\n\n    .dataframe thead th {\n        text-align: right;\n    }\n</style>\n<table border=\"1\" class=\"dataframe\">\n  <thead>\n    <tr style=\"text-align: right;\">\n      <th></th>\n      <th>BusinessEntityID</th>\n    </tr>\n  </thead>\n  <tbody>\n    <tr>\n      <th>0</th>\n      <td>26</td>\n    </tr>\n  </tbody>\n</table>\n</div>"
          },
          "metadata": {},
          "execution_count": 10
        }
      ]
    },
    {
      "cell_type": "code",
      "metadata": {
        "id": "c-ZYT3oTyqIH",
        "outputId": "cbc92ebf-8ae7-420b-b1c1-d48acffd20de"
      },
      "source": [
        "query = \"\"\"\n",
        "        SELECT EmailAddress \n",
        "        FROM Person.EmailAddress\n",
        "        WHERE BusinessEntityID = 26\n",
        "        \"\"\"\n",
        "pd.read_sql(query, conn)"
      ],
      "execution_count": 11,
      "outputs": [
        {
          "output_type": "execute_result",
          "data": {
            "text/plain": [
              "                 EmailAddress\n",
              "0  peter0@adventure-works.com"
            ],
            "text/html": "<div>\n<style scoped>\n    .dataframe tbody tr th:only-of-type {\n        vertical-align: middle;\n    }\n\n    .dataframe tbody tr th {\n        vertical-align: top;\n    }\n\n    .dataframe thead th {\n        text-align: right;\n    }\n</style>\n<table border=\"1\" class=\"dataframe\">\n  <thead>\n    <tr style=\"text-align: right;\">\n      <th></th>\n      <th>EmailAddress</th>\n    </tr>\n  </thead>\n  <tbody>\n    <tr>\n      <th>0</th>\n      <td>peter0@adventure-works.com</td>\n    </tr>\n  </tbody>\n</table>\n</div>"
          },
          "metadata": {},
          "execution_count": 11
        }
      ]
    },
    {
      "cell_type": "markdown",
      "metadata": {
        "id": "Gy-qWRZryqIH"
      },
      "source": [
        "## COUNT"
      ]
    },
    {
      "cell_type": "markdown",
      "metadata": {
        "id": "oRc0Ui0jyqII"
      },
      "source": [
        "\n",
        "\n",
        "Retorna o número de linhas que correspondem a um critério especificado.\n",
        "\n",
        "Sintaxe\n",
        "\n",
        "SELECT COUNT(columnN)\n",
        "\n",
        "FROM table_name\n",
        "\n",
        "WHERE condition;\n",
        "\n"
      ]
    },
    {
      "cell_type": "markdown",
      "metadata": {
        "id": "N8FhpufKyqII"
      },
      "source": [
        "### Desafio 1\n",
        "\n",
        "Quantos produtos temos cadastrados em nossa tabela de produtos(production.product) ?"
      ]
    },
    {
      "cell_type": "code",
      "metadata": {
        "id": "v9a5y_z3yqIJ",
        "outputId": "d1efa4e8-fe85-4e77-b05e-024709d26d8b"
      },
      "source": [
        "query = \"\"\"\n",
        "        SELECT  COUNT(ProductID) \n",
        "        FROM Production.Product;\n",
        "        \"\"\"\n",
        "pd.read_sql(query, conn)"
      ],
      "execution_count": 12,
      "outputs": [
        {
          "output_type": "execute_result",
          "data": {
            "text/plain": [
              "      \n",
              "0  504"
            ],
            "text/html": "<div>\n<style scoped>\n    .dataframe tbody tr th:only-of-type {\n        vertical-align: middle;\n    }\n\n    .dataframe tbody tr th {\n        vertical-align: top;\n    }\n\n    .dataframe thead th {\n        text-align: right;\n    }\n</style>\n<table border=\"1\" class=\"dataframe\">\n  <thead>\n    <tr style=\"text-align: right;\">\n      <th></th>\n      <th></th>\n    </tr>\n  </thead>\n  <tbody>\n    <tr>\n      <th>0</th>\n      <td>504</td>\n    </tr>\n  </tbody>\n</table>\n</div>"
          },
          "metadata": {},
          "execution_count": 12
        }
      ]
    },
    {
      "cell_type": "markdown",
      "metadata": {
        "id": "67uiVn-1yqIJ"
      },
      "source": [
        "### Desafio 2\n",
        "\n",
        "Quantos tamanhos de produtos temos cadastrados em nossa tabela ?\n"
      ]
    },
    {
      "cell_type": "code",
      "metadata": {
        "id": "EJzk0sNJyqIK",
        "outputId": "e81f382f-f873-41a9-ee5e-bcf6beaecf90"
      },
      "source": [
        "query = \"\"\"\n",
        "        SELECT COUNT(Size) \n",
        "        FROM Production.Product;\n",
        "        \"\"\"\n",
        "pd.read_sql(query, conn)"
      ],
      "execution_count": 13,
      "outputs": [
        {
          "output_type": "execute_result",
          "data": {
            "text/plain": [
              "      \n",
              "0  211"
            ],
            "text/html": "<div>\n<style scoped>\n    .dataframe tbody tr th:only-of-type {\n        vertical-align: middle;\n    }\n\n    .dataframe tbody tr th {\n        vertical-align: top;\n    }\n\n    .dataframe thead th {\n        text-align: right;\n    }\n</style>\n<table border=\"1\" class=\"dataframe\">\n  <thead>\n    <tr style=\"text-align: right;\">\n      <th></th>\n      <th></th>\n    </tr>\n  </thead>\n  <tbody>\n    <tr>\n      <th>0</th>\n      <td>211</td>\n    </tr>\n  </tbody>\n</table>\n</div>"
          },
          "metadata": {},
          "execution_count": 13
        }
      ]
    },
    {
      "cell_type": "markdown",
      "metadata": {
        "id": "GckPjTFFyqIK"
      },
      "source": [
        "### Desafio 3\n",
        "\n",
        "Quantos tamanhos diferentes de produtos temos cadastrados em nossa tabela ?\n"
      ]
    },
    {
      "cell_type": "code",
      "metadata": {
        "id": "I4XBiqxYyqIK",
        "outputId": "5e285a66-a6cd-4cb3-d76a-846403283358"
      },
      "source": [
        "query = \"\"\"\n",
        "        SELECT COUNT(DISTINCT Size) \n",
        "        FROM Production.Product;\n",
        "        \"\"\"\n",
        "pd.read_sql(query, conn)"
      ],
      "execution_count": 14,
      "outputs": [
        {
          "output_type": "execute_result",
          "data": {
            "text/plain": [
              "     \n",
              "0  18"
            ],
            "text/html": "<div>\n<style scoped>\n    .dataframe tbody tr th:only-of-type {\n        vertical-align: middle;\n    }\n\n    .dataframe tbody tr th {\n        vertical-align: top;\n    }\n\n    .dataframe thead th {\n        text-align: right;\n    }\n</style>\n<table border=\"1\" class=\"dataframe\">\n  <thead>\n    <tr style=\"text-align: right;\">\n      <th></th>\n      <th></th>\n    </tr>\n  </thead>\n  <tbody>\n    <tr>\n      <th>0</th>\n      <td>18</td>\n    </tr>\n  </tbody>\n</table>\n</div>"
          },
          "metadata": {},
          "execution_count": 14
        }
      ]
    },
    {
      "cell_type": "markdown",
      "metadata": {
        "id": "dorN8tw6yqIL"
      },
      "source": [
        "## TOP"
      ]
    },
    {
      "cell_type": "markdown",
      "metadata": {
        "id": "yfDS7iEXyqIM"
      },
      "source": [
        "\n",
        "\n",
        "É usada para especificar o número de registros a serem retornados.\n",
        "\n",
        "É útil em grandes tabelas com milhares de registros. Retornar um grande número de registros pode afetar o desempenho.\n",
        "\n",
        "Sintaxe\n",
        "\n",
        "SELECT TOP N column_name(s)\n",
        "\n",
        "FROM table_name\n",
        "\n",
        "WHERE condition;\n"
      ]
    },
    {
      "cell_type": "code",
      "metadata": {
        "id": "9qKruhpmyqIM",
        "outputId": "3315364a-8cd4-42bb-972b-8dc0054f001b"
      },
      "source": [
        "query = \"\"\"\n",
        "        SELECT TOP 5 *\n",
        "        FROM Production.Product;\n",
        "        \"\"\"\n",
        "pd.read_sql(query, conn)"
      ],
      "execution_count": 15,
      "outputs": [
        {
          "output_type": "execute_result",
          "data": {
            "text/plain": [
              "   ProductID                   Name ProductNumber  MakeFlag  \\\n",
              "0          1        Adjustable Race       AR-5381     False   \n",
              "1          2           Bearing Ball       BA-8327     False   \n",
              "2          3        BB Ball Bearing       BE-2349      True   \n",
              "3          4  Headset Ball Bearings       BE-2908     False   \n",
              "4        316                  Blade       BL-2036      True   \n",
              "\n",
              "   FinishedGoodsFlag Color  SafetyStockLevel  ReorderPoint  StandardCost  \\\n",
              "0              False  None              1000           750           0.0   \n",
              "1              False  None              1000           750           0.0   \n",
              "2              False  None               800           600           0.0   \n",
              "3              False  None               800           600           0.0   \n",
              "4              False  None               800           600           0.0   \n",
              "\n",
              "   ListPrice  ... ProductLine Class Style ProductSubcategoryID  \\\n",
              "0        0.0  ...        None  None  None                 None   \n",
              "1        0.0  ...        None  None  None                 None   \n",
              "2        0.0  ...        None  None  None                 None   \n",
              "3        0.0  ...        None  None  None                 None   \n",
              "4        0.0  ...        None  None  None                 None   \n",
              "\n",
              "   ProductModelID SellStartDate SellEndDate DiscontinuedDate  \\\n",
              "0            None    2008-04-30        None             None   \n",
              "1            None    2008-04-30        None             None   \n",
              "2            None    2008-04-30        None             None   \n",
              "3            None    2008-04-30        None             None   \n",
              "4            None    2008-04-30        None             None   \n",
              "\n",
              "                                rowguid            ModifiedDate  \n",
              "0  694215B7-08F7-4C0D-ACB1-D734BA44C0C8 2014-02-08 10:01:36.827  \n",
              "1  58AE3C20-4F3A-4749-A7D4-D568806CC537 2014-02-08 10:01:36.827  \n",
              "2  9C21AED2-5BFA-4F18-BCB8-F11638DC2E4E 2014-02-08 10:01:36.827  \n",
              "3  ECFED6CB-51FF-49B5-B06C-7D8AC834DB8B 2014-02-08 10:01:36.827  \n",
              "4  E73E9750-603B-4131-89F5-3DD15ED5FF80 2014-02-08 10:01:36.827  \n",
              "\n",
              "[5 rows x 25 columns]"
            ],
            "text/html": "<div>\n<style scoped>\n    .dataframe tbody tr th:only-of-type {\n        vertical-align: middle;\n    }\n\n    .dataframe tbody tr th {\n        vertical-align: top;\n    }\n\n    .dataframe thead th {\n        text-align: right;\n    }\n</style>\n<table border=\"1\" class=\"dataframe\">\n  <thead>\n    <tr style=\"text-align: right;\">\n      <th></th>\n      <th>ProductID</th>\n      <th>Name</th>\n      <th>ProductNumber</th>\n      <th>MakeFlag</th>\n      <th>FinishedGoodsFlag</th>\n      <th>Color</th>\n      <th>SafetyStockLevel</th>\n      <th>ReorderPoint</th>\n      <th>StandardCost</th>\n      <th>ListPrice</th>\n      <th>...</th>\n      <th>ProductLine</th>\n      <th>Class</th>\n      <th>Style</th>\n      <th>ProductSubcategoryID</th>\n      <th>ProductModelID</th>\n      <th>SellStartDate</th>\n      <th>SellEndDate</th>\n      <th>DiscontinuedDate</th>\n      <th>rowguid</th>\n      <th>ModifiedDate</th>\n    </tr>\n  </thead>\n  <tbody>\n    <tr>\n      <th>0</th>\n      <td>1</td>\n      <td>Adjustable Race</td>\n      <td>AR-5381</td>\n      <td>False</td>\n      <td>False</td>\n      <td>None</td>\n      <td>1000</td>\n      <td>750</td>\n      <td>0.0</td>\n      <td>0.0</td>\n      <td>...</td>\n      <td>None</td>\n      <td>None</td>\n      <td>None</td>\n      <td>None</td>\n      <td>None</td>\n      <td>2008-04-30</td>\n      <td>None</td>\n      <td>None</td>\n      <td>694215B7-08F7-4C0D-ACB1-D734BA44C0C8</td>\n      <td>2014-02-08 10:01:36.827</td>\n    </tr>\n    <tr>\n      <th>1</th>\n      <td>2</td>\n      <td>Bearing Ball</td>\n      <td>BA-8327</td>\n      <td>False</td>\n      <td>False</td>\n      <td>None</td>\n      <td>1000</td>\n      <td>750</td>\n      <td>0.0</td>\n      <td>0.0</td>\n      <td>...</td>\n      <td>None</td>\n      <td>None</td>\n      <td>None</td>\n      <td>None</td>\n      <td>None</td>\n      <td>2008-04-30</td>\n      <td>None</td>\n      <td>None</td>\n      <td>58AE3C20-4F3A-4749-A7D4-D568806CC537</td>\n      <td>2014-02-08 10:01:36.827</td>\n    </tr>\n    <tr>\n      <th>2</th>\n      <td>3</td>\n      <td>BB Ball Bearing</td>\n      <td>BE-2349</td>\n      <td>True</td>\n      <td>False</td>\n      <td>None</td>\n      <td>800</td>\n      <td>600</td>\n      <td>0.0</td>\n      <td>0.0</td>\n      <td>...</td>\n      <td>None</td>\n      <td>None</td>\n      <td>None</td>\n      <td>None</td>\n      <td>None</td>\n      <td>2008-04-30</td>\n      <td>None</td>\n      <td>None</td>\n      <td>9C21AED2-5BFA-4F18-BCB8-F11638DC2E4E</td>\n      <td>2014-02-08 10:01:36.827</td>\n    </tr>\n    <tr>\n      <th>3</th>\n      <td>4</td>\n      <td>Headset Ball Bearings</td>\n      <td>BE-2908</td>\n      <td>False</td>\n      <td>False</td>\n      <td>None</td>\n      <td>800</td>\n      <td>600</td>\n      <td>0.0</td>\n      <td>0.0</td>\n      <td>...</td>\n      <td>None</td>\n      <td>None</td>\n      <td>None</td>\n      <td>None</td>\n      <td>None</td>\n      <td>2008-04-30</td>\n      <td>None</td>\n      <td>None</td>\n      <td>ECFED6CB-51FF-49B5-B06C-7D8AC834DB8B</td>\n      <td>2014-02-08 10:01:36.827</td>\n    </tr>\n    <tr>\n      <th>4</th>\n      <td>316</td>\n      <td>Blade</td>\n      <td>BL-2036</td>\n      <td>True</td>\n      <td>False</td>\n      <td>None</td>\n      <td>800</td>\n      <td>600</td>\n      <td>0.0</td>\n      <td>0.0</td>\n      <td>...</td>\n      <td>None</td>\n      <td>None</td>\n      <td>None</td>\n      <td>None</td>\n      <td>None</td>\n      <td>2008-04-30</td>\n      <td>None</td>\n      <td>None</td>\n      <td>E73E9750-603B-4131-89F5-3DD15ED5FF80</td>\n      <td>2014-02-08 10:01:36.827</td>\n    </tr>\n  </tbody>\n</table>\n<p>5 rows × 25 columns</p>\n</div>"
          },
          "metadata": {},
          "execution_count": 15
        }
      ]
    },
    {
      "cell_type": "markdown",
      "metadata": {
        "id": "tcehPxglyqIM"
      },
      "source": [
        "## ORDER BY"
      ]
    },
    {
      "cell_type": "markdown",
      "metadata": {
        "id": "PVt2LYVsyqIN"
      },
      "source": [
        "\n",
        "\n",
        "A cláusula ORDER BY é usada para classificar os dados em ordem crescente ou decrescente, com base em uma ou mais colunas. Alguns bancos de dados classificam os resultados da consulta em ordem crescente por padrão.\n",
        "\n",
        "Sintaxe\n",
        "\n",
        "SELECT column1, column2, columnN \n",
        "\n",
        "FROM table_name \n",
        "\n",
        "WHERE condition\n",
        "\n",
        "ORDER BY column1, column2, .. columnN ASC | DESC;\n",
        "\n",
        "\n",
        "\n"
      ]
    },
    {
      "cell_type": "markdown",
      "metadata": {
        "id": "0P19x41zyqIN"
      },
      "source": [
        "### Desafio 1\n",
        "\n",
        "Obter o ProductID dos 10 produtos mais caros cadastrados no sistema, listando\n",
        "do mais caro para o mais barato."
      ]
    },
    {
      "cell_type": "code",
      "metadata": {
        "id": "CKEvT657yqIO",
        "outputId": "bcdcc24d-4d56-4df9-8853-a951b7ce338a"
      },
      "source": [
        "query = \"\"\"\n",
        "        SELECT TOP 10 ProductID \n",
        "        FROM AdventureWorks2017.Production.Product\n",
        "        ORDER BY ListPrice DESC;\n",
        "        \"\"\"\n",
        "pd.read_sql(query, conn)"
      ],
      "execution_count": 16,
      "outputs": [
        {
          "output_type": "execute_result",
          "data": {
            "text/plain": [
              "   ProductID\n",
              "0        749\n",
              "1        750\n",
              "2        751\n",
              "3        752\n",
              "4        753\n",
              "5        771\n",
              "6        772\n",
              "7        773\n",
              "8        774\n",
              "9        775"
            ],
            "text/html": "<div>\n<style scoped>\n    .dataframe tbody tr th:only-of-type {\n        vertical-align: middle;\n    }\n\n    .dataframe tbody tr th {\n        vertical-align: top;\n    }\n\n    .dataframe thead th {\n        text-align: right;\n    }\n</style>\n<table border=\"1\" class=\"dataframe\">\n  <thead>\n    <tr style=\"text-align: right;\">\n      <th></th>\n      <th>ProductID</th>\n    </tr>\n  </thead>\n  <tbody>\n    <tr>\n      <th>0</th>\n      <td>749</td>\n    </tr>\n    <tr>\n      <th>1</th>\n      <td>750</td>\n    </tr>\n    <tr>\n      <th>2</th>\n      <td>751</td>\n    </tr>\n    <tr>\n      <th>3</th>\n      <td>752</td>\n    </tr>\n    <tr>\n      <th>4</th>\n      <td>753</td>\n    </tr>\n    <tr>\n      <th>5</th>\n      <td>771</td>\n    </tr>\n    <tr>\n      <th>6</th>\n      <td>772</td>\n    </tr>\n    <tr>\n      <th>7</th>\n      <td>773</td>\n    </tr>\n    <tr>\n      <th>8</th>\n      <td>774</td>\n    </tr>\n    <tr>\n      <th>9</th>\n      <td>775</td>\n    </tr>\n  </tbody>\n</table>\n</div>"
          },
          "metadata": {},
          "execution_count": 16
        }
      ]
    },
    {
      "cell_type": "markdown",
      "metadata": {
        "id": "j2VcwxqbyqIP"
      },
      "source": [
        "### Desafio 2\n",
        "\n",
        "Obter o nome e o número do produto dos produtos que tem o ProductID entre 1~4."
      ]
    },
    {
      "cell_type": "code",
      "metadata": {
        "id": "KEHSY5NOyqIP",
        "outputId": "1940a829-52db-47ef-c310-ab895340e9e5"
      },
      "source": [
        "query = \"\"\"\n",
        "        SELECT TOP 4 Name, ProductNumber\n",
        "        FROM AdventureWorks2017.Production.Product\n",
        "        ORDER BY ListPrice ASC;\n",
        "        \"\"\"\n",
        "pd.read_sql(query, conn)"
      ],
      "execution_count": 17,
      "outputs": [
        {
          "output_type": "execute_result",
          "data": {
            "text/plain": [
              "                    Name ProductNumber\n",
              "0                  Blade       BL-2036\n",
              "1  Headset Ball Bearings       BE-2908\n",
              "2        BB Ball Bearing       BE-2349\n",
              "3           Bearing Ball       BA-8327"
            ],
            "text/html": "<div>\n<style scoped>\n    .dataframe tbody tr th:only-of-type {\n        vertical-align: middle;\n    }\n\n    .dataframe tbody tr th {\n        vertical-align: top;\n    }\n\n    .dataframe thead th {\n        text-align: right;\n    }\n</style>\n<table border=\"1\" class=\"dataframe\">\n  <thead>\n    <tr style=\"text-align: right;\">\n      <th></th>\n      <th>Name</th>\n      <th>ProductNumber</th>\n    </tr>\n  </thead>\n  <tbody>\n    <tr>\n      <th>0</th>\n      <td>Blade</td>\n      <td>BL-2036</td>\n    </tr>\n    <tr>\n      <th>1</th>\n      <td>Headset Ball Bearings</td>\n      <td>BE-2908</td>\n    </tr>\n    <tr>\n      <th>2</th>\n      <td>BB Ball Bearing</td>\n      <td>BE-2349</td>\n    </tr>\n    <tr>\n      <th>3</th>\n      <td>Bearing Ball</td>\n      <td>BA-8327</td>\n    </tr>\n  </tbody>\n</table>\n</div>"
          },
          "metadata": {},
          "execution_count": 17
        }
      ]
    },
    {
      "cell_type": "markdown",
      "metadata": {
        "id": "shqRDk_syqIP"
      },
      "source": [
        "## BETWEEN"
      ]
    },
    {
      "cell_type": "markdown",
      "metadata": {
        "id": "mJOvEKc4yqIQ"
      },
      "source": [
        "\n",
        "\n",
        "O BETWEEN é um operador seleciona valores dentro de um determinado intervalo. Os valores podem ser números, texto ou datas.\n",
        "\n",
        "Sintaxe\n",
        "\n",
        "SELECT column1, column2, columnN\n",
        "\n",
        "FROM table_name\n",
        "\n",
        "WHERE column_name BETWEEN value1 AND value2;\n",
        "\n",
        "\n",
        "\n"
      ]
    },
    {
      "cell_type": "code",
      "metadata": {
        "id": "zCJRQoTCyqIQ",
        "outputId": "30130869-3215-4f13-ad3f-0d2dc94020c9"
      },
      "source": [
        "query = \"\"\"\n",
        "        SELECT *\n",
        "        FROM Production.Product\n",
        "        WHERE ListPrice  NOT BETWEEN 1000 AND 1500;\n",
        "        \"\"\"\n",
        "pd.read_sql(query, conn)"
      ],
      "execution_count": 18,
      "outputs": [
        {
          "output_type": "execute_result",
          "data": {
            "text/plain": [
              "     ProductID                   Name ProductNumber  MakeFlag  \\\n",
              "0            1        Adjustable Race       AR-5381     False   \n",
              "1            2           Bearing Ball       BA-8327     False   \n",
              "2            3        BB Ball Bearing       BE-2349      True   \n",
              "3            4  Headset Ball Bearings       BE-2908     False   \n",
              "4          316                  Blade       BL-2036      True   \n",
              "..         ...                    ...           ...       ...   \n",
              "452        995      ML Bottom Bracket       BB-8107      True   \n",
              "453        996      HL Bottom Bracket       BB-9108      True   \n",
              "454        997     Road-750 Black, 44    BK-R19B-44      True   \n",
              "455        998     Road-750 Black, 48    BK-R19B-48      True   \n",
              "456        999     Road-750 Black, 52    BK-R19B-52      True   \n",
              "\n",
              "     FinishedGoodsFlag  Color  SafetyStockLevel  ReorderPoint  StandardCost  \\\n",
              "0                False   None              1000           750        0.0000   \n",
              "1                False   None              1000           750        0.0000   \n",
              "2                False   None               800           600        0.0000   \n",
              "3                False   None               800           600        0.0000   \n",
              "4                False   None               800           600        0.0000   \n",
              "..                 ...    ...               ...           ...           ...   \n",
              "452               True   None               500           375       44.9506   \n",
              "453               True   None               500           375       53.9416   \n",
              "454               True  Black               100            75      343.6496   \n",
              "455               True  Black               100            75      343.6496   \n",
              "456               True  Black               100            75      343.6496   \n",
              "\n",
              "     ListPrice  ... ProductLine Class Style  ProductSubcategoryID  \\\n",
              "0         0.00  ...        None  None  None                   NaN   \n",
              "1         0.00  ...        None  None  None                   NaN   \n",
              "2         0.00  ...        None  None  None                   NaN   \n",
              "3         0.00  ...        None  None  None                   NaN   \n",
              "4         0.00  ...        None  None  None                   NaN   \n",
              "..         ...  ...         ...   ...   ...                   ...   \n",
              "452     101.24  ...        None    M   None                   5.0   \n",
              "453     121.49  ...        None    H   None                   5.0   \n",
              "454     539.99  ...          R     L     U                    2.0   \n",
              "455     539.99  ...          R     L     U                    2.0   \n",
              "456     539.99  ...          R     L     U                    2.0   \n",
              "\n",
              "     ProductModelID SellStartDate SellEndDate DiscontinuedDate  \\\n",
              "0               NaN    2008-04-30         NaT             None   \n",
              "1               NaN    2008-04-30         NaT             None   \n",
              "2               NaN    2008-04-30         NaT             None   \n",
              "3               NaN    2008-04-30         NaT             None   \n",
              "4               NaN    2008-04-30         NaT             None   \n",
              "..              ...           ...         ...              ...   \n",
              "452            96.0    2013-05-30         NaT             None   \n",
              "453            97.0    2013-05-30         NaT             None   \n",
              "454            31.0    2013-05-30         NaT             None   \n",
              "455            31.0    2013-05-30         NaT             None   \n",
              "456            31.0    2013-05-30         NaT             None   \n",
              "\n",
              "                                  rowguid            ModifiedDate  \n",
              "0    694215B7-08F7-4C0D-ACB1-D734BA44C0C8 2014-02-08 10:01:36.827  \n",
              "1    58AE3C20-4F3A-4749-A7D4-D568806CC537 2014-02-08 10:01:36.827  \n",
              "2    9C21AED2-5BFA-4F18-BCB8-F11638DC2E4E 2014-02-08 10:01:36.827  \n",
              "3    ECFED6CB-51FF-49B5-B06C-7D8AC834DB8B 2014-02-08 10:01:36.827  \n",
              "4    E73E9750-603B-4131-89F5-3DD15ED5FF80 2014-02-08 10:01:36.827  \n",
              "..                                    ...                     ...  \n",
              "452  71AB847F-D091-42D6-B735-7B0C2D82FC84 2014-02-08 10:01:36.827  \n",
              "453  230C47C5-08B2-4CE3-B706-69C0BDD62965 2014-02-08 10:01:36.827  \n",
              "454  44CE4802-409F-43AB-9B27-CA53421805BE 2014-02-08 10:01:36.827  \n",
              "455  3DE9A212-1D49-40B6-B10A-F564D981DBDE 2014-02-08 10:01:36.827  \n",
              "456  AE638923-2B67-4679-B90E-ABBAB17DCA31 2014-02-08 10:01:36.827  \n",
              "\n",
              "[457 rows x 25 columns]"
            ],
            "text/html": "<div>\n<style scoped>\n    .dataframe tbody tr th:only-of-type {\n        vertical-align: middle;\n    }\n\n    .dataframe tbody tr th {\n        vertical-align: top;\n    }\n\n    .dataframe thead th {\n        text-align: right;\n    }\n</style>\n<table border=\"1\" class=\"dataframe\">\n  <thead>\n    <tr style=\"text-align: right;\">\n      <th></th>\n      <th>ProductID</th>\n      <th>Name</th>\n      <th>ProductNumber</th>\n      <th>MakeFlag</th>\n      <th>FinishedGoodsFlag</th>\n      <th>Color</th>\n      <th>SafetyStockLevel</th>\n      <th>ReorderPoint</th>\n      <th>StandardCost</th>\n      <th>ListPrice</th>\n      <th>...</th>\n      <th>ProductLine</th>\n      <th>Class</th>\n      <th>Style</th>\n      <th>ProductSubcategoryID</th>\n      <th>ProductModelID</th>\n      <th>SellStartDate</th>\n      <th>SellEndDate</th>\n      <th>DiscontinuedDate</th>\n      <th>rowguid</th>\n      <th>ModifiedDate</th>\n    </tr>\n  </thead>\n  <tbody>\n    <tr>\n      <th>0</th>\n      <td>1</td>\n      <td>Adjustable Race</td>\n      <td>AR-5381</td>\n      <td>False</td>\n      <td>False</td>\n      <td>None</td>\n      <td>1000</td>\n      <td>750</td>\n      <td>0.0000</td>\n      <td>0.00</td>\n      <td>...</td>\n      <td>None</td>\n      <td>None</td>\n      <td>None</td>\n      <td>NaN</td>\n      <td>NaN</td>\n      <td>2008-04-30</td>\n      <td>NaT</td>\n      <td>None</td>\n      <td>694215B7-08F7-4C0D-ACB1-D734BA44C0C8</td>\n      <td>2014-02-08 10:01:36.827</td>\n    </tr>\n    <tr>\n      <th>1</th>\n      <td>2</td>\n      <td>Bearing Ball</td>\n      <td>BA-8327</td>\n      <td>False</td>\n      <td>False</td>\n      <td>None</td>\n      <td>1000</td>\n      <td>750</td>\n      <td>0.0000</td>\n      <td>0.00</td>\n      <td>...</td>\n      <td>None</td>\n      <td>None</td>\n      <td>None</td>\n      <td>NaN</td>\n      <td>NaN</td>\n      <td>2008-04-30</td>\n      <td>NaT</td>\n      <td>None</td>\n      <td>58AE3C20-4F3A-4749-A7D4-D568806CC537</td>\n      <td>2014-02-08 10:01:36.827</td>\n    </tr>\n    <tr>\n      <th>2</th>\n      <td>3</td>\n      <td>BB Ball Bearing</td>\n      <td>BE-2349</td>\n      <td>True</td>\n      <td>False</td>\n      <td>None</td>\n      <td>800</td>\n      <td>600</td>\n      <td>0.0000</td>\n      <td>0.00</td>\n      <td>...</td>\n      <td>None</td>\n      <td>None</td>\n      <td>None</td>\n      <td>NaN</td>\n      <td>NaN</td>\n      <td>2008-04-30</td>\n      <td>NaT</td>\n      <td>None</td>\n      <td>9C21AED2-5BFA-4F18-BCB8-F11638DC2E4E</td>\n      <td>2014-02-08 10:01:36.827</td>\n    </tr>\n    <tr>\n      <th>3</th>\n      <td>4</td>\n      <td>Headset Ball Bearings</td>\n      <td>BE-2908</td>\n      <td>False</td>\n      <td>False</td>\n      <td>None</td>\n      <td>800</td>\n      <td>600</td>\n      <td>0.0000</td>\n      <td>0.00</td>\n      <td>...</td>\n      <td>None</td>\n      <td>None</td>\n      <td>None</td>\n      <td>NaN</td>\n      <td>NaN</td>\n      <td>2008-04-30</td>\n      <td>NaT</td>\n      <td>None</td>\n      <td>ECFED6CB-51FF-49B5-B06C-7D8AC834DB8B</td>\n      <td>2014-02-08 10:01:36.827</td>\n    </tr>\n    <tr>\n      <th>4</th>\n      <td>316</td>\n      <td>Blade</td>\n      <td>BL-2036</td>\n      <td>True</td>\n      <td>False</td>\n      <td>None</td>\n      <td>800</td>\n      <td>600</td>\n      <td>0.0000</td>\n      <td>0.00</td>\n      <td>...</td>\n      <td>None</td>\n      <td>None</td>\n      <td>None</td>\n      <td>NaN</td>\n      <td>NaN</td>\n      <td>2008-04-30</td>\n      <td>NaT</td>\n      <td>None</td>\n      <td>E73E9750-603B-4131-89F5-3DD15ED5FF80</td>\n      <td>2014-02-08 10:01:36.827</td>\n    </tr>\n    <tr>\n      <th>...</th>\n      <td>...</td>\n      <td>...</td>\n      <td>...</td>\n      <td>...</td>\n      <td>...</td>\n      <td>...</td>\n      <td>...</td>\n      <td>...</td>\n      <td>...</td>\n      <td>...</td>\n      <td>...</td>\n      <td>...</td>\n      <td>...</td>\n      <td>...</td>\n      <td>...</td>\n      <td>...</td>\n      <td>...</td>\n      <td>...</td>\n      <td>...</td>\n      <td>...</td>\n      <td>...</td>\n    </tr>\n    <tr>\n      <th>452</th>\n      <td>995</td>\n      <td>ML Bottom Bracket</td>\n      <td>BB-8107</td>\n      <td>True</td>\n      <td>True</td>\n      <td>None</td>\n      <td>500</td>\n      <td>375</td>\n      <td>44.9506</td>\n      <td>101.24</td>\n      <td>...</td>\n      <td>None</td>\n      <td>M</td>\n      <td>None</td>\n      <td>5.0</td>\n      <td>96.0</td>\n      <td>2013-05-30</td>\n      <td>NaT</td>\n      <td>None</td>\n      <td>71AB847F-D091-42D6-B735-7B0C2D82FC84</td>\n      <td>2014-02-08 10:01:36.827</td>\n    </tr>\n    <tr>\n      <th>453</th>\n      <td>996</td>\n      <td>HL Bottom Bracket</td>\n      <td>BB-9108</td>\n      <td>True</td>\n      <td>True</td>\n      <td>None</td>\n      <td>500</td>\n      <td>375</td>\n      <td>53.9416</td>\n      <td>121.49</td>\n      <td>...</td>\n      <td>None</td>\n      <td>H</td>\n      <td>None</td>\n      <td>5.0</td>\n      <td>97.0</td>\n      <td>2013-05-30</td>\n      <td>NaT</td>\n      <td>None</td>\n      <td>230C47C5-08B2-4CE3-B706-69C0BDD62965</td>\n      <td>2014-02-08 10:01:36.827</td>\n    </tr>\n    <tr>\n      <th>454</th>\n      <td>997</td>\n      <td>Road-750 Black, 44</td>\n      <td>BK-R19B-44</td>\n      <td>True</td>\n      <td>True</td>\n      <td>Black</td>\n      <td>100</td>\n      <td>75</td>\n      <td>343.6496</td>\n      <td>539.99</td>\n      <td>...</td>\n      <td>R</td>\n      <td>L</td>\n      <td>U</td>\n      <td>2.0</td>\n      <td>31.0</td>\n      <td>2013-05-30</td>\n      <td>NaT</td>\n      <td>None</td>\n      <td>44CE4802-409F-43AB-9B27-CA53421805BE</td>\n      <td>2014-02-08 10:01:36.827</td>\n    </tr>\n    <tr>\n      <th>455</th>\n      <td>998</td>\n      <td>Road-750 Black, 48</td>\n      <td>BK-R19B-48</td>\n      <td>True</td>\n      <td>True</td>\n      <td>Black</td>\n      <td>100</td>\n      <td>75</td>\n      <td>343.6496</td>\n      <td>539.99</td>\n      <td>...</td>\n      <td>R</td>\n      <td>L</td>\n      <td>U</td>\n      <td>2.0</td>\n      <td>31.0</td>\n      <td>2013-05-30</td>\n      <td>NaT</td>\n      <td>None</td>\n      <td>3DE9A212-1D49-40B6-B10A-F564D981DBDE</td>\n      <td>2014-02-08 10:01:36.827</td>\n    </tr>\n    <tr>\n      <th>456</th>\n      <td>999</td>\n      <td>Road-750 Black, 52</td>\n      <td>BK-R19B-52</td>\n      <td>True</td>\n      <td>True</td>\n      <td>Black</td>\n      <td>100</td>\n      <td>75</td>\n      <td>343.6496</td>\n      <td>539.99</td>\n      <td>...</td>\n      <td>R</td>\n      <td>L</td>\n      <td>U</td>\n      <td>2.0</td>\n      <td>31.0</td>\n      <td>2013-05-30</td>\n      <td>NaT</td>\n      <td>None</td>\n      <td>AE638923-2B67-4679-B90E-ABBAB17DCA31</td>\n      <td>2014-02-08 10:01:36.827</td>\n    </tr>\n  </tbody>\n</table>\n<p>457 rows × 25 columns</p>\n</div>"
          },
          "metadata": {},
          "execution_count": 18
        }
      ]
    },
    {
      "cell_type": "code",
      "metadata": {
        "id": "QtRpapksyqIZ",
        "outputId": "1215cb20-86cf-482c-dbaa-4e8e7c866d2f"
      },
      "source": [
        "query = \"\"\"\n",
        "        SELECT HireDate\n",
        "        FROM HumanResources.Employee\n",
        "        WHERE HireDate BETWEEN '2009/01/01' AND '2010/01/01'\n",
        "        ORDER BY HireDate;\n",
        "        \"\"\"\n",
        "pd.read_sql(query, conn)"
      ],
      "execution_count": 19,
      "outputs": [
        {
          "output_type": "execute_result",
          "data": {
            "text/plain": [
              "       HireDate\n",
              "0    2009-01-01\n",
              "1    2009-01-01\n",
              "2    2009-01-02\n",
              "3    2009-01-02\n",
              "4    2009-01-02\n",
              "..          ...\n",
              "144  2009-12-22\n",
              "145  2009-12-25\n",
              "146  2009-12-25\n",
              "147  2009-12-29\n",
              "148  2010-01-01\n",
              "\n",
              "[149 rows x 1 columns]"
            ],
            "text/html": "<div>\n<style scoped>\n    .dataframe tbody tr th:only-of-type {\n        vertical-align: middle;\n    }\n\n    .dataframe tbody tr th {\n        vertical-align: top;\n    }\n\n    .dataframe thead th {\n        text-align: right;\n    }\n</style>\n<table border=\"1\" class=\"dataframe\">\n  <thead>\n    <tr style=\"text-align: right;\">\n      <th></th>\n      <th>HireDate</th>\n    </tr>\n  </thead>\n  <tbody>\n    <tr>\n      <th>0</th>\n      <td>2009-01-01</td>\n    </tr>\n    <tr>\n      <th>1</th>\n      <td>2009-01-01</td>\n    </tr>\n    <tr>\n      <th>2</th>\n      <td>2009-01-02</td>\n    </tr>\n    <tr>\n      <th>3</th>\n      <td>2009-01-02</td>\n    </tr>\n    <tr>\n      <th>4</th>\n      <td>2009-01-02</td>\n    </tr>\n    <tr>\n      <th>...</th>\n      <td>...</td>\n    </tr>\n    <tr>\n      <th>144</th>\n      <td>2009-12-22</td>\n    </tr>\n    <tr>\n      <th>145</th>\n      <td>2009-12-25</td>\n    </tr>\n    <tr>\n      <th>146</th>\n      <td>2009-12-25</td>\n    </tr>\n    <tr>\n      <th>147</th>\n      <td>2009-12-29</td>\n    </tr>\n    <tr>\n      <th>148</th>\n      <td>2010-01-01</td>\n    </tr>\n  </tbody>\n</table>\n<p>149 rows × 1 columns</p>\n</div>"
          },
          "metadata": {},
          "execution_count": 19
        }
      ]
    },
    {
      "cell_type": "markdown",
      "metadata": {
        "id": "Eo1gM3wTyqId"
      },
      "source": [
        "## IN"
      ]
    },
    {
      "cell_type": "markdown",
      "metadata": {
        "id": "9_DODjaiyqIe"
      },
      "source": [
        "\n",
        "\n",
        "O IN é o comando permite que você especifique vários valores em uma cláusula WHERE.\n",
        "\n",
        "\n",
        "Sintaxe\n",
        "\n",
        "SELECT column1, column2, columnN \n",
        "\n",
        "FROM table_name \n",
        "\n",
        "WHERE Country IN ('Valor1', 'Valor2', 'ValorN');\n",
        "\n",
        "\n",
        "\n"
      ]
    },
    {
      "cell_type": "code",
      "metadata": {
        "id": "0F3MhA-yyqIe",
        "outputId": "2f40abec-3799-4ef3-81e4-0b9d91aa2c5b"
      },
      "source": [
        "query = \"\"\"\n",
        "        SELECT *\n",
        "        FROM Person.Person\n",
        "        WHERE BusinessEntityID IN (2,7,13)\n",
        "        \"\"\"\n",
        "pd.read_sql(query, conn)"
      ],
      "execution_count": 20,
      "outputs": [
        {
          "output_type": "execute_result",
          "data": {
            "text/plain": [
              "   BusinessEntityID PersonType  NameStyle Title FirstName MiddleName LastName  \\\n",
              "0                 2         EM      False  None     Terri        Lee    Duffy   \n",
              "1                 7         EM      False  None     Dylan          A   Miller   \n",
              "2                13         EM      False   Ms.    Janice          M   Galvin   \n",
              "\n",
              "  Suffix  EmailPromotion AdditionalContactInfo  \\\n",
              "0   None               1                  None   \n",
              "1   None               2                  None   \n",
              "2   None               2                  None   \n",
              "\n",
              "                                        Demographics  \\\n",
              "0  <IndividualSurvey xmlns=\"http://schemas.micros...   \n",
              "1  <IndividualSurvey xmlns=\"http://schemas.micros...   \n",
              "2  <IndividualSurvey xmlns=\"http://schemas.micros...   \n",
              "\n",
              "                                rowguid ModifiedDate  \n",
              "0  D8763459-8AA8-47CC-AFF7-C9079AF79033   2008-01-24  \n",
              "1  C45E8AB8-01BE-4B76-B215-820C8368181A   2009-02-01  \n",
              "2  34EB99E0-7042-4DC1-A2FD-BDA290FF0E07   2010-12-16  "
            ],
            "text/html": "<div>\n<style scoped>\n    .dataframe tbody tr th:only-of-type {\n        vertical-align: middle;\n    }\n\n    .dataframe tbody tr th {\n        vertical-align: top;\n    }\n\n    .dataframe thead th {\n        text-align: right;\n    }\n</style>\n<table border=\"1\" class=\"dataframe\">\n  <thead>\n    <tr style=\"text-align: right;\">\n      <th></th>\n      <th>BusinessEntityID</th>\n      <th>PersonType</th>\n      <th>NameStyle</th>\n      <th>Title</th>\n      <th>FirstName</th>\n      <th>MiddleName</th>\n      <th>LastName</th>\n      <th>Suffix</th>\n      <th>EmailPromotion</th>\n      <th>AdditionalContactInfo</th>\n      <th>Demographics</th>\n      <th>rowguid</th>\n      <th>ModifiedDate</th>\n    </tr>\n  </thead>\n  <tbody>\n    <tr>\n      <th>0</th>\n      <td>2</td>\n      <td>EM</td>\n      <td>False</td>\n      <td>None</td>\n      <td>Terri</td>\n      <td>Lee</td>\n      <td>Duffy</td>\n      <td>None</td>\n      <td>1</td>\n      <td>None</td>\n      <td>&lt;IndividualSurvey xmlns=\"http://schemas.micros...</td>\n      <td>D8763459-8AA8-47CC-AFF7-C9079AF79033</td>\n      <td>2008-01-24</td>\n    </tr>\n    <tr>\n      <th>1</th>\n      <td>7</td>\n      <td>EM</td>\n      <td>False</td>\n      <td>None</td>\n      <td>Dylan</td>\n      <td>A</td>\n      <td>Miller</td>\n      <td>None</td>\n      <td>2</td>\n      <td>None</td>\n      <td>&lt;IndividualSurvey xmlns=\"http://schemas.micros...</td>\n      <td>C45E8AB8-01BE-4B76-B215-820C8368181A</td>\n      <td>2009-02-01</td>\n    </tr>\n    <tr>\n      <th>2</th>\n      <td>13</td>\n      <td>EM</td>\n      <td>False</td>\n      <td>Ms.</td>\n      <td>Janice</td>\n      <td>M</td>\n      <td>Galvin</td>\n      <td>None</td>\n      <td>2</td>\n      <td>None</td>\n      <td>&lt;IndividualSurvey xmlns=\"http://schemas.micros...</td>\n      <td>34EB99E0-7042-4DC1-A2FD-BDA290FF0E07</td>\n      <td>2010-12-16</td>\n    </tr>\n  </tbody>\n</table>\n</div>"
          },
          "metadata": {},
          "execution_count": 20
        }
      ]
    },
    {
      "cell_type": "code",
      "metadata": {
        "id": "sKu8JV7xyqIe",
        "outputId": "c61959fc-aeca-45c3-d837-17a65994f233"
      },
      "source": [
        "query = \"\"\"\n",
        "        SELECT *\n",
        "        FROM Person.Person\n",
        "        WHERE BusinessEntityID NOT IN (2,7,13)\n",
        "        \"\"\"\n",
        "pd.read_sql(query, conn)"
      ],
      "execution_count": 21,
      "outputs": [
        {
          "output_type": "execute_result",
          "data": {
            "text/plain": [
              "       BusinessEntityID PersonType  NameStyle Title FirstName MiddleName  \\\n",
              "0                     1         EM      False  None       Ken          J   \n",
              "1                     3         EM      False  None   Roberto       None   \n",
              "2                     4         EM      False  None       Rob       None   \n",
              "3                     5         EM      False   Ms.      Gail          A   \n",
              "4                     6         EM      False   Mr.    Jossef          H   \n",
              "...                 ...        ...        ...   ...       ...        ...   \n",
              "19964             20773         IN      False  None   Crystal       None   \n",
              "19965             20774         IN      False  None  Isabella          F   \n",
              "19966             20775         IN      False  None   Crystal          S   \n",
              "19967             20776         IN      False  None   Crystal       None   \n",
              "19968             20777         IN      False  None   Crystal       None   \n",
              "\n",
              "         LastName Suffix  EmailPromotion AdditionalContactInfo  \\\n",
              "0         Sánchez   None               0                  None   \n",
              "1      Tamburello   None               0                  None   \n",
              "2         Walters   None               0                  None   \n",
              "3        Erickson   None               0                  None   \n",
              "4        Goldberg   None               0                  None   \n",
              "...           ...    ...             ...                   ...   \n",
              "19964         Guo   None               0                  None   \n",
              "19965  Richardson   None               2                  None   \n",
              "19966          He   None               0                  None   \n",
              "19967       Zheng   None               1                  None   \n",
              "19968          Hu   None               0                  None   \n",
              "\n",
              "                                            Demographics  \\\n",
              "0      <IndividualSurvey xmlns=\"http://schemas.micros...   \n",
              "1      <IndividualSurvey xmlns=\"http://schemas.micros...   \n",
              "2      <IndividualSurvey xmlns=\"http://schemas.micros...   \n",
              "3      <IndividualSurvey xmlns=\"http://schemas.micros...   \n",
              "4      <IndividualSurvey xmlns=\"http://schemas.micros...   \n",
              "...                                                  ...   \n",
              "19964  <IndividualSurvey xmlns=\"http://schemas.micros...   \n",
              "19965  <IndividualSurvey xmlns=\"http://schemas.micros...   \n",
              "19966  <IndividualSurvey xmlns=\"http://schemas.micros...   \n",
              "19967  <IndividualSurvey xmlns=\"http://schemas.micros...   \n",
              "19968  <IndividualSurvey xmlns=\"http://schemas.micros...   \n",
              "\n",
              "                                    rowguid ModifiedDate  \n",
              "0      92C4279F-1207-48A3-8448-4636514EB7E2   2009-01-07  \n",
              "1      E1A2555E-0828-434B-A33B-6F38136A37DE   2007-11-04  \n",
              "2      F2D7CE06-38B3-4357-805B-F4B6B71C01FF   2007-11-28  \n",
              "3      F3A3F6B4-AE3B-430C-A754-9F2231BA6FEF   2007-12-30  \n",
              "4      0DEA28FD-EFFE-482A-AFD3-B7E8F199D56F   2013-12-16  \n",
              "...                                     ...          ...  \n",
              "19964  D0A499A2-C258-43E9-AB06-F61543A71134   2014-03-19  \n",
              "19965  A4F7F248-82F3-43D5-B5A3-8BD1CB610254   2013-07-29  \n",
              "19966  CD0B82D0-3409-4497-A65F-A68E75EE26CB   2014-03-12  \n",
              "19967  386E35E8-97B3-43E4-9B5F-9594C2FF5CEA   2014-01-14  \n",
              "19968  1773C8F3-2CC7-4826-A7F5-30D3F36543CD   2013-10-16  \n",
              "\n",
              "[19969 rows x 13 columns]"
            ],
            "text/html": "<div>\n<style scoped>\n    .dataframe tbody tr th:only-of-type {\n        vertical-align: middle;\n    }\n\n    .dataframe tbody tr th {\n        vertical-align: top;\n    }\n\n    .dataframe thead th {\n        text-align: right;\n    }\n</style>\n<table border=\"1\" class=\"dataframe\">\n  <thead>\n    <tr style=\"text-align: right;\">\n      <th></th>\n      <th>BusinessEntityID</th>\n      <th>PersonType</th>\n      <th>NameStyle</th>\n      <th>Title</th>\n      <th>FirstName</th>\n      <th>MiddleName</th>\n      <th>LastName</th>\n      <th>Suffix</th>\n      <th>EmailPromotion</th>\n      <th>AdditionalContactInfo</th>\n      <th>Demographics</th>\n      <th>rowguid</th>\n      <th>ModifiedDate</th>\n    </tr>\n  </thead>\n  <tbody>\n    <tr>\n      <th>0</th>\n      <td>1</td>\n      <td>EM</td>\n      <td>False</td>\n      <td>None</td>\n      <td>Ken</td>\n      <td>J</td>\n      <td>Sánchez</td>\n      <td>None</td>\n      <td>0</td>\n      <td>None</td>\n      <td>&lt;IndividualSurvey xmlns=\"http://schemas.micros...</td>\n      <td>92C4279F-1207-48A3-8448-4636514EB7E2</td>\n      <td>2009-01-07</td>\n    </tr>\n    <tr>\n      <th>1</th>\n      <td>3</td>\n      <td>EM</td>\n      <td>False</td>\n      <td>None</td>\n      <td>Roberto</td>\n      <td>None</td>\n      <td>Tamburello</td>\n      <td>None</td>\n      <td>0</td>\n      <td>None</td>\n      <td>&lt;IndividualSurvey xmlns=\"http://schemas.micros...</td>\n      <td>E1A2555E-0828-434B-A33B-6F38136A37DE</td>\n      <td>2007-11-04</td>\n    </tr>\n    <tr>\n      <th>2</th>\n      <td>4</td>\n      <td>EM</td>\n      <td>False</td>\n      <td>None</td>\n      <td>Rob</td>\n      <td>None</td>\n      <td>Walters</td>\n      <td>None</td>\n      <td>0</td>\n      <td>None</td>\n      <td>&lt;IndividualSurvey xmlns=\"http://schemas.micros...</td>\n      <td>F2D7CE06-38B3-4357-805B-F4B6B71C01FF</td>\n      <td>2007-11-28</td>\n    </tr>\n    <tr>\n      <th>3</th>\n      <td>5</td>\n      <td>EM</td>\n      <td>False</td>\n      <td>Ms.</td>\n      <td>Gail</td>\n      <td>A</td>\n      <td>Erickson</td>\n      <td>None</td>\n      <td>0</td>\n      <td>None</td>\n      <td>&lt;IndividualSurvey xmlns=\"http://schemas.micros...</td>\n      <td>F3A3F6B4-AE3B-430C-A754-9F2231BA6FEF</td>\n      <td>2007-12-30</td>\n    </tr>\n    <tr>\n      <th>4</th>\n      <td>6</td>\n      <td>EM</td>\n      <td>False</td>\n      <td>Mr.</td>\n      <td>Jossef</td>\n      <td>H</td>\n      <td>Goldberg</td>\n      <td>None</td>\n      <td>0</td>\n      <td>None</td>\n      <td>&lt;IndividualSurvey xmlns=\"http://schemas.micros...</td>\n      <td>0DEA28FD-EFFE-482A-AFD3-B7E8F199D56F</td>\n      <td>2013-12-16</td>\n    </tr>\n    <tr>\n      <th>...</th>\n      <td>...</td>\n      <td>...</td>\n      <td>...</td>\n      <td>...</td>\n      <td>...</td>\n      <td>...</td>\n      <td>...</td>\n      <td>...</td>\n      <td>...</td>\n      <td>...</td>\n      <td>...</td>\n      <td>...</td>\n      <td>...</td>\n    </tr>\n    <tr>\n      <th>19964</th>\n      <td>20773</td>\n      <td>IN</td>\n      <td>False</td>\n      <td>None</td>\n      <td>Crystal</td>\n      <td>None</td>\n      <td>Guo</td>\n      <td>None</td>\n      <td>0</td>\n      <td>None</td>\n      <td>&lt;IndividualSurvey xmlns=\"http://schemas.micros...</td>\n      <td>D0A499A2-C258-43E9-AB06-F61543A71134</td>\n      <td>2014-03-19</td>\n    </tr>\n    <tr>\n      <th>19965</th>\n      <td>20774</td>\n      <td>IN</td>\n      <td>False</td>\n      <td>None</td>\n      <td>Isabella</td>\n      <td>F</td>\n      <td>Richardson</td>\n      <td>None</td>\n      <td>2</td>\n      <td>None</td>\n      <td>&lt;IndividualSurvey xmlns=\"http://schemas.micros...</td>\n      <td>A4F7F248-82F3-43D5-B5A3-8BD1CB610254</td>\n      <td>2013-07-29</td>\n    </tr>\n    <tr>\n      <th>19966</th>\n      <td>20775</td>\n      <td>IN</td>\n      <td>False</td>\n      <td>None</td>\n      <td>Crystal</td>\n      <td>S</td>\n      <td>He</td>\n      <td>None</td>\n      <td>0</td>\n      <td>None</td>\n      <td>&lt;IndividualSurvey xmlns=\"http://schemas.micros...</td>\n      <td>CD0B82D0-3409-4497-A65F-A68E75EE26CB</td>\n      <td>2014-03-12</td>\n    </tr>\n    <tr>\n      <th>19967</th>\n      <td>20776</td>\n      <td>IN</td>\n      <td>False</td>\n      <td>None</td>\n      <td>Crystal</td>\n      <td>None</td>\n      <td>Zheng</td>\n      <td>None</td>\n      <td>1</td>\n      <td>None</td>\n      <td>&lt;IndividualSurvey xmlns=\"http://schemas.micros...</td>\n      <td>386E35E8-97B3-43E4-9B5F-9594C2FF5CEA</td>\n      <td>2014-01-14</td>\n    </tr>\n    <tr>\n      <th>19968</th>\n      <td>20777</td>\n      <td>IN</td>\n      <td>False</td>\n      <td>None</td>\n      <td>Crystal</td>\n      <td>None</td>\n      <td>Hu</td>\n      <td>None</td>\n      <td>0</td>\n      <td>None</td>\n      <td>&lt;IndividualSurvey xmlns=\"http://schemas.micros...</td>\n      <td>1773C8F3-2CC7-4826-A7F5-30D3F36543CD</td>\n      <td>2013-10-16</td>\n    </tr>\n  </tbody>\n</table>\n<p>19969 rows × 13 columns</p>\n</div>"
          },
          "metadata": {},
          "execution_count": 21
        }
      ]
    },
    {
      "cell_type": "markdown",
      "metadata": {
        "id": "mpi2DUAPyqIf"
      },
      "source": [
        "## LIKE"
      ]
    },
    {
      "cell_type": "markdown",
      "metadata": {
        "id": "yIMbG7fDyqIf"
      },
      "source": [
        "\n",
        "\n",
        "A cláusula LIKE é usada para comparar um valor a valores semelhantes usando operadores curinga. Existem dois curingas usados ​​em conjunto com o operador LIKE.\n",
        "\n",
        "- O sinal de porcentagem (%)\n",
        "- O sublinhado (_)\n",
        "\n",
        "O sinal de porcentagem representa zero, um ou vários caracteres. O sublinhado representa um único número ou caractere. Esses símbolos podem ser usados ​​em combinações.\n",
        "\n",
        "Sintaxe\n",
        "A sintaxe básica de% e _ é a seguinte -\n",
        "\n",
        "***\n",
        "SELECT FROM table_name\n",
        "\n",
        "WHERE column LIKE 'XXXX%'\n",
        "\n",
        "***\n",
        "or \n",
        "\n",
        "SELECT FROM table_name\n",
        "\n",
        "WHERE column LIKE '%XXXX%'\n",
        "\n",
        "***\n",
        "or\n",
        "\n",
        "SELECT FROM table_name\n",
        "\n",
        "WHERE column LIKE 'XXXX_'\n",
        "\n",
        "***\n",
        "or\n",
        "\n",
        "SELECT FROM table_name\n",
        "\n",
        "WHERE column LIKE '_XXXX'\n",
        "\n",
        "***\n",
        "or\n",
        "\n",
        "SELECT FROM table_name\n",
        "\n",
        "WHERE column LIKE '_XXXX_'\n",
        "\n",
        "***\n",
        "\n",
        "Você pode combinar um número N de condições usando os operadores AND ou OR. Aqui, XXXX pode ser qualquer valor numérico ou string."
      ]
    },
    {
      "cell_type": "code",
      "metadata": {
        "id": "ze6QwhKNyqIg",
        "outputId": "8c35c9e0-7116-429f-e3c8-5362ae112216"
      },
      "source": [
        "query = \"\"\"\n",
        "        SELECT *\n",
        "        FROM person.Person\n",
        "        WHERE FirstName LIKE 'ovi%';\n",
        "        \"\"\"\n",
        "pd.read_sql(query, conn)"
      ],
      "execution_count": 22,
      "outputs": [
        {
          "output_type": "execute_result",
          "data": {
            "text/plain": [
              "   BusinessEntityID PersonType  NameStyle Title FirstName MiddleName LastName  \\\n",
              "0               575         SC      False   Mr.    Ovidiu       None  Burlacu   \n",
              "1                11         EM      False  None    Ovidiu          V  Cracium   \n",
              "\n",
              "  Suffix  EmailPromotion AdditionalContactInfo  \\\n",
              "0   None               0                  None   \n",
              "1   None               0                  None   \n",
              "\n",
              "                                        Demographics  \\\n",
              "0  <IndividualSurvey xmlns=\"http://schemas.micros...   \n",
              "1  <IndividualSurvey xmlns=\"http://schemas.micros...   \n",
              "\n",
              "                                rowguid ModifiedDate  \n",
              "0  B1BD6887-A5B7-4E1E-AEB8-A1F76A2F76F2   2012-07-31  \n",
              "1  D2CC2577-EF6B-4408-BD8C-747337FE5645   2010-11-28  "
            ],
            "text/html": "<div>\n<style scoped>\n    .dataframe tbody tr th:only-of-type {\n        vertical-align: middle;\n    }\n\n    .dataframe tbody tr th {\n        vertical-align: top;\n    }\n\n    .dataframe thead th {\n        text-align: right;\n    }\n</style>\n<table border=\"1\" class=\"dataframe\">\n  <thead>\n    <tr style=\"text-align: right;\">\n      <th></th>\n      <th>BusinessEntityID</th>\n      <th>PersonType</th>\n      <th>NameStyle</th>\n      <th>Title</th>\n      <th>FirstName</th>\n      <th>MiddleName</th>\n      <th>LastName</th>\n      <th>Suffix</th>\n      <th>EmailPromotion</th>\n      <th>AdditionalContactInfo</th>\n      <th>Demographics</th>\n      <th>rowguid</th>\n      <th>ModifiedDate</th>\n    </tr>\n  </thead>\n  <tbody>\n    <tr>\n      <th>0</th>\n      <td>575</td>\n      <td>SC</td>\n      <td>False</td>\n      <td>Mr.</td>\n      <td>Ovidiu</td>\n      <td>None</td>\n      <td>Burlacu</td>\n      <td>None</td>\n      <td>0</td>\n      <td>None</td>\n      <td>&lt;IndividualSurvey xmlns=\"http://schemas.micros...</td>\n      <td>B1BD6887-A5B7-4E1E-AEB8-A1F76A2F76F2</td>\n      <td>2012-07-31</td>\n    </tr>\n    <tr>\n      <th>1</th>\n      <td>11</td>\n      <td>EM</td>\n      <td>False</td>\n      <td>None</td>\n      <td>Ovidiu</td>\n      <td>V</td>\n      <td>Cracium</td>\n      <td>None</td>\n      <td>0</td>\n      <td>None</td>\n      <td>&lt;IndividualSurvey xmlns=\"http://schemas.micros...</td>\n      <td>D2CC2577-EF6B-4408-BD8C-747337FE5645</td>\n      <td>2010-11-28</td>\n    </tr>\n  </tbody>\n</table>\n</div>"
          },
          "metadata": {},
          "execution_count": 22
        }
      ]
    },
    {
      "cell_type": "code",
      "metadata": {
        "id": "9ad0iRhZyqIg",
        "outputId": "435ff77d-7729-4053-ce26-b198a8dda6a1"
      },
      "source": [
        "query = \"\"\"\n",
        "        SELECT *\n",
        "        FROM person.Person\n",
        "        WHERE FirstName LIKE '%to';\n",
        "        \"\"\"\n",
        "pd.read_sql(query, conn)"
      ],
      "execution_count": 23,
      "outputs": [
        {
          "output_type": "execute_result",
          "data": {
            "text/plain": [
              "    BusinessEntityID PersonType  NameStyle Title FirstName MiddleName  \\\n",
              "0                297         SC      False   Sr.  Humberto       None   \n",
              "1               6623         IN      False  None   Alberto       None   \n",
              "2              14805         IN      False  None   Roberto          M   \n",
              "3               6609         IN      False  None   Alberto       None   \n",
              "4              14791         IN      False  None   Roberto       None   \n",
              "5                395         SC      False   Mr.   Alberto         F.   \n",
              "6               6637         IN      False  None   Alberto          R   \n",
              "7               6603         IN      False  None   Alberto          A   \n",
              "8              14789         IN      False  None   Roberto          A   \n",
              "9               6634         IN      False  None   Alberto          R   \n",
              "10             14816         IN      False  None   Roberto          A   \n",
              "11              6635         IN      False  None   Alberto          P   \n",
              "12             14817         IN      False  None   Roberto          W   \n",
              "13              6600         IN      False  None   Alberto       None   \n",
              "14              6628         IN      False  None   Alberto          R   \n",
              "15             14813         IN      False  None   Roberto       None   \n",
              "16              6607         IN      False  None   Alberto          D   \n",
              "17             14790         IN      False  None   Roberto       None   \n",
              "18              6611         IN      False  None   Alberto          C   \n",
              "19             14796         IN      False  None   Roberto          D   \n",
              "20             14201         IN      False  None    Masato       None   \n",
              "21              6598         IN      False  None   Alberto          R   \n",
              "22             14800         IN      False  None   Roberto          R   \n",
              "23             14802         IN      False  None   Roberto       None   \n",
              "24              6618         IN      False  None   Alberto          J   \n",
              "25              6627         IN      False  None   Alberto          C   \n",
              "26             14812         IN      False  None   Roberto       None   \n",
              "27              6650         IN      False  None   Alberto       None   \n",
              "28             14837         IN      False  None   Roberto          R   \n",
              "29              6640         IN      False  None   Alberto       None   \n",
              "30             14824         IN      False  None   Roberto          M   \n",
              "31              6624         IN      False  None   Alberto       None   \n",
              "32             14810         IN      False  None   Roberto          A   \n",
              "33              6647         IN      False  None   Alberto          W   \n",
              "34             14834         IN      False  None   Roberto          L   \n",
              "35              6602         IN      False  None   Alberto          L   \n",
              "36             14787         IN      False  None   Roberto       None   \n",
              "37              6646         IN      False  None   Alberto          M   \n",
              "38             14832         IN      False  None   Roberto       None   \n",
              "39              6638         IN      False  None   Alberto          L   \n",
              "40              6644         IN      False  None   Alberto          G   \n",
              "41             14828         IN      False  None   Roberto          D   \n",
              "42                 3         EM      False  None   Roberto       None   \n",
              "43             14815         IN      False  None   Roberto       None   \n",
              "44             14820         IN      False  None   Roberto          A   \n",
              "\n",
              "      LastName Suffix  EmailPromotion  \\\n",
              "0      Acevedo   None               2   \n",
              "1       Alonso   None               1   \n",
              "2       Alonso   None               0   \n",
              "3      Alvarez   None               2   \n",
              "4      Alvarez   None               1   \n",
              "5     Baltazar   None               0   \n",
              "6       Blanco   None               0   \n",
              "7         Diaz   None               1   \n",
              "8         Diaz   None               2   \n",
              "9    Dominguez   None               1   \n",
              "10   Dominguez   None               0   \n",
              "11        Gill   None               0   \n",
              "12        Gill   None               2   \n",
              "13       Gomez   None               1   \n",
              "14   Gutierrez   None               0   \n",
              "15   Gutierrez   None               1   \n",
              "16   Hernandez   None               0   \n",
              "17   Hernandez   None               2   \n",
              "18     Jiménez   None               2   \n",
              "19     Jiménez   None               2   \n",
              "20       Kawai   None               1   \n",
              "21      Martin   None               0   \n",
              "22      Moreno   None               2   \n",
              "23       Munoz   None               1   \n",
              "24       Muñoz   None               0   \n",
              "25     Navarro   None               0   \n",
              "26     Navarro   None               1   \n",
              "27      Ortega   None               1   \n",
              "28      Ortega   None               0   \n",
              "29       Ramos   None               0   \n",
              "30       Ramos   None               2   \n",
              "31      Romero   None               1   \n",
              "32      Romero   None               2   \n",
              "33        Rowe   None               0   \n",
              "34       Rubio   None               0   \n",
              "35        Ruiz   None               0   \n",
              "36        Ruiz   None               1   \n",
              "37        Sanz   None               1   \n",
              "38        Sanz   None               0   \n",
              "39     Serrano   None               0   \n",
              "40      Suarez   None               2   \n",
              "41      Suarez   None               2   \n",
              "42  Tamburello   None               0   \n",
              "43    Townsend   None               1   \n",
              "44     Vazquez   None               0   \n",
              "\n",
              "                                AdditionalContactInfo  \\\n",
              "0   <AdditionalContactInfo xmlns=\"http://schemas.m...   \n",
              "1                                                None   \n",
              "2                                                None   \n",
              "3                                                None   \n",
              "4                                                None   \n",
              "5                                                None   \n",
              "6                                                None   \n",
              "7                                                None   \n",
              "8                                                None   \n",
              "9                                                None   \n",
              "10                                               None   \n",
              "11                                               None   \n",
              "12                                               None   \n",
              "13                                               None   \n",
              "14                                               None   \n",
              "15                                               None   \n",
              "16                                               None   \n",
              "17                                               None   \n",
              "18                                               None   \n",
              "19                                               None   \n",
              "20                                               None   \n",
              "21                                               None   \n",
              "22                                               None   \n",
              "23                                               None   \n",
              "24                                               None   \n",
              "25                                               None   \n",
              "26                                               None   \n",
              "27                                               None   \n",
              "28                                               None   \n",
              "29                                               None   \n",
              "30                                               None   \n",
              "31                                               None   \n",
              "32                                               None   \n",
              "33                                               None   \n",
              "34                                               None   \n",
              "35                                               None   \n",
              "36                                               None   \n",
              "37                                               None   \n",
              "38                                               None   \n",
              "39                                               None   \n",
              "40                                               None   \n",
              "41                                               None   \n",
              "42                                               None   \n",
              "43                                               None   \n",
              "44                                               None   \n",
              "\n",
              "                                         Demographics  \\\n",
              "0   <IndividualSurvey xmlns=\"http://schemas.micros...   \n",
              "1   <IndividualSurvey xmlns=\"http://schemas.micros...   \n",
              "2   <IndividualSurvey xmlns=\"http://schemas.micros...   \n",
              "3   <IndividualSurvey xmlns=\"http://schemas.micros...   \n",
              "4   <IndividualSurvey xmlns=\"http://schemas.micros...   \n",
              "5   <IndividualSurvey xmlns=\"http://schemas.micros...   \n",
              "6   <IndividualSurvey xmlns=\"http://schemas.micros...   \n",
              "7   <IndividualSurvey xmlns=\"http://schemas.micros...   \n",
              "8   <IndividualSurvey xmlns=\"http://schemas.micros...   \n",
              "9   <IndividualSurvey xmlns=\"http://schemas.micros...   \n",
              "10  <IndividualSurvey xmlns=\"http://schemas.micros...   \n",
              "11  <IndividualSurvey xmlns=\"http://schemas.micros...   \n",
              "12  <IndividualSurvey xmlns=\"http://schemas.micros...   \n",
              "13  <IndividualSurvey xmlns=\"http://schemas.micros...   \n",
              "14  <IndividualSurvey xmlns=\"http://schemas.micros...   \n",
              "15  <IndividualSurvey xmlns=\"http://schemas.micros...   \n",
              "16  <IndividualSurvey xmlns=\"http://schemas.micros...   \n",
              "17  <IndividualSurvey xmlns=\"http://schemas.micros...   \n",
              "18  <IndividualSurvey xmlns=\"http://schemas.micros...   \n",
              "19  <IndividualSurvey xmlns=\"http://schemas.micros...   \n",
              "20  <IndividualSurvey xmlns=\"http://schemas.micros...   \n",
              "21  <IndividualSurvey xmlns=\"http://schemas.micros...   \n",
              "22  <IndividualSurvey xmlns=\"http://schemas.micros...   \n",
              "23  <IndividualSurvey xmlns=\"http://schemas.micros...   \n",
              "24  <IndividualSurvey xmlns=\"http://schemas.micros...   \n",
              "25  <IndividualSurvey xmlns=\"http://schemas.micros...   \n",
              "26  <IndividualSurvey xmlns=\"http://schemas.micros...   \n",
              "27  <IndividualSurvey xmlns=\"http://schemas.micros...   \n",
              "28  <IndividualSurvey xmlns=\"http://schemas.micros...   \n",
              "29  <IndividualSurvey xmlns=\"http://schemas.micros...   \n",
              "30  <IndividualSurvey xmlns=\"http://schemas.micros...   \n",
              "31  <IndividualSurvey xmlns=\"http://schemas.micros...   \n",
              "32  <IndividualSurvey xmlns=\"http://schemas.micros...   \n",
              "33  <IndividualSurvey xmlns=\"http://schemas.micros...   \n",
              "34  <IndividualSurvey xmlns=\"http://schemas.micros...   \n",
              "35  <IndividualSurvey xmlns=\"http://schemas.micros...   \n",
              "36  <IndividualSurvey xmlns=\"http://schemas.micros...   \n",
              "37  <IndividualSurvey xmlns=\"http://schemas.micros...   \n",
              "38  <IndividualSurvey xmlns=\"http://schemas.micros...   \n",
              "39  <IndividualSurvey xmlns=\"http://schemas.micros...   \n",
              "40  <IndividualSurvey xmlns=\"http://schemas.micros...   \n",
              "41  <IndividualSurvey xmlns=\"http://schemas.micros...   \n",
              "42  <IndividualSurvey xmlns=\"http://schemas.micros...   \n",
              "43  <IndividualSurvey xmlns=\"http://schemas.micros...   \n",
              "44  <IndividualSurvey xmlns=\"http://schemas.micros...   \n",
              "\n",
              "                                 rowguid            ModifiedDate  \n",
              "0   5A41D336-84CF-44D7-B12B-83B64B511F7E 2015-04-15 16:33:33.090  \n",
              "1   05D761C9-9BC5-4F36-8A66-84539E759BF8 2014-02-12 00:00:00.000  \n",
              "2   D94A7C58-D9DC-49BF-9691-9FE3C11C9249 2014-02-04 00:00:00.000  \n",
              "3   7A5A74BC-342B-4E79-9F72-93AA4ECAB8C9 2014-01-16 00:00:00.000  \n",
              "4   DC17CAF1-9F11-476E-ABFA-0CCCC2976857 2014-04-20 00:00:00.000  \n",
              "5   B3622F28-96D2-45C4-8310-F9688C6C631F 2011-08-01 00:00:00.000  \n",
              "6   6742A146-F65C-4534-B232-46F6348963E2 2014-01-07 00:00:00.000  \n",
              "7   AC769A5E-C34B-450F-A17B-D1A8685FA836 2013-07-25 00:00:00.000  \n",
              "8   F43AF903-E27B-4B67-A0D3-09F81638991E 2012-10-07 00:00:00.000  \n",
              "9   F6926C96-712B-4E7E-8544-810F42D2441C 2013-07-27 00:00:00.000  \n",
              "10  43750EFC-A10B-494F-ACD5-6DC17E53E518 2013-03-22 00:00:00.000  \n",
              "11  1182C943-371B-4068-A511-B05FB6B65430 2011-09-12 00:00:00.000  \n",
              "12  FAD83E4C-C316-46D8-B6B4-063905ADA57B 2013-01-12 00:00:00.000  \n",
              "13  D6811C04-AD6C-41FD-91A5-851EBC209F2D 2014-06-27 00:00:00.000  \n",
              "14  773CF5A9-92BE-48BB-A92A-339093878B2D 2013-07-16 00:00:00.000  \n",
              "15  E6A99B40-BE61-486F-9C77-6CB9FECEE859 2014-02-26 00:00:00.000  \n",
              "16  51A5A418-A316-427F-8348-8EA8E6825E12 2013-01-06 00:00:00.000  \n",
              "17  6E60E8B9-C79B-4742-9B50-40D41C375584 2013-08-15 00:00:00.000  \n",
              "18  B4E2828B-A107-46FF-826B-16B1A31008E5 2013-04-17 00:00:00.000  \n",
              "19  7E896603-9FB4-4C7C-802D-25BF48A85C15 2013-08-17 00:00:00.000  \n",
              "20  D8ACA3B9-C4E2-411C-ABD3-C064E12F1E61 2014-01-13 00:00:00.000  \n",
              "21  93F1371F-03C2-427A-BD79-43D36DEAF164 2013-09-17 00:00:00.000  \n",
              "22  6E46056F-DB36-48CE-A5D7-F8805BCA4CF5 2012-06-01 00:00:00.000  \n",
              "23  86322156-911B-4E31-9570-89021159C52D 2013-07-10 00:00:00.000  \n",
              "24  EB4E0072-A112-47CD-BC31-7675E0B34F47 2014-01-17 00:00:00.000  \n",
              "25  8DB02B42-1E58-46F7-9098-FCA9715560EA 2012-02-13 00:00:00.000  \n",
              "26  F5F3CCF8-64F1-4718-9728-4522D7AA1EAF 2014-05-30 00:00:00.000  \n",
              "27  7C81003B-8FDC-444A-996F-ACF81EFAC4B5 2013-05-15 00:00:00.000  \n",
              "28  2B12D1D2-9865-4A28-B5D7-EA8CD2365BF7 2013-11-16 00:00:00.000  \n",
              "29  239DC95A-BD4C-46D5-8209-34FEAE95ABAA 2012-08-23 00:00:00.000  \n",
              "30  9AD91C2B-639C-45A8-AC9D-7393B882F7DB 2013-12-27 00:00:00.000  \n",
              "31  760F804A-4B58-4D9E-8337-DBE738F33D2D 2014-03-30 00:00:00.000  \n",
              "32  B49CBBA7-238F-42D9-85A8-974A4256CCDF 2013-09-01 00:00:00.000  \n",
              "33  7D270918-E6EB-47A5-B62B-055594AD51A7 2013-10-12 00:00:00.000  \n",
              "34  D280BE1D-477C-446C-AFAE-987C345B45D7 2013-08-13 00:00:00.000  \n",
              "35  DFE61F1C-11F0-445E-AF56-BA9194A49F20 2014-04-17 00:00:00.000  \n",
              "36  A509A6B0-6929-48A8-9455-CB1CB8369366 2013-04-04 00:00:00.000  \n",
              "37  85D0DC52-CE37-4327-849B-3C41BB22EA66 2013-11-28 00:00:00.000  \n",
              "38  104E23DF-90DF-4D98-AEE0-69CCF47C1168 2012-01-27 00:00:00.000  \n",
              "39  6D704D0B-387A-4162-880B-7C3429E0F280 2013-05-01 00:00:00.000  \n",
              "40  DA99E1FB-7BC0-4DF5-B17E-D73478B6538F 2013-09-06 00:00:00.000  \n",
              "41  14FDAB33-CB90-4D02-BD79-0AA586995065 2013-09-15 00:00:00.000  \n",
              "42  E1A2555E-0828-434B-A33B-6F38136A37DE 2007-11-04 00:00:00.000  \n",
              "43  F812BBA0-7D8E-4005-9D99-EEB54A37FBB3 2012-11-27 00:00:00.000  \n",
              "44  D399B8B6-FC1E-427B-B595-257469A2BFC8 2013-01-24 00:00:00.000  "
            ],
            "text/html": "<div>\n<style scoped>\n    .dataframe tbody tr th:only-of-type {\n        vertical-align: middle;\n    }\n\n    .dataframe tbody tr th {\n        vertical-align: top;\n    }\n\n    .dataframe thead th {\n        text-align: right;\n    }\n</style>\n<table border=\"1\" class=\"dataframe\">\n  <thead>\n    <tr style=\"text-align: right;\">\n      <th></th>\n      <th>BusinessEntityID</th>\n      <th>PersonType</th>\n      <th>NameStyle</th>\n      <th>Title</th>\n      <th>FirstName</th>\n      <th>MiddleName</th>\n      <th>LastName</th>\n      <th>Suffix</th>\n      <th>EmailPromotion</th>\n      <th>AdditionalContactInfo</th>\n      <th>Demographics</th>\n      <th>rowguid</th>\n      <th>ModifiedDate</th>\n    </tr>\n  </thead>\n  <tbody>\n    <tr>\n      <th>0</th>\n      <td>297</td>\n      <td>SC</td>\n      <td>False</td>\n      <td>Sr.</td>\n      <td>Humberto</td>\n      <td>None</td>\n      <td>Acevedo</td>\n      <td>None</td>\n      <td>2</td>\n      <td>&lt;AdditionalContactInfo xmlns=\"http://schemas.m...</td>\n      <td>&lt;IndividualSurvey xmlns=\"http://schemas.micros...</td>\n      <td>5A41D336-84CF-44D7-B12B-83B64B511F7E</td>\n      <td>2015-04-15 16:33:33.090</td>\n    </tr>\n    <tr>\n      <th>1</th>\n      <td>6623</td>\n      <td>IN</td>\n      <td>False</td>\n      <td>None</td>\n      <td>Alberto</td>\n      <td>None</td>\n      <td>Alonso</td>\n      <td>None</td>\n      <td>1</td>\n      <td>None</td>\n      <td>&lt;IndividualSurvey xmlns=\"http://schemas.micros...</td>\n      <td>05D761C9-9BC5-4F36-8A66-84539E759BF8</td>\n      <td>2014-02-12 00:00:00.000</td>\n    </tr>\n    <tr>\n      <th>2</th>\n      <td>14805</td>\n      <td>IN</td>\n      <td>False</td>\n      <td>None</td>\n      <td>Roberto</td>\n      <td>M</td>\n      <td>Alonso</td>\n      <td>None</td>\n      <td>0</td>\n      <td>None</td>\n      <td>&lt;IndividualSurvey xmlns=\"http://schemas.micros...</td>\n      <td>D94A7C58-D9DC-49BF-9691-9FE3C11C9249</td>\n      <td>2014-02-04 00:00:00.000</td>\n    </tr>\n    <tr>\n      <th>3</th>\n      <td>6609</td>\n      <td>IN</td>\n      <td>False</td>\n      <td>None</td>\n      <td>Alberto</td>\n      <td>None</td>\n      <td>Alvarez</td>\n      <td>None</td>\n      <td>2</td>\n      <td>None</td>\n      <td>&lt;IndividualSurvey xmlns=\"http://schemas.micros...</td>\n      <td>7A5A74BC-342B-4E79-9F72-93AA4ECAB8C9</td>\n      <td>2014-01-16 00:00:00.000</td>\n    </tr>\n    <tr>\n      <th>4</th>\n      <td>14791</td>\n      <td>IN</td>\n      <td>False</td>\n      <td>None</td>\n      <td>Roberto</td>\n      <td>None</td>\n      <td>Alvarez</td>\n      <td>None</td>\n      <td>1</td>\n      <td>None</td>\n      <td>&lt;IndividualSurvey xmlns=\"http://schemas.micros...</td>\n      <td>DC17CAF1-9F11-476E-ABFA-0CCCC2976857</td>\n      <td>2014-04-20 00:00:00.000</td>\n    </tr>\n    <tr>\n      <th>5</th>\n      <td>395</td>\n      <td>SC</td>\n      <td>False</td>\n      <td>Mr.</td>\n      <td>Alberto</td>\n      <td>F.</td>\n      <td>Baltazar</td>\n      <td>None</td>\n      <td>0</td>\n      <td>None</td>\n      <td>&lt;IndividualSurvey xmlns=\"http://schemas.micros...</td>\n      <td>B3622F28-96D2-45C4-8310-F9688C6C631F</td>\n      <td>2011-08-01 00:00:00.000</td>\n    </tr>\n    <tr>\n      <th>6</th>\n      <td>6637</td>\n      <td>IN</td>\n      <td>False</td>\n      <td>None</td>\n      <td>Alberto</td>\n      <td>R</td>\n      <td>Blanco</td>\n      <td>None</td>\n      <td>0</td>\n      <td>None</td>\n      <td>&lt;IndividualSurvey xmlns=\"http://schemas.micros...</td>\n      <td>6742A146-F65C-4534-B232-46F6348963E2</td>\n      <td>2014-01-07 00:00:00.000</td>\n    </tr>\n    <tr>\n      <th>7</th>\n      <td>6603</td>\n      <td>IN</td>\n      <td>False</td>\n      <td>None</td>\n      <td>Alberto</td>\n      <td>A</td>\n      <td>Diaz</td>\n      <td>None</td>\n      <td>1</td>\n      <td>None</td>\n      <td>&lt;IndividualSurvey xmlns=\"http://schemas.micros...</td>\n      <td>AC769A5E-C34B-450F-A17B-D1A8685FA836</td>\n      <td>2013-07-25 00:00:00.000</td>\n    </tr>\n    <tr>\n      <th>8</th>\n      <td>14789</td>\n      <td>IN</td>\n      <td>False</td>\n      <td>None</td>\n      <td>Roberto</td>\n      <td>A</td>\n      <td>Diaz</td>\n      <td>None</td>\n      <td>2</td>\n      <td>None</td>\n      <td>&lt;IndividualSurvey xmlns=\"http://schemas.micros...</td>\n      <td>F43AF903-E27B-4B67-A0D3-09F81638991E</td>\n      <td>2012-10-07 00:00:00.000</td>\n    </tr>\n    <tr>\n      <th>9</th>\n      <td>6634</td>\n      <td>IN</td>\n      <td>False</td>\n      <td>None</td>\n      <td>Alberto</td>\n      <td>R</td>\n      <td>Dominguez</td>\n      <td>None</td>\n      <td>1</td>\n      <td>None</td>\n      <td>&lt;IndividualSurvey xmlns=\"http://schemas.micros...</td>\n      <td>F6926C96-712B-4E7E-8544-810F42D2441C</td>\n      <td>2013-07-27 00:00:00.000</td>\n    </tr>\n    <tr>\n      <th>10</th>\n      <td>14816</td>\n      <td>IN</td>\n      <td>False</td>\n      <td>None</td>\n      <td>Roberto</td>\n      <td>A</td>\n      <td>Dominguez</td>\n      <td>None</td>\n      <td>0</td>\n      <td>None</td>\n      <td>&lt;IndividualSurvey xmlns=\"http://schemas.micros...</td>\n      <td>43750EFC-A10B-494F-ACD5-6DC17E53E518</td>\n      <td>2013-03-22 00:00:00.000</td>\n    </tr>\n    <tr>\n      <th>11</th>\n      <td>6635</td>\n      <td>IN</td>\n      <td>False</td>\n      <td>None</td>\n      <td>Alberto</td>\n      <td>P</td>\n      <td>Gill</td>\n      <td>None</td>\n      <td>0</td>\n      <td>None</td>\n      <td>&lt;IndividualSurvey xmlns=\"http://schemas.micros...</td>\n      <td>1182C943-371B-4068-A511-B05FB6B65430</td>\n      <td>2011-09-12 00:00:00.000</td>\n    </tr>\n    <tr>\n      <th>12</th>\n      <td>14817</td>\n      <td>IN</td>\n      <td>False</td>\n      <td>None</td>\n      <td>Roberto</td>\n      <td>W</td>\n      <td>Gill</td>\n      <td>None</td>\n      <td>2</td>\n      <td>None</td>\n      <td>&lt;IndividualSurvey xmlns=\"http://schemas.micros...</td>\n      <td>FAD83E4C-C316-46D8-B6B4-063905ADA57B</td>\n      <td>2013-01-12 00:00:00.000</td>\n    </tr>\n    <tr>\n      <th>13</th>\n      <td>6600</td>\n      <td>IN</td>\n      <td>False</td>\n      <td>None</td>\n      <td>Alberto</td>\n      <td>None</td>\n      <td>Gomez</td>\n      <td>None</td>\n      <td>1</td>\n      <td>None</td>\n      <td>&lt;IndividualSurvey xmlns=\"http://schemas.micros...</td>\n      <td>D6811C04-AD6C-41FD-91A5-851EBC209F2D</td>\n      <td>2014-06-27 00:00:00.000</td>\n    </tr>\n    <tr>\n      <th>14</th>\n      <td>6628</td>\n      <td>IN</td>\n      <td>False</td>\n      <td>None</td>\n      <td>Alberto</td>\n      <td>R</td>\n      <td>Gutierrez</td>\n      <td>None</td>\n      <td>0</td>\n      <td>None</td>\n      <td>&lt;IndividualSurvey xmlns=\"http://schemas.micros...</td>\n      <td>773CF5A9-92BE-48BB-A92A-339093878B2D</td>\n      <td>2013-07-16 00:00:00.000</td>\n    </tr>\n    <tr>\n      <th>15</th>\n      <td>14813</td>\n      <td>IN</td>\n      <td>False</td>\n      <td>None</td>\n      <td>Roberto</td>\n      <td>None</td>\n      <td>Gutierrez</td>\n      <td>None</td>\n      <td>1</td>\n      <td>None</td>\n      <td>&lt;IndividualSurvey xmlns=\"http://schemas.micros...</td>\n      <td>E6A99B40-BE61-486F-9C77-6CB9FECEE859</td>\n      <td>2014-02-26 00:00:00.000</td>\n    </tr>\n    <tr>\n      <th>16</th>\n      <td>6607</td>\n      <td>IN</td>\n      <td>False</td>\n      <td>None</td>\n      <td>Alberto</td>\n      <td>D</td>\n      <td>Hernandez</td>\n      <td>None</td>\n      <td>0</td>\n      <td>None</td>\n      <td>&lt;IndividualSurvey xmlns=\"http://schemas.micros...</td>\n      <td>51A5A418-A316-427F-8348-8EA8E6825E12</td>\n      <td>2013-01-06 00:00:00.000</td>\n    </tr>\n    <tr>\n      <th>17</th>\n      <td>14790</td>\n      <td>IN</td>\n      <td>False</td>\n      <td>None</td>\n      <td>Roberto</td>\n      <td>None</td>\n      <td>Hernandez</td>\n      <td>None</td>\n      <td>2</td>\n      <td>None</td>\n      <td>&lt;IndividualSurvey xmlns=\"http://schemas.micros...</td>\n      <td>6E60E8B9-C79B-4742-9B50-40D41C375584</td>\n      <td>2013-08-15 00:00:00.000</td>\n    </tr>\n    <tr>\n      <th>18</th>\n      <td>6611</td>\n      <td>IN</td>\n      <td>False</td>\n      <td>None</td>\n      <td>Alberto</td>\n      <td>C</td>\n      <td>Jiménez</td>\n      <td>None</td>\n      <td>2</td>\n      <td>None</td>\n      <td>&lt;IndividualSurvey xmlns=\"http://schemas.micros...</td>\n      <td>B4E2828B-A107-46FF-826B-16B1A31008E5</td>\n      <td>2013-04-17 00:00:00.000</td>\n    </tr>\n    <tr>\n      <th>19</th>\n      <td>14796</td>\n      <td>IN</td>\n      <td>False</td>\n      <td>None</td>\n      <td>Roberto</td>\n      <td>D</td>\n      <td>Jiménez</td>\n      <td>None</td>\n      <td>2</td>\n      <td>None</td>\n      <td>&lt;IndividualSurvey xmlns=\"http://schemas.micros...</td>\n      <td>7E896603-9FB4-4C7C-802D-25BF48A85C15</td>\n      <td>2013-08-17 00:00:00.000</td>\n    </tr>\n    <tr>\n      <th>20</th>\n      <td>14201</td>\n      <td>IN</td>\n      <td>False</td>\n      <td>None</td>\n      <td>Masato</td>\n      <td>None</td>\n      <td>Kawai</td>\n      <td>None</td>\n      <td>1</td>\n      <td>None</td>\n      <td>&lt;IndividualSurvey xmlns=\"http://schemas.micros...</td>\n      <td>D8ACA3B9-C4E2-411C-ABD3-C064E12F1E61</td>\n      <td>2014-01-13 00:00:00.000</td>\n    </tr>\n    <tr>\n      <th>21</th>\n      <td>6598</td>\n      <td>IN</td>\n      <td>False</td>\n      <td>None</td>\n      <td>Alberto</td>\n      <td>R</td>\n      <td>Martin</td>\n      <td>None</td>\n      <td>0</td>\n      <td>None</td>\n      <td>&lt;IndividualSurvey xmlns=\"http://schemas.micros...</td>\n      <td>93F1371F-03C2-427A-BD79-43D36DEAF164</td>\n      <td>2013-09-17 00:00:00.000</td>\n    </tr>\n    <tr>\n      <th>22</th>\n      <td>14800</td>\n      <td>IN</td>\n      <td>False</td>\n      <td>None</td>\n      <td>Roberto</td>\n      <td>R</td>\n      <td>Moreno</td>\n      <td>None</td>\n      <td>2</td>\n      <td>None</td>\n      <td>&lt;IndividualSurvey xmlns=\"http://schemas.micros...</td>\n      <td>6E46056F-DB36-48CE-A5D7-F8805BCA4CF5</td>\n      <td>2012-06-01 00:00:00.000</td>\n    </tr>\n    <tr>\n      <th>23</th>\n      <td>14802</td>\n      <td>IN</td>\n      <td>False</td>\n      <td>None</td>\n      <td>Roberto</td>\n      <td>None</td>\n      <td>Munoz</td>\n      <td>None</td>\n      <td>1</td>\n      <td>None</td>\n      <td>&lt;IndividualSurvey xmlns=\"http://schemas.micros...</td>\n      <td>86322156-911B-4E31-9570-89021159C52D</td>\n      <td>2013-07-10 00:00:00.000</td>\n    </tr>\n    <tr>\n      <th>24</th>\n      <td>6618</td>\n      <td>IN</td>\n      <td>False</td>\n      <td>None</td>\n      <td>Alberto</td>\n      <td>J</td>\n      <td>Muñoz</td>\n      <td>None</td>\n      <td>0</td>\n      <td>None</td>\n      <td>&lt;IndividualSurvey xmlns=\"http://schemas.micros...</td>\n      <td>EB4E0072-A112-47CD-BC31-7675E0B34F47</td>\n      <td>2014-01-17 00:00:00.000</td>\n    </tr>\n    <tr>\n      <th>25</th>\n      <td>6627</td>\n      <td>IN</td>\n      <td>False</td>\n      <td>None</td>\n      <td>Alberto</td>\n      <td>C</td>\n      <td>Navarro</td>\n      <td>None</td>\n      <td>0</td>\n      <td>None</td>\n      <td>&lt;IndividualSurvey xmlns=\"http://schemas.micros...</td>\n      <td>8DB02B42-1E58-46F7-9098-FCA9715560EA</td>\n      <td>2012-02-13 00:00:00.000</td>\n    </tr>\n    <tr>\n      <th>26</th>\n      <td>14812</td>\n      <td>IN</td>\n      <td>False</td>\n      <td>None</td>\n      <td>Roberto</td>\n      <td>None</td>\n      <td>Navarro</td>\n      <td>None</td>\n      <td>1</td>\n      <td>None</td>\n      <td>&lt;IndividualSurvey xmlns=\"http://schemas.micros...</td>\n      <td>F5F3CCF8-64F1-4718-9728-4522D7AA1EAF</td>\n      <td>2014-05-30 00:00:00.000</td>\n    </tr>\n    <tr>\n      <th>27</th>\n      <td>6650</td>\n      <td>IN</td>\n      <td>False</td>\n      <td>None</td>\n      <td>Alberto</td>\n      <td>None</td>\n      <td>Ortega</td>\n      <td>None</td>\n      <td>1</td>\n      <td>None</td>\n      <td>&lt;IndividualSurvey xmlns=\"http://schemas.micros...</td>\n      <td>7C81003B-8FDC-444A-996F-ACF81EFAC4B5</td>\n      <td>2013-05-15 00:00:00.000</td>\n    </tr>\n    <tr>\n      <th>28</th>\n      <td>14837</td>\n      <td>IN</td>\n      <td>False</td>\n      <td>None</td>\n      <td>Roberto</td>\n      <td>R</td>\n      <td>Ortega</td>\n      <td>None</td>\n      <td>0</td>\n      <td>None</td>\n      <td>&lt;IndividualSurvey xmlns=\"http://schemas.micros...</td>\n      <td>2B12D1D2-9865-4A28-B5D7-EA8CD2365BF7</td>\n      <td>2013-11-16 00:00:00.000</td>\n    </tr>\n    <tr>\n      <th>29</th>\n      <td>6640</td>\n      <td>IN</td>\n      <td>False</td>\n      <td>None</td>\n      <td>Alberto</td>\n      <td>None</td>\n      <td>Ramos</td>\n      <td>None</td>\n      <td>0</td>\n      <td>None</td>\n      <td>&lt;IndividualSurvey xmlns=\"http://schemas.micros...</td>\n      <td>239DC95A-BD4C-46D5-8209-34FEAE95ABAA</td>\n      <td>2012-08-23 00:00:00.000</td>\n    </tr>\n    <tr>\n      <th>30</th>\n      <td>14824</td>\n      <td>IN</td>\n      <td>False</td>\n      <td>None</td>\n      <td>Roberto</td>\n      <td>M</td>\n      <td>Ramos</td>\n      <td>None</td>\n      <td>2</td>\n      <td>None</td>\n      <td>&lt;IndividualSurvey xmlns=\"http://schemas.micros...</td>\n      <td>9AD91C2B-639C-45A8-AC9D-7393B882F7DB</td>\n      <td>2013-12-27 00:00:00.000</td>\n    </tr>\n    <tr>\n      <th>31</th>\n      <td>6624</td>\n      <td>IN</td>\n      <td>False</td>\n      <td>None</td>\n      <td>Alberto</td>\n      <td>None</td>\n      <td>Romero</td>\n      <td>None</td>\n      <td>1</td>\n      <td>None</td>\n      <td>&lt;IndividualSurvey xmlns=\"http://schemas.micros...</td>\n      <td>760F804A-4B58-4D9E-8337-DBE738F33D2D</td>\n      <td>2014-03-30 00:00:00.000</td>\n    </tr>\n    <tr>\n      <th>32</th>\n      <td>14810</td>\n      <td>IN</td>\n      <td>False</td>\n      <td>None</td>\n      <td>Roberto</td>\n      <td>A</td>\n      <td>Romero</td>\n      <td>None</td>\n      <td>2</td>\n      <td>None</td>\n      <td>&lt;IndividualSurvey xmlns=\"http://schemas.micros...</td>\n      <td>B49CBBA7-238F-42D9-85A8-974A4256CCDF</td>\n      <td>2013-09-01 00:00:00.000</td>\n    </tr>\n    <tr>\n      <th>33</th>\n      <td>6647</td>\n      <td>IN</td>\n      <td>False</td>\n      <td>None</td>\n      <td>Alberto</td>\n      <td>W</td>\n      <td>Rowe</td>\n      <td>None</td>\n      <td>0</td>\n      <td>None</td>\n      <td>&lt;IndividualSurvey xmlns=\"http://schemas.micros...</td>\n      <td>7D270918-E6EB-47A5-B62B-055594AD51A7</td>\n      <td>2013-10-12 00:00:00.000</td>\n    </tr>\n    <tr>\n      <th>34</th>\n      <td>14834</td>\n      <td>IN</td>\n      <td>False</td>\n      <td>None</td>\n      <td>Roberto</td>\n      <td>L</td>\n      <td>Rubio</td>\n      <td>None</td>\n      <td>0</td>\n      <td>None</td>\n      <td>&lt;IndividualSurvey xmlns=\"http://schemas.micros...</td>\n      <td>D280BE1D-477C-446C-AFAE-987C345B45D7</td>\n      <td>2013-08-13 00:00:00.000</td>\n    </tr>\n    <tr>\n      <th>35</th>\n      <td>6602</td>\n      <td>IN</td>\n      <td>False</td>\n      <td>None</td>\n      <td>Alberto</td>\n      <td>L</td>\n      <td>Ruiz</td>\n      <td>None</td>\n      <td>0</td>\n      <td>None</td>\n      <td>&lt;IndividualSurvey xmlns=\"http://schemas.micros...</td>\n      <td>DFE61F1C-11F0-445E-AF56-BA9194A49F20</td>\n      <td>2014-04-17 00:00:00.000</td>\n    </tr>\n    <tr>\n      <th>36</th>\n      <td>14787</td>\n      <td>IN</td>\n      <td>False</td>\n      <td>None</td>\n      <td>Roberto</td>\n      <td>None</td>\n      <td>Ruiz</td>\n      <td>None</td>\n      <td>1</td>\n      <td>None</td>\n      <td>&lt;IndividualSurvey xmlns=\"http://schemas.micros...</td>\n      <td>A509A6B0-6929-48A8-9455-CB1CB8369366</td>\n      <td>2013-04-04 00:00:00.000</td>\n    </tr>\n    <tr>\n      <th>37</th>\n      <td>6646</td>\n      <td>IN</td>\n      <td>False</td>\n      <td>None</td>\n      <td>Alberto</td>\n      <td>M</td>\n      <td>Sanz</td>\n      <td>None</td>\n      <td>1</td>\n      <td>None</td>\n      <td>&lt;IndividualSurvey xmlns=\"http://schemas.micros...</td>\n      <td>85D0DC52-CE37-4327-849B-3C41BB22EA66</td>\n      <td>2013-11-28 00:00:00.000</td>\n    </tr>\n    <tr>\n      <th>38</th>\n      <td>14832</td>\n      <td>IN</td>\n      <td>False</td>\n      <td>None</td>\n      <td>Roberto</td>\n      <td>None</td>\n      <td>Sanz</td>\n      <td>None</td>\n      <td>0</td>\n      <td>None</td>\n      <td>&lt;IndividualSurvey xmlns=\"http://schemas.micros...</td>\n      <td>104E23DF-90DF-4D98-AEE0-69CCF47C1168</td>\n      <td>2012-01-27 00:00:00.000</td>\n    </tr>\n    <tr>\n      <th>39</th>\n      <td>6638</td>\n      <td>IN</td>\n      <td>False</td>\n      <td>None</td>\n      <td>Alberto</td>\n      <td>L</td>\n      <td>Serrano</td>\n      <td>None</td>\n      <td>0</td>\n      <td>None</td>\n      <td>&lt;IndividualSurvey xmlns=\"http://schemas.micros...</td>\n      <td>6D704D0B-387A-4162-880B-7C3429E0F280</td>\n      <td>2013-05-01 00:00:00.000</td>\n    </tr>\n    <tr>\n      <th>40</th>\n      <td>6644</td>\n      <td>IN</td>\n      <td>False</td>\n      <td>None</td>\n      <td>Alberto</td>\n      <td>G</td>\n      <td>Suarez</td>\n      <td>None</td>\n      <td>2</td>\n      <td>None</td>\n      <td>&lt;IndividualSurvey xmlns=\"http://schemas.micros...</td>\n      <td>DA99E1FB-7BC0-4DF5-B17E-D73478B6538F</td>\n      <td>2013-09-06 00:00:00.000</td>\n    </tr>\n    <tr>\n      <th>41</th>\n      <td>14828</td>\n      <td>IN</td>\n      <td>False</td>\n      <td>None</td>\n      <td>Roberto</td>\n      <td>D</td>\n      <td>Suarez</td>\n      <td>None</td>\n      <td>2</td>\n      <td>None</td>\n      <td>&lt;IndividualSurvey xmlns=\"http://schemas.micros...</td>\n      <td>14FDAB33-CB90-4D02-BD79-0AA586995065</td>\n      <td>2013-09-15 00:00:00.000</td>\n    </tr>\n    <tr>\n      <th>42</th>\n      <td>3</td>\n      <td>EM</td>\n      <td>False</td>\n      <td>None</td>\n      <td>Roberto</td>\n      <td>None</td>\n      <td>Tamburello</td>\n      <td>None</td>\n      <td>0</td>\n      <td>None</td>\n      <td>&lt;IndividualSurvey xmlns=\"http://schemas.micros...</td>\n      <td>E1A2555E-0828-434B-A33B-6F38136A37DE</td>\n      <td>2007-11-04 00:00:00.000</td>\n    </tr>\n    <tr>\n      <th>43</th>\n      <td>14815</td>\n      <td>IN</td>\n      <td>False</td>\n      <td>None</td>\n      <td>Roberto</td>\n      <td>None</td>\n      <td>Townsend</td>\n      <td>None</td>\n      <td>1</td>\n      <td>None</td>\n      <td>&lt;IndividualSurvey xmlns=\"http://schemas.micros...</td>\n      <td>F812BBA0-7D8E-4005-9D99-EEB54A37FBB3</td>\n      <td>2012-11-27 00:00:00.000</td>\n    </tr>\n    <tr>\n      <th>44</th>\n      <td>14820</td>\n      <td>IN</td>\n      <td>False</td>\n      <td>None</td>\n      <td>Roberto</td>\n      <td>A</td>\n      <td>Vazquez</td>\n      <td>None</td>\n      <td>0</td>\n      <td>None</td>\n      <td>&lt;IndividualSurvey xmlns=\"http://schemas.micros...</td>\n      <td>D399B8B6-FC1E-427B-B595-257469A2BFC8</td>\n      <td>2013-01-24 00:00:00.000</td>\n    </tr>\n  </tbody>\n</table>\n</div>"
          },
          "metadata": {},
          "execution_count": 23
        }
      ]
    },
    {
      "cell_type": "code",
      "metadata": {
        "id": "mXV_QRfDyqIh",
        "outputId": "c257c0b4-aa8a-4549-f967-48f82a124e36"
      },
      "source": [
        "query = \"\"\"\n",
        "        SELECT *\n",
        "        FROM person.Person\n",
        "        WHERE FirstName LIKE '%essa%';\n",
        "        \"\"\"\n",
        "pd.read_sql(query, conn)"
      ],
      "execution_count": 24,
      "outputs": [
        {
          "output_type": "execute_result",
          "data": {
            "text/plain": [
              "    BusinessEntityID PersonType  NameStyle Title FirstName MiddleName  \\\n",
              "0               7396         IN      False  None   Vanessa       None   \n",
              "1               7421         IN      False  None   Vanessa       None   \n",
              "2               7413         IN      False  None   Vanessa       None   \n",
              "3               7400         IN      False  None   Vanessa       None   \n",
              "4               7427         IN      False  None   Vanessa          J   \n",
              "5               7409         IN      False  None   Vanessa       None   \n",
              "6               7417         IN      False  None   Vanessa       None   \n",
              "7               7418         IN      False  None   Vanessa       None   \n",
              "8               7426         IN      False  None   Vanessa       None   \n",
              "9               7428         IN      False  None   Vanessa       None   \n",
              "10              7399         IN      False  None   Vanessa       None   \n",
              "11              7408         IN      False  None   Vanessa          S   \n",
              "12              7401         IN      False  None   Vanessa       None   \n",
              "13              7405         IN      False  None   Vanessa          R   \n",
              "14              7406         IN      False  None   Vanessa          B   \n",
              "15              7403         IN      False  None   Vanessa       None   \n",
              "16              7404         IN      False  None   Vanessa       None   \n",
              "17              7392         IN      False  None   Vanessa          A   \n",
              "18              7397         IN      False  None   Vanessa       None   \n",
              "19              7422         IN      False  None   Vanessa          M   \n",
              "20              7414         IN      False  None   Vanessa          J   \n",
              "21              1873         SC      False   Ms.   Vanessa         J.   \n",
              "22              7410         IN      False  None   Vanessa       None   \n",
              "23              7395         IN      False  None   Vanessa          V   \n",
              "\n",
              "      LastName Suffix  EmailPromotion AdditionalContactInfo  \\\n",
              "0       Barnes   None               0                  None   \n",
              "1       Bryant   None               0                  None   \n",
              "2       Butler   None               0                  None   \n",
              "3      Coleman   None               2                  None   \n",
              "4         Diaz   None               0                  None   \n",
              "5       Flores   None               0                  None   \n",
              "6       Foster   None               0                  None   \n",
              "7     Gonzales   None               2                  None   \n",
              "8      Griffin   None               0                  None   \n",
              "9        Hayes   None               0                  None   \n",
              "10   Henderson   None               0                  None   \n",
              "11      Hughes   None               2                  None   \n",
              "12     Jenkins   None               0                  None   \n",
              "13        Long   None               0                  None   \n",
              "14   Patterson   None               0                  None   \n",
              "15       Perry   None               1                  None   \n",
              "16      Powell   None               2                  None   \n",
              "17       Price   None               0                  None   \n",
              "18        Ross   None               1                  None   \n",
              "19     Russell   None               0                  None   \n",
              "20     Simmons   None               0                  None   \n",
              "21       Tench   None               2                  None   \n",
              "22  Washington   None               0                  None   \n",
              "23        Wood   None               0                  None   \n",
              "\n",
              "                                         Demographics  \\\n",
              "0   <IndividualSurvey xmlns=\"http://schemas.micros...   \n",
              "1   <IndividualSurvey xmlns=\"http://schemas.micros...   \n",
              "2   <IndividualSurvey xmlns=\"http://schemas.micros...   \n",
              "3   <IndividualSurvey xmlns=\"http://schemas.micros...   \n",
              "4   <IndividualSurvey xmlns=\"http://schemas.micros...   \n",
              "5   <IndividualSurvey xmlns=\"http://schemas.micros...   \n",
              "6   <IndividualSurvey xmlns=\"http://schemas.micros...   \n",
              "7   <IndividualSurvey xmlns=\"http://schemas.micros...   \n",
              "8   <IndividualSurvey xmlns=\"http://schemas.micros...   \n",
              "9   <IndividualSurvey xmlns=\"http://schemas.micros...   \n",
              "10  <IndividualSurvey xmlns=\"http://schemas.micros...   \n",
              "11  <IndividualSurvey xmlns=\"http://schemas.micros...   \n",
              "12  <IndividualSurvey xmlns=\"http://schemas.micros...   \n",
              "13  <IndividualSurvey xmlns=\"http://schemas.micros...   \n",
              "14  <IndividualSurvey xmlns=\"http://schemas.micros...   \n",
              "15  <IndividualSurvey xmlns=\"http://schemas.micros...   \n",
              "16  <IndividualSurvey xmlns=\"http://schemas.micros...   \n",
              "17  <IndividualSurvey xmlns=\"http://schemas.micros...   \n",
              "18  <IndividualSurvey xmlns=\"http://schemas.micros...   \n",
              "19  <IndividualSurvey xmlns=\"http://schemas.micros...   \n",
              "20  <IndividualSurvey xmlns=\"http://schemas.micros...   \n",
              "21  <IndividualSurvey xmlns=\"http://schemas.micros...   \n",
              "22  <IndividualSurvey xmlns=\"http://schemas.micros...   \n",
              "23  <IndividualSurvey xmlns=\"http://schemas.micros...   \n",
              "\n",
              "                                 rowguid ModifiedDate  \n",
              "0   BD180A71-6428-48E5-A40C-B942BA030265   2014-05-21  \n",
              "1   81525463-0325-41F8-A3B4-0E9809139820   2012-06-01  \n",
              "2   91B951CB-5389-4121-8BDD-EDD74E1507CF   2014-01-14  \n",
              "3   347BCAB0-1678-4B7A-8451-85A395CE93D1   2013-03-01  \n",
              "4   B327E0B6-EFBC-4A1B-A99F-D8437E2CD836   2014-05-01  \n",
              "5   09EA59E8-D277-4162-8511-062447189F6E   2014-02-06  \n",
              "6   DFE6A801-0D2D-4AD2-8F3F-20B5844F2C90   2013-09-04  \n",
              "7   CEF2747A-5BC1-457A-9BA2-93EEC66E2C26   2013-07-27  \n",
              "8   19FB2FA9-37CF-4DB7-A328-968A1EE84F87   2014-03-07  \n",
              "9   71D8DBB6-4BD0-4DCB-B82E-B7380B5DBE55   2014-05-05  \n",
              "10  8319E1B8-7AEC-4AE3-B0C7-3429FA02E17C   2011-07-27  \n",
              "11  C428EB9A-8E56-4DF9-918F-2D6BDE581AF2   2014-05-21  \n",
              "12  6D216195-ABC2-4C45-A24B-3B8ADD12A455   2013-12-24  \n",
              "13  F1B283DA-569F-4854-BC8C-5170906AFE46   2013-07-20  \n",
              "14  B1F28F19-05D4-4CE7-9266-DE3D45B00E27   2014-03-06  \n",
              "15  B826B1B7-30F3-4706-A7B4-203D1678C560   2014-04-07  \n",
              "16  FEFF82E8-9AC5-4CDB-99C6-7AEB64B09D9E   2011-09-21  \n",
              "17  5F755C55-7D2D-4C6D-9062-18D68C520226   2013-12-19  \n",
              "18  9581DCF6-E67C-4554-A77D-0AA7C02D75A5   2012-07-27  \n",
              "19  9DE18555-09FC-4D17-9D14-AF9020756F63   2012-05-22  \n",
              "20  0D3B409D-0340-4484-95C2-A1F70262A522   2012-06-25  \n",
              "21  8A9EA10E-D7AD-4710-83D6-8F456AF7F994   2013-06-30  \n",
              "22  774138BF-56DE-4DDD-8826-FEF7DCEDA8E2   2012-03-15  \n",
              "23  62622DBE-C2B7-4EC0-A090-426A8DF9A5BE   2014-02-02  "
            ],
            "text/html": "<div>\n<style scoped>\n    .dataframe tbody tr th:only-of-type {\n        vertical-align: middle;\n    }\n\n    .dataframe tbody tr th {\n        vertical-align: top;\n    }\n\n    .dataframe thead th {\n        text-align: right;\n    }\n</style>\n<table border=\"1\" class=\"dataframe\">\n  <thead>\n    <tr style=\"text-align: right;\">\n      <th></th>\n      <th>BusinessEntityID</th>\n      <th>PersonType</th>\n      <th>NameStyle</th>\n      <th>Title</th>\n      <th>FirstName</th>\n      <th>MiddleName</th>\n      <th>LastName</th>\n      <th>Suffix</th>\n      <th>EmailPromotion</th>\n      <th>AdditionalContactInfo</th>\n      <th>Demographics</th>\n      <th>rowguid</th>\n      <th>ModifiedDate</th>\n    </tr>\n  </thead>\n  <tbody>\n    <tr>\n      <th>0</th>\n      <td>7396</td>\n      <td>IN</td>\n      <td>False</td>\n      <td>None</td>\n      <td>Vanessa</td>\n      <td>None</td>\n      <td>Barnes</td>\n      <td>None</td>\n      <td>0</td>\n      <td>None</td>\n      <td>&lt;IndividualSurvey xmlns=\"http://schemas.micros...</td>\n      <td>BD180A71-6428-48E5-A40C-B942BA030265</td>\n      <td>2014-05-21</td>\n    </tr>\n    <tr>\n      <th>1</th>\n      <td>7421</td>\n      <td>IN</td>\n      <td>False</td>\n      <td>None</td>\n      <td>Vanessa</td>\n      <td>None</td>\n      <td>Bryant</td>\n      <td>None</td>\n      <td>0</td>\n      <td>None</td>\n      <td>&lt;IndividualSurvey xmlns=\"http://schemas.micros...</td>\n      <td>81525463-0325-41F8-A3B4-0E9809139820</td>\n      <td>2012-06-01</td>\n    </tr>\n    <tr>\n      <th>2</th>\n      <td>7413</td>\n      <td>IN</td>\n      <td>False</td>\n      <td>None</td>\n      <td>Vanessa</td>\n      <td>None</td>\n      <td>Butler</td>\n      <td>None</td>\n      <td>0</td>\n      <td>None</td>\n      <td>&lt;IndividualSurvey xmlns=\"http://schemas.micros...</td>\n      <td>91B951CB-5389-4121-8BDD-EDD74E1507CF</td>\n      <td>2014-01-14</td>\n    </tr>\n    <tr>\n      <th>3</th>\n      <td>7400</td>\n      <td>IN</td>\n      <td>False</td>\n      <td>None</td>\n      <td>Vanessa</td>\n      <td>None</td>\n      <td>Coleman</td>\n      <td>None</td>\n      <td>2</td>\n      <td>None</td>\n      <td>&lt;IndividualSurvey xmlns=\"http://schemas.micros...</td>\n      <td>347BCAB0-1678-4B7A-8451-85A395CE93D1</td>\n      <td>2013-03-01</td>\n    </tr>\n    <tr>\n      <th>4</th>\n      <td>7427</td>\n      <td>IN</td>\n      <td>False</td>\n      <td>None</td>\n      <td>Vanessa</td>\n      <td>J</td>\n      <td>Diaz</td>\n      <td>None</td>\n      <td>0</td>\n      <td>None</td>\n      <td>&lt;IndividualSurvey xmlns=\"http://schemas.micros...</td>\n      <td>B327E0B6-EFBC-4A1B-A99F-D8437E2CD836</td>\n      <td>2014-05-01</td>\n    </tr>\n    <tr>\n      <th>5</th>\n      <td>7409</td>\n      <td>IN</td>\n      <td>False</td>\n      <td>None</td>\n      <td>Vanessa</td>\n      <td>None</td>\n      <td>Flores</td>\n      <td>None</td>\n      <td>0</td>\n      <td>None</td>\n      <td>&lt;IndividualSurvey xmlns=\"http://schemas.micros...</td>\n      <td>09EA59E8-D277-4162-8511-062447189F6E</td>\n      <td>2014-02-06</td>\n    </tr>\n    <tr>\n      <th>6</th>\n      <td>7417</td>\n      <td>IN</td>\n      <td>False</td>\n      <td>None</td>\n      <td>Vanessa</td>\n      <td>None</td>\n      <td>Foster</td>\n      <td>None</td>\n      <td>0</td>\n      <td>None</td>\n      <td>&lt;IndividualSurvey xmlns=\"http://schemas.micros...</td>\n      <td>DFE6A801-0D2D-4AD2-8F3F-20B5844F2C90</td>\n      <td>2013-09-04</td>\n    </tr>\n    <tr>\n      <th>7</th>\n      <td>7418</td>\n      <td>IN</td>\n      <td>False</td>\n      <td>None</td>\n      <td>Vanessa</td>\n      <td>None</td>\n      <td>Gonzales</td>\n      <td>None</td>\n      <td>2</td>\n      <td>None</td>\n      <td>&lt;IndividualSurvey xmlns=\"http://schemas.micros...</td>\n      <td>CEF2747A-5BC1-457A-9BA2-93EEC66E2C26</td>\n      <td>2013-07-27</td>\n    </tr>\n    <tr>\n      <th>8</th>\n      <td>7426</td>\n      <td>IN</td>\n      <td>False</td>\n      <td>None</td>\n      <td>Vanessa</td>\n      <td>None</td>\n      <td>Griffin</td>\n      <td>None</td>\n      <td>0</td>\n      <td>None</td>\n      <td>&lt;IndividualSurvey xmlns=\"http://schemas.micros...</td>\n      <td>19FB2FA9-37CF-4DB7-A328-968A1EE84F87</td>\n      <td>2014-03-07</td>\n    </tr>\n    <tr>\n      <th>9</th>\n      <td>7428</td>\n      <td>IN</td>\n      <td>False</td>\n      <td>None</td>\n      <td>Vanessa</td>\n      <td>None</td>\n      <td>Hayes</td>\n      <td>None</td>\n      <td>0</td>\n      <td>None</td>\n      <td>&lt;IndividualSurvey xmlns=\"http://schemas.micros...</td>\n      <td>71D8DBB6-4BD0-4DCB-B82E-B7380B5DBE55</td>\n      <td>2014-05-05</td>\n    </tr>\n    <tr>\n      <th>10</th>\n      <td>7399</td>\n      <td>IN</td>\n      <td>False</td>\n      <td>None</td>\n      <td>Vanessa</td>\n      <td>None</td>\n      <td>Henderson</td>\n      <td>None</td>\n      <td>0</td>\n      <td>None</td>\n      <td>&lt;IndividualSurvey xmlns=\"http://schemas.micros...</td>\n      <td>8319E1B8-7AEC-4AE3-B0C7-3429FA02E17C</td>\n      <td>2011-07-27</td>\n    </tr>\n    <tr>\n      <th>11</th>\n      <td>7408</td>\n      <td>IN</td>\n      <td>False</td>\n      <td>None</td>\n      <td>Vanessa</td>\n      <td>S</td>\n      <td>Hughes</td>\n      <td>None</td>\n      <td>2</td>\n      <td>None</td>\n      <td>&lt;IndividualSurvey xmlns=\"http://schemas.micros...</td>\n      <td>C428EB9A-8E56-4DF9-918F-2D6BDE581AF2</td>\n      <td>2014-05-21</td>\n    </tr>\n    <tr>\n      <th>12</th>\n      <td>7401</td>\n      <td>IN</td>\n      <td>False</td>\n      <td>None</td>\n      <td>Vanessa</td>\n      <td>None</td>\n      <td>Jenkins</td>\n      <td>None</td>\n      <td>0</td>\n      <td>None</td>\n      <td>&lt;IndividualSurvey xmlns=\"http://schemas.micros...</td>\n      <td>6D216195-ABC2-4C45-A24B-3B8ADD12A455</td>\n      <td>2013-12-24</td>\n    </tr>\n    <tr>\n      <th>13</th>\n      <td>7405</td>\n      <td>IN</td>\n      <td>False</td>\n      <td>None</td>\n      <td>Vanessa</td>\n      <td>R</td>\n      <td>Long</td>\n      <td>None</td>\n      <td>0</td>\n      <td>None</td>\n      <td>&lt;IndividualSurvey xmlns=\"http://schemas.micros...</td>\n      <td>F1B283DA-569F-4854-BC8C-5170906AFE46</td>\n      <td>2013-07-20</td>\n    </tr>\n    <tr>\n      <th>14</th>\n      <td>7406</td>\n      <td>IN</td>\n      <td>False</td>\n      <td>None</td>\n      <td>Vanessa</td>\n      <td>B</td>\n      <td>Patterson</td>\n      <td>None</td>\n      <td>0</td>\n      <td>None</td>\n      <td>&lt;IndividualSurvey xmlns=\"http://schemas.micros...</td>\n      <td>B1F28F19-05D4-4CE7-9266-DE3D45B00E27</td>\n      <td>2014-03-06</td>\n    </tr>\n    <tr>\n      <th>15</th>\n      <td>7403</td>\n      <td>IN</td>\n      <td>False</td>\n      <td>None</td>\n      <td>Vanessa</td>\n      <td>None</td>\n      <td>Perry</td>\n      <td>None</td>\n      <td>1</td>\n      <td>None</td>\n      <td>&lt;IndividualSurvey xmlns=\"http://schemas.micros...</td>\n      <td>B826B1B7-30F3-4706-A7B4-203D1678C560</td>\n      <td>2014-04-07</td>\n    </tr>\n    <tr>\n      <th>16</th>\n      <td>7404</td>\n      <td>IN</td>\n      <td>False</td>\n      <td>None</td>\n      <td>Vanessa</td>\n      <td>None</td>\n      <td>Powell</td>\n      <td>None</td>\n      <td>2</td>\n      <td>None</td>\n      <td>&lt;IndividualSurvey xmlns=\"http://schemas.micros...</td>\n      <td>FEFF82E8-9AC5-4CDB-99C6-7AEB64B09D9E</td>\n      <td>2011-09-21</td>\n    </tr>\n    <tr>\n      <th>17</th>\n      <td>7392</td>\n      <td>IN</td>\n      <td>False</td>\n      <td>None</td>\n      <td>Vanessa</td>\n      <td>A</td>\n      <td>Price</td>\n      <td>None</td>\n      <td>0</td>\n      <td>None</td>\n      <td>&lt;IndividualSurvey xmlns=\"http://schemas.micros...</td>\n      <td>5F755C55-7D2D-4C6D-9062-18D68C520226</td>\n      <td>2013-12-19</td>\n    </tr>\n    <tr>\n      <th>18</th>\n      <td>7397</td>\n      <td>IN</td>\n      <td>False</td>\n      <td>None</td>\n      <td>Vanessa</td>\n      <td>None</td>\n      <td>Ross</td>\n      <td>None</td>\n      <td>1</td>\n      <td>None</td>\n      <td>&lt;IndividualSurvey xmlns=\"http://schemas.micros...</td>\n      <td>9581DCF6-E67C-4554-A77D-0AA7C02D75A5</td>\n      <td>2012-07-27</td>\n    </tr>\n    <tr>\n      <th>19</th>\n      <td>7422</td>\n      <td>IN</td>\n      <td>False</td>\n      <td>None</td>\n      <td>Vanessa</td>\n      <td>M</td>\n      <td>Russell</td>\n      <td>None</td>\n      <td>0</td>\n      <td>None</td>\n      <td>&lt;IndividualSurvey xmlns=\"http://schemas.micros...</td>\n      <td>9DE18555-09FC-4D17-9D14-AF9020756F63</td>\n      <td>2012-05-22</td>\n    </tr>\n    <tr>\n      <th>20</th>\n      <td>7414</td>\n      <td>IN</td>\n      <td>False</td>\n      <td>None</td>\n      <td>Vanessa</td>\n      <td>J</td>\n      <td>Simmons</td>\n      <td>None</td>\n      <td>0</td>\n      <td>None</td>\n      <td>&lt;IndividualSurvey xmlns=\"http://schemas.micros...</td>\n      <td>0D3B409D-0340-4484-95C2-A1F70262A522</td>\n      <td>2012-06-25</td>\n    </tr>\n    <tr>\n      <th>21</th>\n      <td>1873</td>\n      <td>SC</td>\n      <td>False</td>\n      <td>Ms.</td>\n      <td>Vanessa</td>\n      <td>J.</td>\n      <td>Tench</td>\n      <td>None</td>\n      <td>2</td>\n      <td>None</td>\n      <td>&lt;IndividualSurvey xmlns=\"http://schemas.micros...</td>\n      <td>8A9EA10E-D7AD-4710-83D6-8F456AF7F994</td>\n      <td>2013-06-30</td>\n    </tr>\n    <tr>\n      <th>22</th>\n      <td>7410</td>\n      <td>IN</td>\n      <td>False</td>\n      <td>None</td>\n      <td>Vanessa</td>\n      <td>None</td>\n      <td>Washington</td>\n      <td>None</td>\n      <td>0</td>\n      <td>None</td>\n      <td>&lt;IndividualSurvey xmlns=\"http://schemas.micros...</td>\n      <td>774138BF-56DE-4DDD-8826-FEF7DCEDA8E2</td>\n      <td>2012-03-15</td>\n    </tr>\n    <tr>\n      <th>23</th>\n      <td>7395</td>\n      <td>IN</td>\n      <td>False</td>\n      <td>None</td>\n      <td>Vanessa</td>\n      <td>V</td>\n      <td>Wood</td>\n      <td>None</td>\n      <td>0</td>\n      <td>None</td>\n      <td>&lt;IndividualSurvey xmlns=\"http://schemas.micros...</td>\n      <td>62622DBE-C2B7-4EC0-A090-426A8DF9A5BE</td>\n      <td>2014-02-02</td>\n    </tr>\n  </tbody>\n</table>\n</div>"
          },
          "metadata": {},
          "execution_count": 24
        }
      ]
    },
    {
      "cell_type": "code",
      "metadata": {
        "id": "EK3j6sQKyqIh",
        "outputId": "538be21b-2755-46f0-e4c3-505a9b2cddb0"
      },
      "source": [
        "query = \"\"\"\n",
        "        SELECT *\n",
        "        FROM person.Person\n",
        "        WHERE FirstName LIKE '%es_';\n",
        "        \"\"\"\n",
        "pd.read_sql(query, conn)"
      ],
      "execution_count": 25,
      "outputs": [
        {
          "output_type": "execute_result",
          "data": {
            "text/plain": [
              "    BusinessEntityID PersonType  NameStyle Title FirstName MiddleName  \\\n",
              "0              15201         IN      False  None    Teresa       None   \n",
              "1              13896         IN      False  None   Theresa       None   \n",
              "2              15189         IN      False  None    Teresa       None   \n",
              "3              13890         IN      False  None   Theresa          H   \n",
              "4                375         SC      False   Ms.    Teresa       None   \n",
              "..               ...        ...        ...   ...       ...        ...   \n",
              "65              6495         IN      False  None    Ernest          M   \n",
              "66              6447         IN      False  None    Ernest          M   \n",
              "67              6470         IN      False  None    Ernest          C   \n",
              "68              6466         IN      False  None    Ernest          P   \n",
              "69              6478         IN      False  None    Ernest       None   \n",
              "\n",
              "    LastName Suffix  EmailPromotion AdditionalContactInfo  \\\n",
              "0     Alonso   None               2                  None   \n",
              "1     Alonso   None               0                  None   \n",
              "2    Alvarez   None               0                  None   \n",
              "3    Alvarez   None               0                  None   \n",
              "4   Atkinson   None               0                  None   \n",
              "..       ...    ...             ...                   ...   \n",
              "65      Zeng   None               0                  None   \n",
              "66     Zhang   None               0                  None   \n",
              "67      Zhao   None               0                  None   \n",
              "68      Zhou   None               0                  None   \n",
              "69       Zhu   None               0                  None   \n",
              "\n",
              "                                         Demographics  \\\n",
              "0   <IndividualSurvey xmlns=\"http://schemas.micros...   \n",
              "1   <IndividualSurvey xmlns=\"http://schemas.micros...   \n",
              "2   <IndividualSurvey xmlns=\"http://schemas.micros...   \n",
              "3   <IndividualSurvey xmlns=\"http://schemas.micros...   \n",
              "4   <IndividualSurvey xmlns=\"http://schemas.micros...   \n",
              "..                                                ...   \n",
              "65  <IndividualSurvey xmlns=\"http://schemas.micros...   \n",
              "66  <IndividualSurvey xmlns=\"http://schemas.micros...   \n",
              "67  <IndividualSurvey xmlns=\"http://schemas.micros...   \n",
              "68  <IndividualSurvey xmlns=\"http://schemas.micros...   \n",
              "69  <IndividualSurvey xmlns=\"http://schemas.micros...   \n",
              "\n",
              "                                 rowguid ModifiedDate  \n",
              "0   2E67FB53-AA67-4832-966F-9CC4EE953537   2013-07-05  \n",
              "1   9B2F459F-78C9-4E80-926C-5828F1F42A76   2013-10-29  \n",
              "2   117A99A9-6699-4C7C-BA13-43D361C847DF   2014-03-26  \n",
              "3   7B613205-4478-4EC1-9BE9-3FCA9D4138B7   2011-10-13  \n",
              "4   6D3F3644-31EB-42B2-BCB1-4A970D2EFAF3   2011-08-01  \n",
              "..                                   ...          ...  \n",
              "65  B21A8A8B-69AF-46D0-9992-D388B89D6E38   2013-08-23  \n",
              "66  FB49508E-CAF9-44EC-8D0C-552F186A3EDE   2014-05-06  \n",
              "67  13243229-8DC3-46A2-A625-ADA15B0BBFBA   2011-11-08  \n",
              "68  675CDE8F-EDA6-42F9-8DBC-4CCA2FE9CAC8   2013-05-05  \n",
              "69  CBD5CF45-D183-4C06-9CFB-B90CB3663C4F   2012-03-14  \n",
              "\n",
              "[70 rows x 13 columns]"
            ],
            "text/html": "<div>\n<style scoped>\n    .dataframe tbody tr th:only-of-type {\n        vertical-align: middle;\n    }\n\n    .dataframe tbody tr th {\n        vertical-align: top;\n    }\n\n    .dataframe thead th {\n        text-align: right;\n    }\n</style>\n<table border=\"1\" class=\"dataframe\">\n  <thead>\n    <tr style=\"text-align: right;\">\n      <th></th>\n      <th>BusinessEntityID</th>\n      <th>PersonType</th>\n      <th>NameStyle</th>\n      <th>Title</th>\n      <th>FirstName</th>\n      <th>MiddleName</th>\n      <th>LastName</th>\n      <th>Suffix</th>\n      <th>EmailPromotion</th>\n      <th>AdditionalContactInfo</th>\n      <th>Demographics</th>\n      <th>rowguid</th>\n      <th>ModifiedDate</th>\n    </tr>\n  </thead>\n  <tbody>\n    <tr>\n      <th>0</th>\n      <td>15201</td>\n      <td>IN</td>\n      <td>False</td>\n      <td>None</td>\n      <td>Teresa</td>\n      <td>None</td>\n      <td>Alonso</td>\n      <td>None</td>\n      <td>2</td>\n      <td>None</td>\n      <td>&lt;IndividualSurvey xmlns=\"http://schemas.micros...</td>\n      <td>2E67FB53-AA67-4832-966F-9CC4EE953537</td>\n      <td>2013-07-05</td>\n    </tr>\n    <tr>\n      <th>1</th>\n      <td>13896</td>\n      <td>IN</td>\n      <td>False</td>\n      <td>None</td>\n      <td>Theresa</td>\n      <td>None</td>\n      <td>Alonso</td>\n      <td>None</td>\n      <td>0</td>\n      <td>None</td>\n      <td>&lt;IndividualSurvey xmlns=\"http://schemas.micros...</td>\n      <td>9B2F459F-78C9-4E80-926C-5828F1F42A76</td>\n      <td>2013-10-29</td>\n    </tr>\n    <tr>\n      <th>2</th>\n      <td>15189</td>\n      <td>IN</td>\n      <td>False</td>\n      <td>None</td>\n      <td>Teresa</td>\n      <td>None</td>\n      <td>Alvarez</td>\n      <td>None</td>\n      <td>0</td>\n      <td>None</td>\n      <td>&lt;IndividualSurvey xmlns=\"http://schemas.micros...</td>\n      <td>117A99A9-6699-4C7C-BA13-43D361C847DF</td>\n      <td>2014-03-26</td>\n    </tr>\n    <tr>\n      <th>3</th>\n      <td>13890</td>\n      <td>IN</td>\n      <td>False</td>\n      <td>None</td>\n      <td>Theresa</td>\n      <td>H</td>\n      <td>Alvarez</td>\n      <td>None</td>\n      <td>0</td>\n      <td>None</td>\n      <td>&lt;IndividualSurvey xmlns=\"http://schemas.micros...</td>\n      <td>7B613205-4478-4EC1-9BE9-3FCA9D4138B7</td>\n      <td>2011-10-13</td>\n    </tr>\n    <tr>\n      <th>4</th>\n      <td>375</td>\n      <td>SC</td>\n      <td>False</td>\n      <td>Ms.</td>\n      <td>Teresa</td>\n      <td>None</td>\n      <td>Atkinson</td>\n      <td>None</td>\n      <td>0</td>\n      <td>None</td>\n      <td>&lt;IndividualSurvey xmlns=\"http://schemas.micros...</td>\n      <td>6D3F3644-31EB-42B2-BCB1-4A970D2EFAF3</td>\n      <td>2011-08-01</td>\n    </tr>\n    <tr>\n      <th>...</th>\n      <td>...</td>\n      <td>...</td>\n      <td>...</td>\n      <td>...</td>\n      <td>...</td>\n      <td>...</td>\n      <td>...</td>\n      <td>...</td>\n      <td>...</td>\n      <td>...</td>\n      <td>...</td>\n      <td>...</td>\n      <td>...</td>\n    </tr>\n    <tr>\n      <th>65</th>\n      <td>6495</td>\n      <td>IN</td>\n      <td>False</td>\n      <td>None</td>\n      <td>Ernest</td>\n      <td>M</td>\n      <td>Zeng</td>\n      <td>None</td>\n      <td>0</td>\n      <td>None</td>\n      <td>&lt;IndividualSurvey xmlns=\"http://schemas.micros...</td>\n      <td>B21A8A8B-69AF-46D0-9992-D388B89D6E38</td>\n      <td>2013-08-23</td>\n    </tr>\n    <tr>\n      <th>66</th>\n      <td>6447</td>\n      <td>IN</td>\n      <td>False</td>\n      <td>None</td>\n      <td>Ernest</td>\n      <td>M</td>\n      <td>Zhang</td>\n      <td>None</td>\n      <td>0</td>\n      <td>None</td>\n      <td>&lt;IndividualSurvey xmlns=\"http://schemas.micros...</td>\n      <td>FB49508E-CAF9-44EC-8D0C-552F186A3EDE</td>\n      <td>2014-05-06</td>\n    </tr>\n    <tr>\n      <th>67</th>\n      <td>6470</td>\n      <td>IN</td>\n      <td>False</td>\n      <td>None</td>\n      <td>Ernest</td>\n      <td>C</td>\n      <td>Zhao</td>\n      <td>None</td>\n      <td>0</td>\n      <td>None</td>\n      <td>&lt;IndividualSurvey xmlns=\"http://schemas.micros...</td>\n      <td>13243229-8DC3-46A2-A625-ADA15B0BBFBA</td>\n      <td>2011-11-08</td>\n    </tr>\n    <tr>\n      <th>68</th>\n      <td>6466</td>\n      <td>IN</td>\n      <td>False</td>\n      <td>None</td>\n      <td>Ernest</td>\n      <td>P</td>\n      <td>Zhou</td>\n      <td>None</td>\n      <td>0</td>\n      <td>None</td>\n      <td>&lt;IndividualSurvey xmlns=\"http://schemas.micros...</td>\n      <td>675CDE8F-EDA6-42F9-8DBC-4CCA2FE9CAC8</td>\n      <td>2013-05-05</td>\n    </tr>\n    <tr>\n      <th>69</th>\n      <td>6478</td>\n      <td>IN</td>\n      <td>False</td>\n      <td>None</td>\n      <td>Ernest</td>\n      <td>None</td>\n      <td>Zhu</td>\n      <td>None</td>\n      <td>0</td>\n      <td>None</td>\n      <td>&lt;IndividualSurvey xmlns=\"http://schemas.micros...</td>\n      <td>CBD5CF45-D183-4C06-9CFB-B90CB3663C4F</td>\n      <td>2012-03-14</td>\n    </tr>\n  </tbody>\n</table>\n<p>70 rows × 13 columns</p>\n</div>"
          },
          "metadata": {},
          "execution_count": 25
        }
      ]
    },
    {
      "cell_type": "markdown",
      "metadata": {
        "id": "Fcoz098_yqIi"
      },
      "source": []
    },
    {
      "cell_type": "markdown",
      "metadata": {
        "id": "hlf5wkhJyqIi"
      },
      "source": [
        "### Desafio 1\n",
        "\n",
        "Quantos produtos temos cadastrados no sistema que custam mais de 1500 dólares?\n"
      ]
    },
    {
      "cell_type": "code",
      "metadata": {
        "id": "tIxqSYCSyqIi",
        "outputId": "602fcb87-40b0-43fe-d23e-ea6be1168bf4"
      },
      "source": [
        "query = \"\"\"\n",
        "        SELECT COUNT(*)\n",
        "        FROM Production.Product\n",
        "        WHERE ListPrice > 1500;\n",
        "        \"\"\"\n",
        "pd.read_sql(query, conn)"
      ],
      "execution_count": 26,
      "outputs": [
        {
          "output_type": "execute_result",
          "data": {
            "text/plain": [
              "     \n",
              "0  39"
            ],
            "text/html": "<div>\n<style scoped>\n    .dataframe tbody tr th:only-of-type {\n        vertical-align: middle;\n    }\n\n    .dataframe tbody tr th {\n        vertical-align: top;\n    }\n\n    .dataframe thead th {\n        text-align: right;\n    }\n</style>\n<table border=\"1\" class=\"dataframe\">\n  <thead>\n    <tr style=\"text-align: right;\">\n      <th></th>\n      <th></th>\n    </tr>\n  </thead>\n  <tbody>\n    <tr>\n      <th>0</th>\n      <td>39</td>\n    </tr>\n  </tbody>\n</table>\n</div>"
          },
          "metadata": {},
          "execution_count": 26
        }
      ]
    },
    {
      "cell_type": "markdown",
      "metadata": {
        "id": "8B_7WHihyqIj"
      },
      "source": [
        "### Desafio 2\n",
        "\n",
        "Quantas pessoas temos que com o sobrenome que inicia com a letra P?"
      ]
    },
    {
      "cell_type": "code",
      "metadata": {
        "id": "Iz3Lg-01yqIj",
        "outputId": "07f81e50-8509-4d1d-87a5-d5985cf16cd5"
      },
      "source": [
        "query = \"\"\"\n",
        "        SELECT COUNT(*)\n",
        "        FROM Person.Person\n",
        "        WHERE FirstName LIKE 'P_%';\n",
        "        \"\"\"\n",
        "pd.read_sql(query, conn)"
      ],
      "execution_count": 27,
      "outputs": [
        {
          "output_type": "execute_result",
          "data": {
            "text/plain": [
              "      \n",
              "0  347"
            ],
            "text/html": "<div>\n<style scoped>\n    .dataframe tbody tr th:only-of-type {\n        vertical-align: middle;\n    }\n\n    .dataframe tbody tr th {\n        vertical-align: top;\n    }\n\n    .dataframe thead th {\n        text-align: right;\n    }\n</style>\n<table border=\"1\" class=\"dataframe\">\n  <thead>\n    <tr style=\"text-align: right;\">\n      <th></th>\n      <th></th>\n    </tr>\n  </thead>\n  <tbody>\n    <tr>\n      <th>0</th>\n      <td>347</td>\n    </tr>\n  </tbody>\n</table>\n</div>"
          },
          "metadata": {},
          "execution_count": 27
        }
      ]
    },
    {
      "cell_type": "markdown",
      "metadata": {
        "id": "XSke4RexyqIj"
      },
      "source": [
        "### Desafio 3\n",
        "\n",
        "Em quantas cidades únicas estão cadastrados nossos clientes?\n"
      ]
    },
    {
      "cell_type": "code",
      "metadata": {
        "id": "NXMpwkT4yqIk",
        "outputId": "ef6a2445-055d-4e32-88a2-b8a61c48a38e"
      },
      "source": [
        "query = \"\"\"\n",
        "        SELECT  COUNT( DISTINCT City )\n",
        "        FROM Person.Address;\n",
        "        \"\"\"\n",
        "pd.read_sql(query, conn)"
      ],
      "execution_count": 28,
      "outputs": [
        {
          "output_type": "execute_result",
          "data": {
            "text/plain": [
              "      \n",
              "0  575"
            ],
            "text/html": "<div>\n<style scoped>\n    .dataframe tbody tr th:only-of-type {\n        vertical-align: middle;\n    }\n\n    .dataframe tbody tr th {\n        vertical-align: top;\n    }\n\n    .dataframe thead th {\n        text-align: right;\n    }\n</style>\n<table border=\"1\" class=\"dataframe\">\n  <thead>\n    <tr style=\"text-align: right;\">\n      <th></th>\n      <th></th>\n    </tr>\n  </thead>\n  <tbody>\n    <tr>\n      <th>0</th>\n      <td>575</td>\n    </tr>\n  </tbody>\n</table>\n</div>"
          },
          "metadata": {},
          "execution_count": 28
        }
      ]
    },
    {
      "cell_type": "markdown",
      "metadata": {
        "id": "HiDCz9I-yqIk"
      },
      "source": [
        "### Desafio 4 \n",
        "Quais são as cidades únicas que temos cadastradas em nosso sistema?"
      ]
    },
    {
      "cell_type": "code",
      "metadata": {
        "id": "uRFj-DN4yqIk",
        "outputId": "947a447c-8375-4eb9-9434-4c1d0c047052"
      },
      "source": [
        "query = \"\"\"\n",
        "        SELECT  DISTINCT City\n",
        "        FROM Person.Address;\n",
        "        \"\"\"\n",
        "pd.read_sql(query, conn)"
      ],
      "execution_count": 29,
      "outputs": [
        {
          "output_type": "execute_result",
          "data": {
            "text/plain": [
              "                City\n",
              "0         Cheltenham\n",
              "1          Kingsport\n",
              "2           Suresnes\n",
              "3          Baltimore\n",
              "4            Reading\n",
              "..               ...\n",
              "570           Orange\n",
              "571         Norridge\n",
              "572  South Melbourne\n",
              "573   Trabuco Canyon\n",
              "574         Sarasota\n",
              "\n",
              "[575 rows x 1 columns]"
            ],
            "text/html": "<div>\n<style scoped>\n    .dataframe tbody tr th:only-of-type {\n        vertical-align: middle;\n    }\n\n    .dataframe tbody tr th {\n        vertical-align: top;\n    }\n\n    .dataframe thead th {\n        text-align: right;\n    }\n</style>\n<table border=\"1\" class=\"dataframe\">\n  <thead>\n    <tr style=\"text-align: right;\">\n      <th></th>\n      <th>City</th>\n    </tr>\n  </thead>\n  <tbody>\n    <tr>\n      <th>0</th>\n      <td>Cheltenham</td>\n    </tr>\n    <tr>\n      <th>1</th>\n      <td>Kingsport</td>\n    </tr>\n    <tr>\n      <th>2</th>\n      <td>Suresnes</td>\n    </tr>\n    <tr>\n      <th>3</th>\n      <td>Baltimore</td>\n    </tr>\n    <tr>\n      <th>4</th>\n      <td>Reading</td>\n    </tr>\n    <tr>\n      <th>...</th>\n      <td>...</td>\n    </tr>\n    <tr>\n      <th>570</th>\n      <td>Orange</td>\n    </tr>\n    <tr>\n      <th>571</th>\n      <td>Norridge</td>\n    </tr>\n    <tr>\n      <th>572</th>\n      <td>South Melbourne</td>\n    </tr>\n    <tr>\n      <th>573</th>\n      <td>Trabuco Canyon</td>\n    </tr>\n    <tr>\n      <th>574</th>\n      <td>Sarasota</td>\n    </tr>\n  </tbody>\n</table>\n<p>575 rows × 1 columns</p>\n</div>"
          },
          "metadata": {},
          "execution_count": 29
        }
      ]
    },
    {
      "cell_type": "markdown",
      "metadata": {
        "id": "0X1GD7JkyqIk"
      },
      "source": [
        "### Desafio 5\n",
        "Quantos produtos vermelhos tem o preço entre 500 e 1000 dólares?"
      ]
    },
    {
      "cell_type": "code",
      "metadata": {
        "id": "e7zGaqmOyqIl",
        "outputId": "8bc3b7ef-6e87-4926-8f6d-cf62bf862de5"
      },
      "source": [
        "query = \"\"\"\n",
        "        SELECT  COUNT(*)\n",
        "        FROM AdventureWorks2017.Production.Product\n",
        "        WHERE Color = 'RED' AND ListPrice BETWEEN 500 AND 1000;\n",
        "        \"\"\"\n",
        "pd.read_sql(query, conn)"
      ],
      "execution_count": 30,
      "outputs": [
        {
          "output_type": "execute_result",
          "data": {
            "text/plain": [
              "     \n",
              "0  11"
            ],
            "text/html": "<div>\n<style scoped>\n    .dataframe tbody tr th:only-of-type {\n        vertical-align: middle;\n    }\n\n    .dataframe tbody tr th {\n        vertical-align: top;\n    }\n\n    .dataframe thead th {\n        text-align: right;\n    }\n</style>\n<table border=\"1\" class=\"dataframe\">\n  <thead>\n    <tr style=\"text-align: right;\">\n      <th></th>\n      <th></th>\n    </tr>\n  </thead>\n  <tbody>\n    <tr>\n      <th>0</th>\n      <td>11</td>\n    </tr>\n  </tbody>\n</table>\n</div>"
          },
          "metadata": {},
          "execution_count": 30
        }
      ]
    },
    {
      "cell_type": "markdown",
      "metadata": {
        "id": "AfBGbDNHyqIl"
      },
      "source": [
        "### Desafio 6\n",
        "\n",
        "Quantos produtos cadastrados tem a palavra 'road' no nome deles?"
      ]
    },
    {
      "cell_type": "code",
      "metadata": {
        "id": "jn48h427yqIl",
        "outputId": "9cc57250-19c6-44e8-8172-6d2a8a325b5f"
      },
      "source": [
        "query = \"\"\"\n",
        "        SELECT COUNT(*)\n",
        "        FROM Production.Product\n",
        "        WHERE Name LIKE '%road%';\n",
        "        \"\"\"\n",
        "pd.read_sql(query, conn)"
      ],
      "execution_count": 31,
      "outputs": [
        {
          "output_type": "execute_result",
          "data": {
            "text/plain": [
              "      \n",
              "0  103"
            ],
            "text/html": "<div>\n<style scoped>\n    .dataframe tbody tr th:only-of-type {\n        vertical-align: middle;\n    }\n\n    .dataframe tbody tr th {\n        vertical-align: top;\n    }\n\n    .dataframe thead th {\n        text-align: right;\n    }\n</style>\n<table border=\"1\" class=\"dataframe\">\n  <thead>\n    <tr style=\"text-align: right;\">\n      <th></th>\n      <th></th>\n    </tr>\n  </thead>\n  <tbody>\n    <tr>\n      <th>0</th>\n      <td>103</td>\n    </tr>\n  </tbody>\n</table>\n</div>"
          },
          "metadata": {},
          "execution_count": 31
        }
      ]
    },
    {
      "cell_type": "markdown",
      "metadata": {
        "id": "TMTr5a4CyqIm"
      },
      "source": [
        "## MIN,MAX,SUM E AVG"
      ]
    },
    {
      "cell_type": "markdown",
      "metadata": {
        "id": "Qsi7drEuyqIm"
      },
      "source": [
        "A MIN()função retorna o menor valor da coluna selecionada.\n",
        "\n",
        "A MAX()função retorna o maior valor da coluna selecionada.\n",
        "\n",
        "A SUM()função retorna a soma total de uma coluna numérica. \n",
        "\n",
        "A AVG()função retorna o valor médio de uma coluna numérica. \n",
        "\n",
        "\n",
        "Sintaxe\n",
        "\n",
        "\n",
        "SELECT  FUN(column1) AS \"NEW NAME\"\n",
        "\n",
        "FROM table_name\n",
        "\n",
        "\n",
        "\n",
        "\n",
        "\n"
      ]
    },
    {
      "cell_type": "code",
      "metadata": {
        "id": "vnd9LbRQyqIm",
        "outputId": "a408181e-b720-4cd0-dac0-e13b82963216"
      },
      "source": [
        "query = \"\"\"\n",
        "        SELECT TOP 10 SUM(LineTotal) AS \"Soma\"\n",
        "        FROM Sales.SalesOrderDetail;\n",
        "        \"\"\"\n",
        "pd.read_sql(query, conn)"
      ],
      "execution_count": 32,
      "outputs": [
        {
          "output_type": "execute_result",
          "data": {
            "text/plain": [
              "           Soma\n",
              "0  1.098464e+08"
            ],
            "text/html": "<div>\n<style scoped>\n    .dataframe tbody tr th:only-of-type {\n        vertical-align: middle;\n    }\n\n    .dataframe tbody tr th {\n        vertical-align: top;\n    }\n\n    .dataframe thead th {\n        text-align: right;\n    }\n</style>\n<table border=\"1\" class=\"dataframe\">\n  <thead>\n    <tr style=\"text-align: right;\">\n      <th></th>\n      <th>Soma</th>\n    </tr>\n  </thead>\n  <tbody>\n    <tr>\n      <th>0</th>\n      <td>1.098464e+08</td>\n    </tr>\n  </tbody>\n</table>\n</div>"
          },
          "metadata": {},
          "execution_count": 32
        }
      ]
    },
    {
      "cell_type": "code",
      "metadata": {
        "id": "kdNE-5tVyqIn",
        "outputId": "aa4b7948-16b9-4aed-fa5f-013eb387b5ec"
      },
      "source": [
        "query = \"\"\"\n",
        "        SELECT TOP 10 MIN(LineTotal) AS \"Min\"\n",
        "        FROM Sales.SalesOrderDetail;\n",
        "        \"\"\"\n",
        "pd.read_sql(query, conn)"
      ],
      "execution_count": 33,
      "outputs": [
        {
          "output_type": "execute_result",
          "data": {
            "text/plain": [
              "     Min\n",
              "0  1.374"
            ],
            "text/html": "<div>\n<style scoped>\n    .dataframe tbody tr th:only-of-type {\n        vertical-align: middle;\n    }\n\n    .dataframe tbody tr th {\n        vertical-align: top;\n    }\n\n    .dataframe thead th {\n        text-align: right;\n    }\n</style>\n<table border=\"1\" class=\"dataframe\">\n  <thead>\n    <tr style=\"text-align: right;\">\n      <th></th>\n      <th>Min</th>\n    </tr>\n  </thead>\n  <tbody>\n    <tr>\n      <th>0</th>\n      <td>1.374</td>\n    </tr>\n  </tbody>\n</table>\n</div>"
          },
          "metadata": {},
          "execution_count": 33
        }
      ]
    },
    {
      "cell_type": "code",
      "metadata": {
        "id": "a6FXyrKcyqIn",
        "outputId": "e41d45ac-d7ca-4b8f-f375-357ba8f74237"
      },
      "source": [
        "query = \"\"\"\n",
        "        SELECT TOP 10 MAX(LineTotal) AS \"Max\"\n",
        "        FROM Sales.SalesOrderDetail;\n",
        "        \"\"\"\n",
        "pd.read_sql(query, conn)"
      ],
      "execution_count": 34,
      "outputs": [
        {
          "output_type": "execute_result",
          "data": {
            "text/plain": [
              "         Max\n",
              "0  27893.619"
            ],
            "text/html": "<div>\n<style scoped>\n    .dataframe tbody tr th:only-of-type {\n        vertical-align: middle;\n    }\n\n    .dataframe tbody tr th {\n        vertical-align: top;\n    }\n\n    .dataframe thead th {\n        text-align: right;\n    }\n</style>\n<table border=\"1\" class=\"dataframe\">\n  <thead>\n    <tr style=\"text-align: right;\">\n      <th></th>\n      <th>Max</th>\n    </tr>\n  </thead>\n  <tbody>\n    <tr>\n      <th>0</th>\n      <td>27893.619</td>\n    </tr>\n  </tbody>\n</table>\n</div>"
          },
          "metadata": {},
          "execution_count": 34
        }
      ]
    },
    {
      "cell_type": "code",
      "metadata": {
        "id": "dtVaPyw-yqIo",
        "outputId": "39f5c2b1-f3af-4c78-9242-af72ad811ee2"
      },
      "source": [
        "query = \"\"\"\n",
        "        SELECT TOP 10 AVG(LineTotal) AS \"Média\"\n",
        "        FROM Sales.SalesOrderDetail;\n",
        "        \"\"\"\n",
        "pd.read_sql(query, conn)"
      ],
      "execution_count": 35,
      "outputs": [
        {
          "output_type": "execute_result",
          "data": {
            "text/plain": [
              "        Média\n",
              "0  905.449206"
            ],
            "text/html": "<div>\n<style scoped>\n    .dataframe tbody tr th:only-of-type {\n        vertical-align: middle;\n    }\n\n    .dataframe tbody tr th {\n        vertical-align: top;\n    }\n\n    .dataframe thead th {\n        text-align: right;\n    }\n</style>\n<table border=\"1\" class=\"dataframe\">\n  <thead>\n    <tr style=\"text-align: right;\">\n      <th></th>\n      <th>Média</th>\n    </tr>\n  </thead>\n  <tbody>\n    <tr>\n      <th>0</th>\n      <td>905.449206</td>\n    </tr>\n  </tbody>\n</table>\n</div>"
          },
          "metadata": {},
          "execution_count": 35
        }
      ]
    },
    {
      "cell_type": "markdown",
      "metadata": {
        "id": "a38wP4YxyqIo"
      },
      "source": [
        "## GROUP BY"
      ]
    },
    {
      "cell_type": "markdown",
      "metadata": {
        "id": "ritOu3ZcyqIo"
      },
      "source": [
        "A cláusula SQL GROUP BY é usada em colaboração com a instrução SELECT para organizar dados idênticos em grupos. Esta cláusula GROUP BY segue a cláusula WHERE em uma instrução SELECT e precede a cláusula ORDER BY.\n",
        "\n",
        "Sintaxe\n",
        "\n",
        "A sintaxe básica de uma cláusula GROUP BY é mostrada no bloco de código a seguir. A cláusula GROUP BY deve seguir as condições da cláusula WHERE e deve preceder a cláusula ORDER BY, se uma for usada.\n",
        "\n",
        "SELECT column1, column2\n",
        "\n",
        "FROM table_name\n",
        "\n",
        "WHERE conditions \n",
        "\n",
        "GROUP BY column1, column2\n",
        "\n",
        "ORDER BY column1, column2\n",
        "\n",
        "\n"
      ]
    },
    {
      "cell_type": "markdown",
      "metadata": {
        "id": "ynNF-FuLyqIo"
      },
      "source": [
        "### Desafio 1\n",
        "Quantas pessoas têm o mesmo MiddleName agrupadas por o MiddleName ?\n"
      ]
    },
    {
      "cell_type": "code",
      "metadata": {
        "id": "4IVKuUqOyqIr",
        "outputId": "856599b6-3908-4b1f-ab31-ee2932ee1cf4"
      },
      "source": [
        "query = \"\"\"\n",
        "        SELECT  MiddleName,  COUNT(MiddleName) AS \"Contagem\"\n",
        "        FROM AdventureWorks2017.Person.Person\n",
        "        GROUP BY MiddleName\n",
        "        \"\"\"\n",
        "pd.read_sql(query, conn)"
      ],
      "execution_count": 36,
      "outputs": [
        {
          "output_type": "execute_result",
          "data": {
            "text/plain": [
              "          MiddleName  Contagem\n",
              "0                 R.        64\n",
              "1                 F.        18\n",
              "2                  O        64\n",
              "3                  K       361\n",
              "4                 H.         2\n",
              "..               ...       ...\n",
              "66                G.         1\n",
              "67               Jan         1\n",
              "68                 I        96\n",
              "69                 V       132\n",
              "70  Barreiro Gambaro         2\n",
              "\n",
              "[71 rows x 2 columns]"
            ],
            "text/html": "<div>\n<style scoped>\n    .dataframe tbody tr th:only-of-type {\n        vertical-align: middle;\n    }\n\n    .dataframe tbody tr th {\n        vertical-align: top;\n    }\n\n    .dataframe thead th {\n        text-align: right;\n    }\n</style>\n<table border=\"1\" class=\"dataframe\">\n  <thead>\n    <tr style=\"text-align: right;\">\n      <th></th>\n      <th>MiddleName</th>\n      <th>Contagem</th>\n    </tr>\n  </thead>\n  <tbody>\n    <tr>\n      <th>0</th>\n      <td>R.</td>\n      <td>64</td>\n    </tr>\n    <tr>\n      <th>1</th>\n      <td>F.</td>\n      <td>18</td>\n    </tr>\n    <tr>\n      <th>2</th>\n      <td>O</td>\n      <td>64</td>\n    </tr>\n    <tr>\n      <th>3</th>\n      <td>K</td>\n      <td>361</td>\n    </tr>\n    <tr>\n      <th>4</th>\n      <td>H.</td>\n      <td>2</td>\n    </tr>\n    <tr>\n      <th>...</th>\n      <td>...</td>\n      <td>...</td>\n    </tr>\n    <tr>\n      <th>66</th>\n      <td>G.</td>\n      <td>1</td>\n    </tr>\n    <tr>\n      <th>67</th>\n      <td>Jan</td>\n      <td>1</td>\n    </tr>\n    <tr>\n      <th>68</th>\n      <td>I</td>\n      <td>96</td>\n    </tr>\n    <tr>\n      <th>69</th>\n      <td>V</td>\n      <td>132</td>\n    </tr>\n    <tr>\n      <th>70</th>\n      <td>Barreiro Gambaro</td>\n      <td>2</td>\n    </tr>\n  </tbody>\n</table>\n<p>71 rows × 2 columns</p>\n</div>"
          },
          "metadata": {},
          "execution_count": 36
        }
      ]
    },
    {
      "cell_type": "markdown",
      "metadata": {
        "id": "E55eaojcyqIs"
      },
      "source": [
        "### Desafio 2\n",
        "Em média qual é a quantidade que cada produto é vendido na loja ?\n"
      ]
    },
    {
      "cell_type": "code",
      "metadata": {
        "id": "dLMcBaJLyqIs",
        "outputId": "35101059-c6ca-41e1-b9c5-1b2a470d77ba"
      },
      "source": [
        "query = \"\"\"\n",
        "        SELECT ProductID, AVG(OrderQty) AS \"Média\"\n",
        "        FROM Sales.SalesOrderDetail\n",
        "        GROUP BY ProductID;\n",
        "        \"\"\"\n",
        "pd.read_sql(query, conn)"
      ],
      "execution_count": 37,
      "outputs": [
        {
          "output_type": "execute_result",
          "data": {
            "text/plain": [
              "     ProductID  Média\n",
              "0          925      2\n",
              "1          902      1\n",
              "2          710      2\n",
              "3          879      1\n",
              "4          733      2\n",
              "..         ...    ...\n",
              "261        741      1\n",
              "262        790      2\n",
              "263        990      1\n",
              "264        933      1\n",
              "265        984      2\n",
              "\n",
              "[266 rows x 2 columns]"
            ],
            "text/html": "<div>\n<style scoped>\n    .dataframe tbody tr th:only-of-type {\n        vertical-align: middle;\n    }\n\n    .dataframe tbody tr th {\n        vertical-align: top;\n    }\n\n    .dataframe thead th {\n        text-align: right;\n    }\n</style>\n<table border=\"1\" class=\"dataframe\">\n  <thead>\n    <tr style=\"text-align: right;\">\n      <th></th>\n      <th>ProductID</th>\n      <th>Média</th>\n    </tr>\n  </thead>\n  <tbody>\n    <tr>\n      <th>0</th>\n      <td>925</td>\n      <td>2</td>\n    </tr>\n    <tr>\n      <th>1</th>\n      <td>902</td>\n      <td>1</td>\n    </tr>\n    <tr>\n      <th>2</th>\n      <td>710</td>\n      <td>2</td>\n    </tr>\n    <tr>\n      <th>3</th>\n      <td>879</td>\n      <td>1</td>\n    </tr>\n    <tr>\n      <th>4</th>\n      <td>733</td>\n      <td>2</td>\n    </tr>\n    <tr>\n      <th>...</th>\n      <td>...</td>\n      <td>...</td>\n    </tr>\n    <tr>\n      <th>261</th>\n      <td>741</td>\n      <td>1</td>\n    </tr>\n    <tr>\n      <th>262</th>\n      <td>790</td>\n      <td>2</td>\n    </tr>\n    <tr>\n      <th>263</th>\n      <td>990</td>\n      <td>1</td>\n    </tr>\n    <tr>\n      <th>264</th>\n      <td>933</td>\n      <td>1</td>\n    </tr>\n    <tr>\n      <th>265</th>\n      <td>984</td>\n      <td>2</td>\n    </tr>\n  </tbody>\n</table>\n<p>266 rows × 2 columns</p>\n</div>"
          },
          "metadata": {},
          "execution_count": 37
        }
      ]
    },
    {
      "cell_type": "markdown",
      "metadata": {
        "id": "wej49aLtyqIt"
      },
      "source": [
        "### Desafio 3\n",
        "Quais foram as 10 vendas que no total tiveram os maiores valores de venda por produto do maior valor para o menor ?"
      ]
    },
    {
      "cell_type": "code",
      "metadata": {
        "id": "JDXmg_03yqIt",
        "outputId": "f476837a-ac4b-4f9d-da8f-2264f4344750"
      },
      "source": [
        "query = \"\"\"\n",
        "        SELECT TOP 10 ProductID, SUM(LineTotal)\n",
        "        FROM Sales.SalesOrderDetail\n",
        "        GROUP BY ProductID\n",
        "        ORDER BY SUM(LineTotal) DESC;\n",
        "        \"\"\"\n",
        "pd.read_sql(query, conn)"
      ],
      "execution_count": 38,
      "outputs": [
        {
          "output_type": "execute_result",
          "data": {
            "text/plain": [
              "   ProductID              \n",
              "0        782  4.400593e+06\n",
              "1        783  4.009495e+06\n",
              "2        779  3.693678e+06\n",
              "3        780  3.438479e+06\n",
              "4        781  3.434257e+06\n",
              "5        784  3.309673e+06\n",
              "6        793  2.516857e+06\n",
              "7        794  2.347656e+06\n",
              "8        795  2.012448e+06\n",
              "9        753  1.847819e+06"
            ],
            "text/html": "<div>\n<style scoped>\n    .dataframe tbody tr th:only-of-type {\n        vertical-align: middle;\n    }\n\n    .dataframe tbody tr th {\n        vertical-align: top;\n    }\n\n    .dataframe thead th {\n        text-align: right;\n    }\n</style>\n<table border=\"1\" class=\"dataframe\">\n  <thead>\n    <tr style=\"text-align: right;\">\n      <th></th>\n      <th>ProductID</th>\n      <th></th>\n    </tr>\n  </thead>\n  <tbody>\n    <tr>\n      <th>0</th>\n      <td>782</td>\n      <td>4.400593e+06</td>\n    </tr>\n    <tr>\n      <th>1</th>\n      <td>783</td>\n      <td>4.009495e+06</td>\n    </tr>\n    <tr>\n      <th>2</th>\n      <td>779</td>\n      <td>3.693678e+06</td>\n    </tr>\n    <tr>\n      <th>3</th>\n      <td>780</td>\n      <td>3.438479e+06</td>\n    </tr>\n    <tr>\n      <th>4</th>\n      <td>781</td>\n      <td>3.434257e+06</td>\n    </tr>\n    <tr>\n      <th>5</th>\n      <td>784</td>\n      <td>3.309673e+06</td>\n    </tr>\n    <tr>\n      <th>6</th>\n      <td>793</td>\n      <td>2.516857e+06</td>\n    </tr>\n    <tr>\n      <th>7</th>\n      <td>794</td>\n      <td>2.347656e+06</td>\n    </tr>\n    <tr>\n      <th>8</th>\n      <td>795</td>\n      <td>2.012448e+06</td>\n    </tr>\n    <tr>\n      <th>9</th>\n      <td>753</td>\n      <td>1.847819e+06</td>\n    </tr>\n  </tbody>\n</table>\n</div>"
          },
          "metadata": {},
          "execution_count": 38
        }
      ]
    },
    {
      "cell_type": "markdown",
      "metadata": {
        "id": "cO_JXNBSyqIt"
      },
      "source": [
        "### Desafio 4\n",
        "Quantos produtos e qual a quantidade média de produtos temos\n",
        "cadastrados nas nossas ordem de serviço, agrupados por ProductId ?"
      ]
    },
    {
      "cell_type": "code",
      "metadata": {
        "id": "hqgz4k_DyqIu",
        "outputId": "32e11edc-1b42-456e-d2c4-7de2accac0b7"
      },
      "source": [
        "query = \"\"\"\n",
        "    SELECT ProductID, COUNT(ProductID) AS \"Contagem\", AVG(OrderQty) AS               \"Média\"\n",
        "    FROM Production.WorkOrder\n",
        "    GROUP BY ProductID;\n",
        "        \"\"\"\n",
        "pd.read_sql(query, conn)"
      ],
      "execution_count": 39,
      "outputs": [
        {
          "output_type": "execute_result",
          "data": {
            "text/plain": [
              "     ProductID  Contagem  Média\n",
              "0          925        71     13\n",
              "1          902        53      6\n",
              "2          733        21     38\n",
              "3          401      1092    117\n",
              "4          756        12     28\n",
              "..         ...       ...    ...\n",
              "233        741        57     11\n",
              "234        778        64      9\n",
              "235        790       137      5\n",
              "236        990        58      6\n",
              "237        984        50      9\n",
              "\n",
              "[238 rows x 3 columns]"
            ],
            "text/html": "<div>\n<style scoped>\n    .dataframe tbody tr th:only-of-type {\n        vertical-align: middle;\n    }\n\n    .dataframe tbody tr th {\n        vertical-align: top;\n    }\n\n    .dataframe thead th {\n        text-align: right;\n    }\n</style>\n<table border=\"1\" class=\"dataframe\">\n  <thead>\n    <tr style=\"text-align: right;\">\n      <th></th>\n      <th>ProductID</th>\n      <th>Contagem</th>\n      <th>Média</th>\n    </tr>\n  </thead>\n  <tbody>\n    <tr>\n      <th>0</th>\n      <td>925</td>\n      <td>71</td>\n      <td>13</td>\n    </tr>\n    <tr>\n      <th>1</th>\n      <td>902</td>\n      <td>53</td>\n      <td>6</td>\n    </tr>\n    <tr>\n      <th>2</th>\n      <td>733</td>\n      <td>21</td>\n      <td>38</td>\n    </tr>\n    <tr>\n      <th>3</th>\n      <td>401</td>\n      <td>1092</td>\n      <td>117</td>\n    </tr>\n    <tr>\n      <th>4</th>\n      <td>756</td>\n      <td>12</td>\n      <td>28</td>\n    </tr>\n    <tr>\n      <th>...</th>\n      <td>...</td>\n      <td>...</td>\n      <td>...</td>\n    </tr>\n    <tr>\n      <th>233</th>\n      <td>741</td>\n      <td>57</td>\n      <td>11</td>\n    </tr>\n    <tr>\n      <th>234</th>\n      <td>778</td>\n      <td>64</td>\n      <td>9</td>\n    </tr>\n    <tr>\n      <th>235</th>\n      <td>790</td>\n      <td>137</td>\n      <td>5</td>\n    </tr>\n    <tr>\n      <th>236</th>\n      <td>990</td>\n      <td>58</td>\n      <td>6</td>\n    </tr>\n    <tr>\n      <th>237</th>\n      <td>984</td>\n      <td>50</td>\n      <td>9</td>\n    </tr>\n  </tbody>\n</table>\n<p>238 rows × 3 columns</p>\n</div>"
          },
          "metadata": {},
          "execution_count": 39
        }
      ]
    },
    {
      "cell_type": "markdown",
      "metadata": {
        "id": "sGZQeROWyqIu"
      },
      "source": [
        "## HAVING"
      ]
    },
    {
      "cell_type": "markdown",
      "metadata": {
        "id": "KeEqahaEyqIu"
      },
      "source": [
        "A cláusula HAVING permite que você especifique as condições que filtram quais resultados de grupo aparecem nos resultados.\n",
        "\n",
        "A cláusula WHERE coloca condições nas colunas selecionadas, enquanto a cláusula HAVING coloca condições nos grupos criados pela cláusula GROUP BY.\n",
        "\n",
        "Sintaxe\n",
        "\n",
        "O bloco de código a seguir mostra a posição da cláusula HAVING em uma consulta.\n",
        "***\n",
        "SELECT\n",
        "\n",
        "FROM\n",
        "\n",
        "WHERE\n",
        "\n",
        "GROUP BY\n",
        "\n",
        "***\n",
        "A cláusula HAVING deve seguir a cláusula GROUP BY em uma consulta e também deve preceder a cláusula ORDER BY, se usada. O seguinte bloco de código tem a sintaxe da instrução SELECT, incluindo a cláusula HAVING -\n",
        "\n",
        "HAVING\n",
        "\n",
        "ORDER BY\n",
        "\n",
        "SELECT column1, column2\n",
        "\n",
        "FROM table1, table2\n",
        "\n",
        "WHERE conditions\n",
        "\n",
        "GROUP BY column1, column2\n",
        "\n",
        "HAVING conditions\n",
        "\n",
        "ORDER BY column1, column2\n",
        "***\n"
      ]
    },
    {
      "cell_type": "markdown",
      "metadata": {
        "id": "M0SHkRwYyqIv"
      },
      "source": [
        "### Desafio 1\n",
        "\n",
        "Estamos querendo identificar as províncias (stateProvinceId) com o maior\n",
        "número de cadastros no nosso sistema, então é preciso encontrar quais\n",
        "províncias(stateProvinceId) estão registradas no banco de dados mais\n",
        "de 1000 vezes."
      ]
    },
    {
      "cell_type": "code",
      "metadata": {
        "id": "IVhVpWggyqIv",
        "outputId": "a26ee198-cf45-45dc-902c-ec74d68aa02b"
      },
      "source": [
        "query = \"\"\"\n",
        "    SELECT stateProvinceId, COUNT(stateProvinceId) \"quantidade\"\n",
        "    FROM Person.Address\n",
        "    GROUP BY stateProvinceId\n",
        "    HAVING COUNT(stateProvinceId)>1000;\n",
        "        \"\"\"\n",
        "pd.read_sql(query, conn)"
      ],
      "execution_count": 40,
      "outputs": [
        {
          "output_type": "execute_result",
          "data": {
            "text/plain": [
              "   stateProvinceId  quantidade\n",
              "0                7        1579\n",
              "1                9        4564\n",
              "2               14        1954\n",
              "3               50        1588\n",
              "4               58        1105\n",
              "5               79        2636"
            ],
            "text/html": "<div>\n<style scoped>\n    .dataframe tbody tr th:only-of-type {\n        vertical-align: middle;\n    }\n\n    .dataframe tbody tr th {\n        vertical-align: top;\n    }\n\n    .dataframe thead th {\n        text-align: right;\n    }\n</style>\n<table border=\"1\" class=\"dataframe\">\n  <thead>\n    <tr style=\"text-align: right;\">\n      <th></th>\n      <th>stateProvinceId</th>\n      <th>quantidade</th>\n    </tr>\n  </thead>\n  <tbody>\n    <tr>\n      <th>0</th>\n      <td>7</td>\n      <td>1579</td>\n    </tr>\n    <tr>\n      <th>1</th>\n      <td>9</td>\n      <td>4564</td>\n    </tr>\n    <tr>\n      <th>2</th>\n      <td>14</td>\n      <td>1954</td>\n    </tr>\n    <tr>\n      <th>3</th>\n      <td>50</td>\n      <td>1588</td>\n    </tr>\n    <tr>\n      <th>4</th>\n      <td>58</td>\n      <td>1105</td>\n    </tr>\n    <tr>\n      <th>5</th>\n      <td>79</td>\n      <td>2636</td>\n    </tr>\n  </tbody>\n</table>\n</div>"
          },
          "metadata": {},
          "execution_count": 40
        }
      ]
    },
    {
      "cell_type": "markdown",
      "metadata": {
        "id": "obv2ApaeyqIv"
      },
      "source": [
        "### Desafio 1\n",
        "Sabendo que se trata de uma multinacional, os gerentes querem saber quais\n",
        "produtos(productId) não estão trazendo em média no mínimo 1 milhão em total\n",
        "de vendas(LineTotal)"
      ]
    },
    {
      "cell_type": "code",
      "metadata": {
        "id": "3ClSGv40yqIw",
        "outputId": "028cdc38-79f8-494e-f7a5-bf51b36f80b4"
      },
      "source": [
        "query = \"\"\"\n",
        "    SELECT ProductID, AVG(LineTotal)\n",
        "    FROM Sales.SalesOrderDetail\n",
        "    GROUP BY ProductID\n",
        "    HAVING AVG(LineTotal) < 1000000\n",
        "        \"\"\"\n",
        "pd.read_sql(query, conn)"
      ],
      "execution_count": 41,
      "outputs": [
        {
          "output_type": "execute_result",
          "data": {
            "text/plain": [
              "     ProductID             \n",
              "0          925   412.266180\n",
              "1          902   360.093600\n",
              "2          710    11.659090\n",
              "3          879   159.000000\n",
              "4          733   730.018636\n",
              "..         ...          ...\n",
              "261        741  1506.756382\n",
              "262        790  3577.611399\n",
              "263        990   698.940902\n",
              "264        933    32.600000\n",
              "265        984   656.513266\n",
              "\n",
              "[266 rows x 2 columns]"
            ],
            "text/html": "<div>\n<style scoped>\n    .dataframe tbody tr th:only-of-type {\n        vertical-align: middle;\n    }\n\n    .dataframe tbody tr th {\n        vertical-align: top;\n    }\n\n    .dataframe thead th {\n        text-align: right;\n    }\n</style>\n<table border=\"1\" class=\"dataframe\">\n  <thead>\n    <tr style=\"text-align: right;\">\n      <th></th>\n      <th>ProductID</th>\n      <th></th>\n    </tr>\n  </thead>\n  <tbody>\n    <tr>\n      <th>0</th>\n      <td>925</td>\n      <td>412.266180</td>\n    </tr>\n    <tr>\n      <th>1</th>\n      <td>902</td>\n      <td>360.093600</td>\n    </tr>\n    <tr>\n      <th>2</th>\n      <td>710</td>\n      <td>11.659090</td>\n    </tr>\n    <tr>\n      <th>3</th>\n      <td>879</td>\n      <td>159.000000</td>\n    </tr>\n    <tr>\n      <th>4</th>\n      <td>733</td>\n      <td>730.018636</td>\n    </tr>\n    <tr>\n      <th>...</th>\n      <td>...</td>\n      <td>...</td>\n    </tr>\n    <tr>\n      <th>261</th>\n      <td>741</td>\n      <td>1506.756382</td>\n    </tr>\n    <tr>\n      <th>262</th>\n      <td>790</td>\n      <td>3577.611399</td>\n    </tr>\n    <tr>\n      <th>263</th>\n      <td>990</td>\n      <td>698.940902</td>\n    </tr>\n    <tr>\n      <th>264</th>\n      <td>933</td>\n      <td>32.600000</td>\n    </tr>\n    <tr>\n      <th>265</th>\n      <td>984</td>\n      <td>656.513266</td>\n    </tr>\n  </tbody>\n</table>\n<p>266 rows × 2 columns</p>\n</div>"
          },
          "metadata": {},
          "execution_count": 41
        }
      ]
    },
    {
      "cell_type": "markdown",
      "metadata": {
        "id": "4NMXa9G7yqIw"
      },
      "source": [
        "## AS"
      ]
    },
    {
      "cell_type": "markdown",
      "metadata": {
        "id": "hmn44AtuyqIx"
      },
      "source": [
        "O comando AS  é usado para renomear uma coluna ou tabela.\n",
        "\n",
        "SELECT CustomerID AS ID, CustomerName AS Customer\n",
        "FROM Customers;\n",
        "\n",
        "\n"
      ]
    },
    {
      "cell_type": "markdown",
      "metadata": {
        "id": "iYYBRw-gyqIx"
      },
      "source": [
        "### Desafio 1\n",
        "\n",
        "Encontrar o FirstName e LastName da tabela Person.Person e retornar com as colunas em português."
      ]
    },
    {
      "cell_type": "code",
      "metadata": {
        "id": "vIgCcj0hyqIx",
        "outputId": "66dacc9a-df03-43bd-88f1-dad27c980480"
      },
      "source": [
        "query = \"\"\"\n",
        "    SELECT FirstName AS 'Primeiro Nome', LastName AS 'Ultimo Nome'\n",
        "    FROM Person.Person\n",
        "        \"\"\"\n",
        "pd.read_sql(query, conn)"
      ],
      "execution_count": 42,
      "outputs": [
        {
          "output_type": "execute_result",
          "data": {
            "text/plain": [
              "      Primeiro Nome  Ultimo Nome\n",
              "0              Syed        Abbas\n",
              "1         Catherine         Abel\n",
              "2               Kim  Abercrombie\n",
              "3               Kim  Abercrombie\n",
              "4               Kim  Abercrombie\n",
              "...             ...          ...\n",
              "19967      Patricia       Zubaty\n",
              "19968          Judy     Zugelder\n",
              "19969          Jake     Zukowski\n",
              "19970       Michael     Zwilling\n",
              "19971       Michael     Zwilling\n",
              "\n",
              "[19972 rows x 2 columns]"
            ],
            "text/html": "<div>\n<style scoped>\n    .dataframe tbody tr th:only-of-type {\n        vertical-align: middle;\n    }\n\n    .dataframe tbody tr th {\n        vertical-align: top;\n    }\n\n    .dataframe thead th {\n        text-align: right;\n    }\n</style>\n<table border=\"1\" class=\"dataframe\">\n  <thead>\n    <tr style=\"text-align: right;\">\n      <th></th>\n      <th>Primeiro Nome</th>\n      <th>Ultimo Nome</th>\n    </tr>\n  </thead>\n  <tbody>\n    <tr>\n      <th>0</th>\n      <td>Syed</td>\n      <td>Abbas</td>\n    </tr>\n    <tr>\n      <th>1</th>\n      <td>Catherine</td>\n      <td>Abel</td>\n    </tr>\n    <tr>\n      <th>2</th>\n      <td>Kim</td>\n      <td>Abercrombie</td>\n    </tr>\n    <tr>\n      <th>3</th>\n      <td>Kim</td>\n      <td>Abercrombie</td>\n    </tr>\n    <tr>\n      <th>4</th>\n      <td>Kim</td>\n      <td>Abercrombie</td>\n    </tr>\n    <tr>\n      <th>...</th>\n      <td>...</td>\n      <td>...</td>\n    </tr>\n    <tr>\n      <th>19967</th>\n      <td>Patricia</td>\n      <td>Zubaty</td>\n    </tr>\n    <tr>\n      <th>19968</th>\n      <td>Judy</td>\n      <td>Zugelder</td>\n    </tr>\n    <tr>\n      <th>19969</th>\n      <td>Jake</td>\n      <td>Zukowski</td>\n    </tr>\n    <tr>\n      <th>19970</th>\n      <td>Michael</td>\n      <td>Zwilling</td>\n    </tr>\n    <tr>\n      <th>19971</th>\n      <td>Michael</td>\n      <td>Zwilling</td>\n    </tr>\n  </tbody>\n</table>\n<p>19972 rows × 2 columns</p>\n</div>"
          },
          "metadata": {},
          "execution_count": 42
        }
      ]
    },
    {
      "cell_type": "markdown",
      "metadata": {
        "id": "9Ymp0LHfyqIy"
      },
      "source": [
        "### Desafio 2 \n",
        "\n",
        "Encontrar o coluna ProductNumber da tabela Production.product e renomear para \"Numero do produto\"."
      ]
    },
    {
      "cell_type": "code",
      "metadata": {
        "id": "lPhtYtUUyqIy",
        "outputId": "037f14b6-dcb3-417d-caa6-a75816a2c1c7"
      },
      "source": [
        "query = \"\"\"\n",
        "    SELECT ProductNumber as \"Numero do Produto\"\n",
        "    FROM Production.Product\n",
        "        \"\"\"\n",
        "pd.read_sql(query, conn)"
      ],
      "execution_count": 43,
      "outputs": [
        {
          "output_type": "execute_result",
          "data": {
            "text/plain": [
              "    Numero do Produto\n",
              "0             AR-5381\n",
              "1             BA-8327\n",
              "2             BB-7421\n",
              "3             BB-8107\n",
              "4             BB-9108\n",
              "..                ...\n",
              "499           TT-T092\n",
              "500         VE-C304-L\n",
              "501         VE-C304-M\n",
              "502         VE-C304-S\n",
              "503           WB-H098\n",
              "\n",
              "[504 rows x 1 columns]"
            ],
            "text/html": "<div>\n<style scoped>\n    .dataframe tbody tr th:only-of-type {\n        vertical-align: middle;\n    }\n\n    .dataframe tbody tr th {\n        vertical-align: top;\n    }\n\n    .dataframe thead th {\n        text-align: right;\n    }\n</style>\n<table border=\"1\" class=\"dataframe\">\n  <thead>\n    <tr style=\"text-align: right;\">\n      <th></th>\n      <th>Numero do Produto</th>\n    </tr>\n  </thead>\n  <tbody>\n    <tr>\n      <th>0</th>\n      <td>AR-5381</td>\n    </tr>\n    <tr>\n      <th>1</th>\n      <td>BA-8327</td>\n    </tr>\n    <tr>\n      <th>2</th>\n      <td>BB-7421</td>\n    </tr>\n    <tr>\n      <th>3</th>\n      <td>BB-8107</td>\n    </tr>\n    <tr>\n      <th>4</th>\n      <td>BB-9108</td>\n    </tr>\n    <tr>\n      <th>...</th>\n      <td>...</td>\n    </tr>\n    <tr>\n      <th>499</th>\n      <td>TT-T092</td>\n    </tr>\n    <tr>\n      <th>500</th>\n      <td>VE-C304-L</td>\n    </tr>\n    <tr>\n      <th>501</th>\n      <td>VE-C304-M</td>\n    </tr>\n    <tr>\n      <th>502</th>\n      <td>VE-C304-S</td>\n    </tr>\n    <tr>\n      <th>503</th>\n      <td>WB-H098</td>\n    </tr>\n  </tbody>\n</table>\n<p>504 rows × 1 columns</p>\n</div>"
          },
          "metadata": {},
          "execution_count": 43
        }
      ]
    },
    {
      "cell_type": "markdown",
      "metadata": {
        "id": "LZKdp0CXyqIz"
      },
      "source": [
        "### Desafio 3\n",
        "\n",
        "Encontrar o coluna UnitPrice da tabela Sales.SalesOrderDetail e renomear para \"Preço Unitário\"."
      ]
    },
    {
      "cell_type": "code",
      "metadata": {
        "id": "Ts3qG-eryqIz",
        "outputId": "55cac98d-ea53-4f06-b3e2-556690a60296"
      },
      "source": [
        "query = \"\"\"\n",
        "    SELECT UnitPrice as \"Preço Unitário\"\n",
        "    FROM Sales.SalesOrderDetail\n",
        "        \"\"\"\n",
        "pd.read_sql(query, conn)"
      ],
      "execution_count": 44,
      "outputs": [
        {
          "output_type": "execute_result",
          "data": {
            "text/plain": [
              "        Preço Unitário\n",
              "0             2024.994\n",
              "1             2024.994\n",
              "2             2024.994\n",
              "3             2039.994\n",
              "4             2039.994\n",
              "...                ...\n",
              "121312          21.980\n",
              "121313           8.990\n",
              "121314          21.980\n",
              "121315         159.000\n",
              "121316           8.990\n",
              "\n",
              "[121317 rows x 1 columns]"
            ],
            "text/html": "<div>\n<style scoped>\n    .dataframe tbody tr th:only-of-type {\n        vertical-align: middle;\n    }\n\n    .dataframe tbody tr th {\n        vertical-align: top;\n    }\n\n    .dataframe thead th {\n        text-align: right;\n    }\n</style>\n<table border=\"1\" class=\"dataframe\">\n  <thead>\n    <tr style=\"text-align: right;\">\n      <th></th>\n      <th>Preço Unitário</th>\n    </tr>\n  </thead>\n  <tbody>\n    <tr>\n      <th>0</th>\n      <td>2024.994</td>\n    </tr>\n    <tr>\n      <th>1</th>\n      <td>2024.994</td>\n    </tr>\n    <tr>\n      <th>2</th>\n      <td>2024.994</td>\n    </tr>\n    <tr>\n      <th>3</th>\n      <td>2039.994</td>\n    </tr>\n    <tr>\n      <th>4</th>\n      <td>2039.994</td>\n    </tr>\n    <tr>\n      <th>...</th>\n      <td>...</td>\n    </tr>\n    <tr>\n      <th>121312</th>\n      <td>21.980</td>\n    </tr>\n    <tr>\n      <th>121313</th>\n      <td>8.990</td>\n    </tr>\n    <tr>\n      <th>121314</th>\n      <td>21.980</td>\n    </tr>\n    <tr>\n      <th>121315</th>\n      <td>159.000</td>\n    </tr>\n    <tr>\n      <th>121316</th>\n      <td>8.990</td>\n    </tr>\n  </tbody>\n</table>\n<p>121317 rows × 1 columns</p>\n</div>"
          },
          "metadata": {},
          "execution_count": 44
        }
      ]
    },
    {
      "cell_type": "code",
      "execution_count": null,
      "metadata": {},
      "outputs": [],
      "source": []
    }
  ]
}